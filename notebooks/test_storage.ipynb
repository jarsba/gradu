{
 "cells": [
  {
   "cell_type": "code",
   "execution_count": 1,
   "id": "8105cf59",
   "metadata": {},
   "outputs": [],
   "source": [
    "import sys\n",
    "sys.path.append(\"/home/jarlehti/projects/gradu\")"
   ]
  },
  {
   "cell_type": "code",
   "execution_count": 2,
   "id": "67a3455e",
   "metadata": {},
   "outputs": [],
   "source": [
    "import pandas as pd\n",
    "from time import sleep\n",
    "from src.utils.experiment_storage import ExperimentStorage\n",
    "import numpy as np"
   ]
  },
  {
   "cell_type": "code",
   "execution_count": 3,
   "id": "792f44ed",
   "metadata": {},
   "outputs": [],
   "source": [
    "mode = \"append\"\n",
    "storage_file_path = \"/tmp/storage.csv\"\n",
    "storage = ExperimentStorage(file_path=storage_file_path, mode=mode)"
   ]
  },
  {
   "cell_type": "code",
   "execution_count": 4,
   "id": "3852eef9",
   "metadata": {},
   "outputs": [],
   "source": [
    "experiment_id = \"testi1\"\n",
    "storage.store(experiment_id, {\n",
    "    'lambdas': np.array([0, 1, 2, 3, 4, 5]),\n",
    "    'diverging': np.array([True, False, False, True]),\n",
    "    'r_hat': np.array([1.0, 1.01, 0.99, 0.97])\n",
    "})"
   ]
  },
  {
   "cell_type": "code",
   "execution_count": 5,
   "id": "2f1a7a29",
   "metadata": {},
   "outputs": [],
   "source": [
    "experiment_id = \"testi2\"\n",
    "storage.store(experiment_id, {\n",
    "    'lambdas': np.array([6, 7, 8, 9, 10, 11, 12]),\n",
    "    'diverging': np.array([False, True, True, False]),\n",
    "    'r_hat': np.array([0.99, 0.98, 1.00, 1.01, 1.02])\n",
    "})"
   ]
  },
  {
   "cell_type": "code",
   "execution_count": 6,
   "id": "e684824d",
   "metadata": {},
   "outputs": [],
   "source": [
    "storage.save(index=False)"
   ]
  },
  {
   "cell_type": "code",
   "execution_count": 7,
   "id": "7effa99d",
   "metadata": {},
   "outputs": [],
   "source": [
    "storage_df = pd.read_csv(storage_file_path)"
   ]
  },
  {
   "cell_type": "code",
   "execution_count": 8,
   "id": "dac00418",
   "metadata": {},
   "outputs": [
    {
     "data": {
      "text/html": [
       "<div>\n",
       "<style scoped>\n",
       "    .dataframe tbody tr th:only-of-type {\n",
       "        vertical-align: middle;\n",
       "    }\n",
       "\n",
       "    .dataframe tbody tr th {\n",
       "        vertical-align: top;\n",
       "    }\n",
       "\n",
       "    .dataframe thead th {\n",
       "        text-align: right;\n",
       "    }\n",
       "</style>\n",
       "<table border=\"1\" class=\"dataframe\">\n",
       "  <thead>\n",
       "    <tr style=\"text-align: right;\">\n",
       "      <th></th>\n",
       "      <th>experiment_id</th>\n",
       "      <th>lambdas</th>\n",
       "      <th>diverging</th>\n",
       "      <th>r_hat</th>\n",
       "    </tr>\n",
       "  </thead>\n",
       "  <tbody>\n",
       "    <tr>\n",
       "      <th>0</th>\n",
       "      <td>testi1</td>\n",
       "      <td>[0 1 2 3 4 5]</td>\n",
       "      <td>[ True False False  True]</td>\n",
       "      <td>[1.   1.01 0.99 0.97]</td>\n",
       "    </tr>\n",
       "    <tr>\n",
       "      <th>1</th>\n",
       "      <td>testi2</td>\n",
       "      <td>[ 6  7  8  9 10 11 12]</td>\n",
       "      <td>[False  True  True False]</td>\n",
       "      <td>[0.99 0.98 1.   1.01 1.02]</td>\n",
       "    </tr>\n",
       "  </tbody>\n",
       "</table>\n",
       "</div>"
      ],
      "text/plain": [
       "  experiment_id                 lambdas                  diverging  \\\n",
       "0        testi1           [0 1 2 3 4 5]  [ True False False  True]   \n",
       "1        testi2  [ 6  7  8  9 10 11 12]  [False  True  True False]   \n",
       "\n",
       "                        r_hat  \n",
       "0       [1.   1.01 0.99 0.97]  \n",
       "1  [0.99 0.98 1.   1.01 1.02]  "
      ]
     },
     "execution_count": 8,
     "metadata": {},
     "output_type": "execute_result"
    }
   ],
   "source": [
    "storage_df"
   ]
  },
  {
   "cell_type": "code",
   "execution_count": null,
   "id": "1d4928c5",
   "metadata": {},
   "outputs": [],
   "source": []
  }
 ],
 "metadata": {
  "kernelspec": {
   "display_name": "gradu",
   "language": "python",
   "name": "gradu"
  },
  "language_info": {
   "codemirror_mode": {
    "name": "ipython",
    "version": 3
   },
   "file_extension": ".py",
   "mimetype": "text/x-python",
   "name": "python",
   "nbconvert_exporter": "python",
   "pygments_lexer": "ipython3",
   "version": "3.8.10"
  }
 },
 "nbformat": 4,
 "nbformat_minor": 5
}
