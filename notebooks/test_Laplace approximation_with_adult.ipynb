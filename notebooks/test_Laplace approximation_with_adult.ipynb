{
 "cells": [
  {
   "cell_type": "code",
   "execution_count": 1,
   "id": "45d940fe",
   "metadata": {},
   "outputs": [],
   "source": [
    "import sys\n",
    "sys.path.append(\"/home/jarlehti/projects/gradu\")"
   ]
  },
  {
   "cell_type": "code",
   "execution_count": 2,
   "id": "f6cbba46",
   "metadata": {},
   "outputs": [],
   "source": [
    "import os\n",
    "import jax\n",
    "import jax.numpy as jnp\n",
    "import numpy as np\n",
    "import pandas as pd\n",
    "import d3p\n",
    "from src.napsu_mq.napsu_mq import NapsuMQModel, NapsuMQResult\n",
    "from src.utils.preprocess_dataset import get_adult_train_small, get_adult_train_large"
   ]
  },
  {
   "cell_type": "code",
   "execution_count": 3,
   "id": "89f29f83",
   "metadata": {},
   "outputs": [],
   "source": [
    "CURRENT_FOLDER = os.path.dirname(os.path.dirname(os.path.abspath(__name__)))\n",
    "DATASETS_FOLDER = os.path.join(CURRENT_FOLDER, \"data\", \"datasets\")\n",
    "MODELS = os.path.join(CURRENT_FOLDER, \"models\")"
   ]
  },
  {
   "cell_type": "code",
   "execution_count": 4,
   "id": "1dc27f8a",
   "metadata": {},
   "outputs": [],
   "source": [
    "rng = jax.random.PRNGKey(32346234634265345)"
   ]
  },
  {
   "cell_type": "code",
   "execution_count": 5,
   "id": "aafb3cc3",
   "metadata": {},
   "outputs": [],
   "source": [
    "adult_small = get_adult_train_small(DATASETS_FOLDER)"
   ]
  },
  {
   "cell_type": "code",
   "execution_count": 6,
   "id": "0a800702",
   "metadata": {},
   "outputs": [
    {
     "data": {
      "text/html": [
       "<div>\n",
       "<style scoped>\n",
       "    .dataframe tbody tr th:only-of-type {\n",
       "        vertical-align: middle;\n",
       "    }\n",
       "\n",
       "    .dataframe tbody tr th {\n",
       "        vertical-align: top;\n",
       "    }\n",
       "\n",
       "    .dataframe thead th {\n",
       "        text-align: right;\n",
       "    }\n",
       "</style>\n",
       "<table border=\"1\" class=\"dataframe\">\n",
       "  <thead>\n",
       "    <tr style=\"text-align: right;\">\n",
       "      <th></th>\n",
       "      <th>age</th>\n",
       "      <th>education-num</th>\n",
       "      <th>marital-status</th>\n",
       "      <th>sex</th>\n",
       "      <th>hours-per-week</th>\n",
       "      <th>compensation</th>\n",
       "    </tr>\n",
       "  </thead>\n",
       "  <tbody>\n",
       "    <tr>\n",
       "      <th>0</th>\n",
       "      <td>35 - 40</td>\n",
       "      <td>13</td>\n",
       "      <td>Never-married</td>\n",
       "      <td>Male</td>\n",
       "      <td>40 - 45</td>\n",
       "      <td>0</td>\n",
       "    </tr>\n",
       "    <tr>\n",
       "      <th>1</th>\n",
       "      <td>50 - 55</td>\n",
       "      <td>13</td>\n",
       "      <td>Married-civ-spouse</td>\n",
       "      <td>Male</td>\n",
       "      <td>10 - 15</td>\n",
       "      <td>0</td>\n",
       "    </tr>\n",
       "    <tr>\n",
       "      <th>2</th>\n",
       "      <td>35 - 40</td>\n",
       "      <td>9</td>\n",
       "      <td>Divorced</td>\n",
       "      <td>Male</td>\n",
       "      <td>40 - 45</td>\n",
       "      <td>0</td>\n",
       "    </tr>\n",
       "    <tr>\n",
       "      <th>3</th>\n",
       "      <td>50 - 55</td>\n",
       "      <td>7</td>\n",
       "      <td>Married-civ-spouse</td>\n",
       "      <td>Male</td>\n",
       "      <td>40 - 45</td>\n",
       "      <td>0</td>\n",
       "    </tr>\n",
       "    <tr>\n",
       "      <th>4</th>\n",
       "      <td>25 - 30</td>\n",
       "      <td>13</td>\n",
       "      <td>Married-civ-spouse</td>\n",
       "      <td>Female</td>\n",
       "      <td>40 - 45</td>\n",
       "      <td>0</td>\n",
       "    </tr>\n",
       "    <tr>\n",
       "      <th>...</th>\n",
       "      <td>...</td>\n",
       "      <td>...</td>\n",
       "      <td>...</td>\n",
       "      <td>...</td>\n",
       "      <td>...</td>\n",
       "      <td>...</td>\n",
       "    </tr>\n",
       "    <tr>\n",
       "      <th>30157</th>\n",
       "      <td>25 - 30</td>\n",
       "      <td>12</td>\n",
       "      <td>Married-civ-spouse</td>\n",
       "      <td>Female</td>\n",
       "      <td>35 - 40</td>\n",
       "      <td>0</td>\n",
       "    </tr>\n",
       "    <tr>\n",
       "      <th>30158</th>\n",
       "      <td>40 - 45</td>\n",
       "      <td>9</td>\n",
       "      <td>Married-civ-spouse</td>\n",
       "      <td>Male</td>\n",
       "      <td>40 - 45</td>\n",
       "      <td>1</td>\n",
       "    </tr>\n",
       "    <tr>\n",
       "      <th>30159</th>\n",
       "      <td>55 - 60</td>\n",
       "      <td>9</td>\n",
       "      <td>Widowed</td>\n",
       "      <td>Female</td>\n",
       "      <td>40 - 45</td>\n",
       "      <td>0</td>\n",
       "    </tr>\n",
       "    <tr>\n",
       "      <th>30160</th>\n",
       "      <td>20 - 25</td>\n",
       "      <td>9</td>\n",
       "      <td>Never-married</td>\n",
       "      <td>Male</td>\n",
       "      <td>20 - 25</td>\n",
       "      <td>0</td>\n",
       "    </tr>\n",
       "    <tr>\n",
       "      <th>30161</th>\n",
       "      <td>50 - 55</td>\n",
       "      <td>9</td>\n",
       "      <td>Married-civ-spouse</td>\n",
       "      <td>Female</td>\n",
       "      <td>40 - 45</td>\n",
       "      <td>1</td>\n",
       "    </tr>\n",
       "  </tbody>\n",
       "</table>\n",
       "<p>30162 rows × 6 columns</p>\n",
       "</div>"
      ],
      "text/plain": [
       "           age education-num      marital-status     sex hours-per-week  \\\n",
       "0      35 - 40            13       Never-married    Male        40 - 45   \n",
       "1      50 - 55            13  Married-civ-spouse    Male        10 - 15   \n",
       "2      35 - 40             9            Divorced    Male        40 - 45   \n",
       "3      50 - 55             7  Married-civ-spouse    Male        40 - 45   \n",
       "4      25 - 30            13  Married-civ-spouse  Female        40 - 45   \n",
       "...        ...           ...                 ...     ...            ...   \n",
       "30157  25 - 30            12  Married-civ-spouse  Female        35 - 40   \n",
       "30158  40 - 45             9  Married-civ-spouse    Male        40 - 45   \n",
       "30159  55 - 60             9             Widowed  Female        40 - 45   \n",
       "30160  20 - 25             9       Never-married    Male        20 - 25   \n",
       "30161  50 - 55             9  Married-civ-spouse  Female        40 - 45   \n",
       "\n",
       "      compensation  \n",
       "0                0  \n",
       "1                0  \n",
       "2                0  \n",
       "3                0  \n",
       "4                0  \n",
       "...            ...  \n",
       "30157            0  \n",
       "30158            1  \n",
       "30159            0  \n",
       "30160            0  \n",
       "30161            1  \n",
       "\n",
       "[30162 rows x 6 columns]"
      ]
     },
     "execution_count": 6,
     "metadata": {},
     "output_type": "execute_result"
    }
   ],
   "source": [
    "adult_small"
   ]
  },
  {
   "cell_type": "code",
   "execution_count": 7,
   "id": "a5a8ab3e",
   "metadata": {},
   "outputs": [
    {
     "data": {
      "text/plain": [
       "age               category\n",
       "education-num     category\n",
       "marital-status    category\n",
       "sex               category\n",
       "hours-per-week    category\n",
       "compensation      category\n",
       "dtype: object"
      ]
     },
     "execution_count": 7,
     "metadata": {},
     "output_type": "execute_result"
    }
   ],
   "source": [
    "adult_small.dtypes"
   ]
  },
  {
   "cell_type": "code",
   "execution_count": null,
   "id": "111c3ed0",
   "metadata": {},
   "outputs": [
    {
     "name": "stdout",
     "output_type": "stream",
     "text": [
      "Testing Laplace approximation and MCMC with columns: ['age', 'compensation']\n",
      "No experiment_id found: <ContextVar name='experiment_id' at 0x7fbb70f2a720>\n",
      "Setting experiment_id to L2PZ6VBQ\n",
      "(30162, 2)\n",
      "Dataframe data n: 30162\n",
      "Dataframe data d: 2\n",
      "Domain size: 40\n",
      "30162\n",
      "2\n",
      "Recording:  Query selection\n",
      "start MST selection\n",
      "end MST selection\n",
      "Recording:  Calculating full marginal query\n",
      "Recording:  Calculating canonical query set\n",
      "Calculating canonical queries\n"
     ]
    },
    {
     "name": "stderr",
     "output_type": "stream",
     "text": [
      "  0%|                                                                                                                 | 0/4 [00:00<?, ?it/s]\n",
      "20it [00:00, 42027.09it/s]\n",
      "\n",
      "2it [00:00, 18808.54it/s]\n",
      "\n",
      "40it [00:00, 23851.60it/s]\n",
      "100%|████████████████████████████████████████████████████████████████████████████████████████████████████████| 4/4 [00:00<00:00, 514.89it/s]\n",
      "100%|██████████████████████████████████████████████████████████████████████████████████████████████████████| 1/1 [00:00<00:00, 15477.14it/s]\n"
     ]
    },
    {
     "name": "stdout",
     "output_type": "stream",
     "text": [
      "Calculating new queries\n"
     ]
    },
    {
     "name": "stderr",
     "output_type": "stream",
     "text": [
      "100%|████████████████████████████████████████████████████████████████████████████████████████████████████| 20/20 [00:00<00:00, 47907.53it/s]"
     ]
    },
    {
     "name": "stdout",
     "output_type": "stream",
     "text": [
      "Canonical queries: 39\n",
      "Domain d: 2\n",
      "Nodes after elimination: {('age',), ('compensation', 'age')}\n",
      "Edges after elimination: {(('compensation', 'age'), ('age',)): {'age'}}\n",
      "Nodes after removing: {('compensation', 'age')}\n",
      "Edges after removing: {}\n",
      "Suff stat d: 39\n",
      "Lambda d: 39\n",
      "Recording:  Calculating lambda0\n"
     ]
    },
    {
     "name": "stderr",
     "output_type": "stream",
     "text": [
      "\n"
     ]
    },
    {
     "name": "stdout",
     "output_type": "stream",
     "text": [
      "{'experiment_id': 'L2PZ6VBQ', 'start': 427948.027620747, 'stop': 427948.292537682, 'timedelta': 0.2649169350042939, 'task': 'Calculating lambda0', 'dataset_name': 'adult_small', 'query_str': 'empty', 'query_list': [], 'epsilon': 50, 'delta': 1.0992076159646117e-09, 'MCMC_algo': 'NUTS', 'laplace_approximation': True, 'missing_query': None, 'discretization': None, 'n_canonical_queries': 39}\n",
      "Recording:  Calculating lambda0\n",
      "{'experiment_id': 'L2PZ6VBQ', 'start': 427948.292616976, 'stop': 427950.831624764, 'timedelta': 2.5390077880001627, 'task': 'Calculating lambda0', 'dataset_name': 'adult_small', 'query_str': 'empty', 'query_list': [], 'epsilon': 50, 'delta': 1.0992076159646117e-09, 'MCMC_algo': 'NUTS', 'laplace_approximation': True, 'missing_query': None, 'discretization': None, 'n_canonical_queries': 39}\n",
      "[]\n",
      "0\n",
      "Junction tree width: 0\n",
      "(39,)\n",
      "0.24685422448289715\n",
      "Recording:  Laplace approximation\n",
      "Started Jaxopt Laplace approximation\n",
      "Attempting Laplace approximation, 0th try\n",
      "Initialising model done\n",
      "Minimising potential function\n"
     ]
    },
    {
     "name": "stderr",
     "output_type": "stream",
     "text": [
      "2023-03-13 13:29:36.565918: E external/org_tensorflow/tensorflow/compiler/xla/service/slow_operation_alarm.cc:65] \n",
      "********************************\n",
      "[Compiling module jit_prim_fun.104] Very slow compile?  If you want to file a bug, run with envvar XLA_FLAGS=--xla_dump_to=/tmp/foo and attach the results.\n",
      "********************************\n",
      "2023-03-13 13:30:00.051622: E external/org_tensorflow/tensorflow/compiler/xla/service/slow_operation_alarm.cc:133] The operation took 2m23.485779777s\n",
      "\n",
      "********************************\n",
      "[Compiling module jit_prim_fun.104] Very slow compile?  If you want to file a bug, run with envvar XLA_FLAGS=--xla_dump_to=/tmp/foo and attach the results.\n",
      "********************************\n",
      "2023-03-13 13:42:13.644105: E external/org_tensorflow/tensorflow/compiler/xla/service/slow_operation_alarm.cc:133] The operation took 7m36.482896603s\n",
      "\n",
      "********************************\n",
      "[Compiling module jit_prim_fun.137] Very slow compile?  If you want to file a bug, run with envvar XLA_FLAGS=--xla_dump_to=/tmp/foo and attach the results.\n",
      "********************************\n"
     ]
    },
    {
     "name": "stdout",
     "output_type": "stream",
     "text": [
      "Failed linesearch, try again\n",
      "Attempting Laplace approximation, 1th try\n",
      "Initialising model done\n",
      "Minimising potential function\n"
     ]
    },
    {
     "name": "stderr",
     "output_type": "stream",
     "text": [
      "2023-03-13 13:45:56.495351: E external/org_tensorflow/tensorflow/compiler/xla/service/slow_operation_alarm.cc:133] The operation took 2m24.731889187s\n",
      "\n",
      "********************************\n",
      "[Compiling module jit_prim_fun.145] Very slow compile?  If you want to file a bug, run with envvar XLA_FLAGS=--xla_dump_to=/tmp/foo and attach the results.\n",
      "********************************\n",
      "2023-03-13 13:52:39.455021: E external/org_tensorflow/tensorflow/compiler/xla/service/slow_operation_alarm.cc:65] \n",
      "********************************\n",
      "[Compiling module jit_prim_fun.147] Very slow compile?  If you want to file a bug, run with envvar XLA_FLAGS=--xla_dump_to=/tmp/foo and attach the results.\n",
      "********************************\n",
      "2023-03-13 13:58:19.338523: E external/org_tensorflow/tensorflow/compiler/xla/service/slow_operation_alarm.cc:133] The operation took 7m39.883661075s\n",
      "\n",
      "********************************\n",
      "[Compiling module jit_prim_fun.147] Very slow compile?  If you want to file a bug, run with envvar XLA_FLAGS=--xla_dump_to=/tmp/foo and attach the results.\n",
      "********************************\n"
     ]
    },
    {
     "name": "stdout",
     "output_type": "stream",
     "text": [
      "Failed linesearch, try again\n",
      "Attempting Laplace approximation, 2th try\n",
      "Initialising model done\n",
      "Minimising potential function\n"
     ]
    },
    {
     "name": "stderr",
     "output_type": "stream",
     "text": [
      "2023-03-13 14:02:05.431296: E external/org_tensorflow/tensorflow/compiler/xla/service/slow_operation_alarm.cc:133] The operation took 2m26.56849226s\n",
      "\n",
      "********************************\n",
      "[Compiling module jit_prim_fun.150] Very slow compile?  If you want to file a bug, run with envvar XLA_FLAGS=--xla_dump_to=/tmp/foo and attach the results.\n",
      "********************************\n",
      "2023-03-13 14:08:48.467687: E external/org_tensorflow/tensorflow/compiler/xla/service/slow_operation_alarm.cc:65] \n",
      "********************************\n",
      "[Compiling module jit_prim_fun.152] Very slow compile?  If you want to file a bug, run with envvar XLA_FLAGS=--xla_dump_to=/tmp/foo and attach the results.\n",
      "********************************\n",
      "2023-03-13 14:14:26.969491: E external/org_tensorflow/tensorflow/compiler/xla/service/slow_operation_alarm.cc:133] The operation took 7m38.501968301s\n",
      "\n",
      "********************************\n",
      "[Compiling module jit_prim_fun.152] Very slow compile?  If you want to file a bug, run with envvar XLA_FLAGS=--xla_dump_to=/tmp/foo and attach the results.\n",
      "********************************\n"
     ]
    },
    {
     "name": "stdout",
     "output_type": "stream",
     "text": [
      "Calculating Hessian\n",
      "Recording:  MCMC\n"
     ]
    },
    {
     "name": "stderr",
     "output_type": "stream",
     "text": [
      "/home/jarlehti/projects/gradu/src/napsu_mq/maximum_entropy_inference.py:149: UserWarning: There are not enough devices to run parallel chains: expected 4 but got 1. Chains will be drawn sequentially. If you are running MCMC in CPU, consider using `numpyro.set_host_device_count(4)` at the beginning of your program. You can double-check how many devices are available in your system using `jax.local_device_count()`.\n",
      "  mcmc = numpyro.infer.MCMC(\n"
     ]
    },
    {
     "name": "stdout",
     "output_type": "stream",
     "text": [
      "\n",
      "                      mean       std    median      5.0%     95.0%     n_eff     r_hat\n",
      " norm_lambdas[0]     -0.91      1.44     -0.64     -3.12      1.24   5479.73      1.00\n",
      " norm_lambdas[1]     -1.91      2.50     -1.39     -5.67      1.66   3814.66      1.00\n",
      " norm_lambdas[2]      0.73      1.51      0.80     -1.04      2.87    517.97      1.00\n",
      " norm_lambdas[3]      1.30      1.46      1.15     -0.97      3.33    935.31      1.00\n",
      " norm_lambdas[4]      0.25      1.02      0.25     -1.40      1.94   5754.60      1.00\n",
      " norm_lambdas[5]      0.07      1.01      0.06     -1.62      1.76  10358.86      1.00\n",
      " norm_lambdas[6]      0.03      1.00      0.02     -1.66      1.62   9693.72      1.00\n",
      " norm_lambdas[7]      0.01      1.02      0.02     -1.62      1.65  11568.98      1.00\n",
      " norm_lambdas[8]      0.03      1.00      0.04     -1.61      1.64  11009.16      1.00\n",
      " norm_lambdas[9]      0.02      0.99      0.03     -1.52      1.70   9855.51      1.00\n",
      "norm_lambdas[10]     -0.00      0.99      0.00     -1.58      1.66  11096.52      1.00\n",
      "norm_lambdas[11]      0.01      0.98      0.02     -1.56      1.66  11548.73      1.00\n",
      "norm_lambdas[12]      0.01      1.00      0.02     -1.65      1.65  10513.96      1.00\n",
      "norm_lambdas[13]     -0.00      1.00     -0.01     -1.57      1.69   9232.58      1.00\n",
      "norm_lambdas[14]     -0.00      0.99      0.00     -1.63      1.62  10970.83      1.00\n",
      "norm_lambdas[15]      0.01      0.96     -0.01     -1.52      1.61  10913.48      1.00\n",
      "norm_lambdas[16]     -0.99      1.43     -0.72     -3.20      1.06   4956.16      1.00\n",
      "norm_lambdas[17]      0.01      0.96      0.01     -1.61      1.55  10939.90      1.00\n",
      "norm_lambdas[18]     -1.15      1.49     -0.86     -3.39      0.96   4530.53      1.00\n",
      "norm_lambdas[19]     -0.98      1.40     -0.72     -3.10      1.10   5692.00      1.00\n",
      "norm_lambdas[20]     -1.07      1.46     -0.79     -3.28      1.06   5005.95      1.00\n",
      "norm_lambdas[21]      0.01      1.00      0.01     -1.64      1.61  11033.52      1.00\n",
      "norm_lambdas[22]      0.02      1.00      0.03     -1.73      1.58   9817.84      1.00\n",
      "norm_lambdas[23]      0.01      1.01      0.02     -1.66      1.64  10880.53      1.00\n",
      "norm_lambdas[24]      0.02      0.99      0.04     -1.63      1.61   9480.17      1.00\n",
      "norm_lambdas[25]      0.00      1.01     -0.00     -1.73      1.56  10089.67      1.00\n",
      "norm_lambdas[26]     -0.00      1.00     -0.00     -1.64      1.65  11094.36      1.00\n",
      "norm_lambdas[27]     -0.00      0.98     -0.02     -1.60      1.61  10983.29      1.00\n",
      "norm_lambdas[28]     -0.01      0.99     -0.00     -1.74      1.54   8816.36      1.00\n",
      "norm_lambdas[29]      0.02      0.99      0.00     -1.60      1.64  11837.20      1.00\n",
      "norm_lambdas[30]      0.00      1.01     -0.00     -1.61      1.71   9792.80      1.00\n",
      "norm_lambdas[31]      0.01      0.99      0.01     -1.60      1.65  10270.77      1.00\n",
      "norm_lambdas[32]      0.00      0.99      0.01     -1.63      1.63  10330.84      1.00\n",
      "norm_lambdas[33]     -0.01      1.00     -0.01     -1.66      1.62   9813.12      1.00\n",
      "norm_lambdas[34]      0.00      1.00     -0.00     -1.66      1.57  10512.68      1.00\n",
      "norm_lambdas[35]     -0.01      0.97     -0.02     -1.65      1.53  10019.10      1.00\n",
      "norm_lambdas[36]      0.00      0.97      0.01     -1.58      1.60  10398.56      1.00\n",
      "norm_lambdas[37]     -1.04      1.46     -0.74     -3.27      1.08   4994.24      1.00\n",
      "norm_lambdas[38]     -1.05      1.44     -0.77     -3.30      1.05   5305.65      1.00\n",
      "\n",
      "Number of divergences: 4\n",
      "[norm_lambdas]\t max r_hat: 0.9923\n",
      "Potential energy\tmin: [321.34872437   0.           0.           0.        ]\tmax: [350.99108887   0.           0.           0.        ]\tmean: [332.89376831   0.           0.           0.        ]\tstd: [4.2375536 0.        0.        0.       ]\n",
      "Acceptance probability\tmin: [2.3824237e-10 0.0000000e+00 0.0000000e+00 0.0000000e+00]\tmax: [1. 0. 0. 0.]\tmean: [0.90140241 0.         0.         0.        ]\tstd: [0.16070387 0.         0.         0.        ]\n",
      "Mean acceptance probability\tmin: [0.83634365 0.         0.         0.        ]\tmax: [0.98551875 0.         0.         0.        ]\tmean: [0.89899683 0.         0.         0.        ]\tstd: [0.00785856 0.         0.         0.        ]\n",
      "Diverging\tmin: [0. 0. 0. 0.]\tmax: [0. 0. 0. 0.]\tmean: [0. 0. 0. 0.]\tstd: [0. 0. 0. 0.]\n",
      "Testing Laplace approximation and MCMC with columns: ['age', 'education-num', 'compensation']\n",
      "(30162, 3)\n",
      "Dataframe data n: 30162\n",
      "Dataframe data d: 3\n",
      "Domain size: 640\n",
      "30162\n",
      "3\n",
      "Recording:  Query selection\n",
      "start MST selection\n",
      "end MST selection\n",
      "Recording:  Calculating full marginal query\n",
      "Recording:  Calculating canonical query set\n",
      "Calculating canonical queries\n"
     ]
    },
    {
     "name": "stderr",
     "output_type": "stream",
     "text": [
      "  0%|                                                                                                                 | 0/6 [00:00<?, ?it/s]\n",
      "2it [00:00, 13273.11it/s]\n",
      "\n",
      "32it [00:00, 33123.82it/s]\n",
      "\n",
      "16it [00:00, 17028.38it/s]\n",
      "\n",
      "40it [00:00, 18367.87it/s]\n",
      "\n",
      "20it [00:00, 20651.42it/s]\n",
      "100%|████████████████████████████████████████████████████████████████████████████████████████████████████████| 6/6 [00:00<00:00, 437.58it/s]\n",
      "100%|██████████████████████████████████████████████████████████████████████████████████████████████████████| 2/2 [00:00<00:00, 46345.90it/s]\n"
     ]
    },
    {
     "name": "stdout",
     "output_type": "stream",
     "text": [
      "Calculating new queries\n"
     ]
    },
    {
     "name": "stderr",
     "output_type": "stream",
     "text": [
      "100%|████████████████████████████████████████████████████████████████████████████████████████████████████| 35/35 [00:00<00:00, 36517.57it/s]"
     ]
    },
    {
     "name": "stdout",
     "output_type": "stream",
     "text": [
      "Canonical queries: 69\n",
      "Domain d: 3\n",
      "Nodes after elimination: {('compensation',), ('education-num', 'compensation'), ('compensation', 'age')}\n",
      "Edges after elimination: {(('education-num', 'compensation'), ('compensation',)): {'compensation'}, (('compensation', 'age'), ('compensation',)): {'compensation'}}\n",
      "Nodes after removing: {('education-num', 'compensation'), ('compensation', 'age')}\n",
      "Edges after removing: {(('education-num', 'compensation'), ('compensation', 'age')): {'compensation'}}\n",
      "Suff stat d: 69\n",
      "Lambda d: 69\n",
      "Recording:  Calculating lambda0\n"
     ]
    },
    {
     "name": "stderr",
     "output_type": "stream",
     "text": [
      "\n"
     ]
    },
    {
     "name": "stdout",
     "output_type": "stream",
     "text": [
      "{'experiment_id': 'L2PZ6VBQ', 'start': 431032.993564738, 'stop': 431033.436578496, 'timedelta': 0.44301375799113885, 'task': 'Calculating lambda0', 'dataset_name': 'adult_small', 'query_str': 'empty', 'query_list': [], 'epsilon': 50, 'delta': 1.0992076159646117e-09, 'MCMC_algo': 'NUTS', 'laplace_approximation': True, 'missing_query': None, 'discretization': None, 'n_canonical_queries': 69}\n",
      "Recording:  Calculating lambda0\n",
      "{'experiment_id': 'L2PZ6VBQ', 'start': 431033.436666832, 'stop': 431037.646653186, 'timedelta': 4.209986353991553, 'task': 'Calculating lambda0', 'dataset_name': 'adult_small', 'query_str': 'empty', 'query_list': [], 'epsilon': 50, 'delta': 1.0992076159646117e-09, 'MCMC_algo': 'NUTS', 'laplace_approximation': True, 'missing_query': None, 'discretization': None, 'n_canonical_queries': 69}\n",
      "[TreeNode(variables=('compensation', 'age'), parent=('education-num', 'compensation'), children=[])]\n",
      "1\n",
      "Junction tree width: 1\n",
      "(69,)\n",
      "0.34910459219280565\n",
      "Recording:  Laplace approximation\n",
      "Started Jaxopt Laplace approximation\n",
      "Attempting Laplace approximation, 0th try\n",
      "Initialising model done\n",
      "Minimising potential function\n"
     ]
    },
    {
     "name": "stderr",
     "output_type": "stream",
     "text": [
      "2023-03-13 14:22:58.259600: E external/org_tensorflow/tensorflow/compiler/xla/service/slow_operation_alarm.cc:65] \n",
      "********************************\n",
      "[Compiling module jit_prim_fun.387] Very slow compile?  If you want to file a bug, run with envvar XLA_FLAGS=--xla_dump_to=/tmp/foo and attach the results.\n",
      "********************************\n",
      "2023-03-13 14:29:35.204699: E external/org_tensorflow/tensorflow/compiler/xla/service/slow_operation_alarm.cc:133] The operation took 8m36.945169522s\n",
      "\n",
      "********************************\n",
      "[Compiling module jit_prim_fun.387] Very slow compile?  If you want to file a bug, run with envvar XLA_FLAGS=--xla_dump_to=/tmp/foo and attach the results.\n",
      "********************************\n",
      "2023-03-13 14:51:28.478408: E external/org_tensorflow/tensorflow/compiler/xla/service/slow_operation_alarm.cc:65] \n",
      "********************************\n",
      "[Compiling module jit_prim_fun.394] Very slow compile?  If you want to file a bug, run with envvar XLA_FLAGS=--xla_dump_to=/tmp/foo and attach the results.\n",
      "********************************\n",
      "2023-03-13 15:22:28.270460: E external/org_tensorflow/tensorflow/compiler/xla/service/slow_operation_alarm.cc:133] The operation took 32m59.791045765s\n",
      "\n",
      "********************************\n",
      "[Compiling module jit_prim_fun.394] Very slow compile?  If you want to file a bug, run with envvar XLA_FLAGS=--xla_dump_to=/tmp/foo and attach the results.\n",
      "********************************\n"
     ]
    },
    {
     "name": "stdout",
     "output_type": "stream",
     "text": [
      "Failed linesearch, try again\n",
      "Attempting Laplace approximation, 1th try\n",
      "Initialising model done\n",
      "Minimising potential function\n"
     ]
    },
    {
     "name": "stderr",
     "output_type": "stream",
     "text": [
      "2023-03-13 15:36:32.316316: E external/org_tensorflow/tensorflow/compiler/xla/service/slow_operation_alarm.cc:133] The operation took 9m41.580129829s\n",
      "\n",
      "********************************\n",
      "[Compiling module jit_prim_fun.399] Very slow compile?  If you want to file a bug, run with envvar XLA_FLAGS=--xla_dump_to=/tmp/foo and attach the results.\n",
      "********************************\n",
      "2023-03-13 15:57:29.809419: E external/org_tensorflow/tensorflow/compiler/xla/service/slow_operation_alarm.cc:65] \n",
      "********************************\n",
      "[Compiling module jit_prim_fun.401] Very slow compile?  If you want to file a bug, run with envvar XLA_FLAGS=--xla_dump_to=/tmp/foo and attach the results.\n",
      "********************************\n",
      "2023-03-13 16:26:36.316781: E external/org_tensorflow/tensorflow/compiler/xla/service/slow_operation_alarm.cc:133] The operation took 31m6.507023942s\n",
      "\n",
      "********************************\n",
      "[Compiling module jit_prim_fun.401] Very slow compile?  If you want to file a bug, run with envvar XLA_FLAGS=--xla_dump_to=/tmp/foo and attach the results.\n",
      "********************************\n"
     ]
    },
    {
     "name": "stdout",
     "output_type": "stream",
     "text": [
      "Failed linesearch, try again\n",
      "Attempting Laplace approximation, 2th try\n",
      "Initialising model done\n",
      "Minimising potential function\n"
     ]
    },
    {
     "name": "stderr",
     "output_type": "stream",
     "text": [
      "2023-03-13 16:33:02.246476: E external/org_tensorflow/tensorflow/compiler/xla/service/slow_operation_alarm.cc:65] \n",
      "********************************\n",
      "[Compiling module jit_prim_fun.404] Very slow compile?  If you want to file a bug, run with envvar XLA_FLAGS=--xla_dump_to=/tmp/foo and attach the results.\n",
      "********************************\n",
      "2023-03-13 16:40:30.533513: E external/org_tensorflow/tensorflow/compiler/xla/service/slow_operation_alarm.cc:133] The operation took 9m28.286763745s\n",
      "\n",
      "********************************\n",
      "[Compiling module jit_prim_fun.404] Very slow compile?  If you want to file a bug, run with envvar XLA_FLAGS=--xla_dump_to=/tmp/foo and attach the results.\n",
      "********************************\n"
     ]
    }
   ],
   "source": [
    "n, d = adult_small.shape\n",
    "\n",
    "for i in range(1, len(adult_small.columns)):\n",
    "    columns = list(adult_small.columns)[0:i]\n",
    "    columns.extend(['compensation'])\n",
    "    print(f\"Testing Laplace approximation and MCMC with columns: {columns}\")\n",
    "    \n",
    "    adult_subset = adult_small[columns]\n",
    "    \n",
    "    columns_str = \"_\".join(columns)\n",
    "    \n",
    "    model = NapsuMQModel()\n",
    "    result, timer = model.fit(\n",
    "        data=adult_subset,\n",
    "        dataset_name=\"adult_small\",\n",
    "        rng=rng,\n",
    "        epsilon=50,\n",
    "        delta=(n ** (-2)),\n",
    "        column_feature_set=[],\n",
    "        use_laplace_approximation=True,\n",
    "        laplace_approximation_algorithm=\"jaxopt_LBFGS\",\n",
    "        return_timer = True,\n",
    "    )\n",
    "    \n",
    "    result_path = os.path.join(MODELS, f\"napsu_testing_adult_small_all_queries_{columns_str}_50e_LA.dill\")\n",
    "    timer.to_csv(f\"napsu_testing_timer_adult_small_all_queries_{columns_str}_50e_LA\")\n",
    "    result.store(result_path)"
   ]
  },
  {
   "cell_type": "code",
   "execution_count": null,
   "id": "c18553fe",
   "metadata": {},
   "outputs": [],
   "source": []
  }
 ],
 "metadata": {
  "kernelspec": {
   "display_name": "gradu",
   "language": "python",
   "name": "gradu"
  },
  "language_info": {
   "codemirror_mode": {
    "name": "ipython",
    "version": 3
   },
   "file_extension": ".py",
   "mimetype": "text/x-python",
   "name": "python",
   "nbconvert_exporter": "python",
   "pygments_lexer": "ipython3",
   "version": "3.8.10"
  }
 },
 "nbformat": 4,
 "nbformat_minor": 5
}
