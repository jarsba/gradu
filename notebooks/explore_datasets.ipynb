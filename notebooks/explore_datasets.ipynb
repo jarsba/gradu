{
 "cells": [
  {
   "cell_type": "code",
   "execution_count": 1,
   "id": "6be8493c",
   "metadata": {},
   "outputs": [],
   "source": [
    "import sys\n",
    "sys.path.append(\"/home/jarlehti/projects/gradu\")"
   ]
  },
  {
   "cell_type": "code",
   "execution_count": 2,
   "id": "2405457a",
   "metadata": {},
   "outputs": [],
   "source": [
    "import os\n",
    "import pickle\n",
    "import pandas as pd\n",
    "from src.utils.preprocess_dataset import get_adult_train_small"
   ]
  },
  {
   "cell_type": "code",
   "execution_count": 3,
   "id": "a54c1f55",
   "metadata": {},
   "outputs": [],
   "source": [
    "CURRENT_FOLDER = os.path.dirname(os.path.dirname(os.path.abspath(__name__)))\n",
    "SYN_DATA_FOLDER = os.path.join(CURRENT_FOLDER, \"data\", \"synt_datasets\")\n",
    "DATASETS_FOLDER = os.path.join(CURRENT_FOLDER, \"data\", \"datasets\")"
   ]
  },
  {
   "cell_type": "code",
   "execution_count": 5,
   "id": "7c9e673e",
   "metadata": {},
   "outputs": [],
   "source": [
    "file = open(os.path.join(SYN_DATA_FOLDER, \"synthetic_dataset_original_model_adult_small_10e_age+hours-per-week.pickle\"), \"rb\")\n",
    "synt_data_obj = pickle.load(file)\n",
    "file.close()"
   ]
  },
  {
   "cell_type": "code",
   "execution_count": 7,
   "id": "301d90f0",
   "metadata": {},
   "outputs": [],
   "source": [
    "data = pd.DataFrame(synt_data_obj.synth_data[25])"
   ]
  },
  {
   "cell_type": "code",
   "execution_count": 8,
   "id": "9da9aab4",
   "metadata": {},
   "outputs": [
    {
     "data": {
      "text/plain": [
       "3    30106\n",
       "2       56\n",
       "Name: 1, dtype: int64"
      ]
     },
     "execution_count": 8,
     "metadata": {},
     "output_type": "execute_result"
    }
   ],
   "source": [
    "data[1].value_counts()"
   ]
  },
  {
   "cell_type": "code",
   "execution_count": 14,
   "id": "a4598942",
   "metadata": {},
   "outputs": [
    {
     "data": {
      "text/plain": [
       "(75.4, 90.0]      22335\n",
       "(31.6, 46.2]       3346\n",
       "(60.8, 75.4]       1613\n",
       "(46.2, 60.8]       1570\n",
       "(16.927, 31.6]     1298\n",
       "Name: 0, dtype: int64"
      ]
     },
     "execution_count": 14,
     "metadata": {},
     "output_type": "execute_result"
    }
   ],
   "source": [
    "data[0].value_counts()"
   ]
  },
  {
   "cell_type": "code",
   "execution_count": 17,
   "id": "d258110b",
   "metadata": {},
   "outputs": [],
   "source": [
    "original_dataset = get_adult_train_small(DATASETS_FOLDER)"
   ]
  },
  {
   "cell_type": "code",
   "execution_count": 19,
   "id": "535ae69c",
   "metadata": {},
   "outputs": [
    {
     "data": {
      "text/plain": [
       "(31.6, 46.2]      11686\n",
       "(16.927, 31.6]    10448\n",
       "(46.2, 60.8]       6222\n",
       "(60.8, 75.4]       1637\n",
       "(75.4, 90.0]        169\n",
       "Name: age, dtype: int64"
      ]
     },
     "execution_count": 19,
     "metadata": {},
     "output_type": "execute_result"
    }
   ],
   "source": [
    "original_dataset['age'].value_counts()"
   ]
  },
  {
   "cell_type": "code",
   "execution_count": null,
   "id": "142105d5",
   "metadata": {},
   "outputs": [],
   "source": []
  }
 ],
 "metadata": {
  "kernelspec": {
   "display_name": "gradu",
   "language": "python",
   "name": "gradu"
  },
  "language_info": {
   "codemirror_mode": {
    "name": "ipython",
    "version": 3
   },
   "file_extension": ".py",
   "mimetype": "text/x-python",
   "name": "python",
   "nbconvert_exporter": "python",
   "pygments_lexer": "ipython3",
   "version": "3.8.10"
  }
 },
 "nbformat": 4,
 "nbformat_minor": 5
}
