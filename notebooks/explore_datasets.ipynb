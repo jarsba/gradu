{
 "cells": [
  {
   "cell_type": "code",
   "execution_count": 2,
   "id": "6be8493c",
   "metadata": {},
   "outputs": [],
   "source": [
    "import sys\n",
    "sys.path.append(\"/home/jarlehti/projects/gradu\")"
   ]
  },
  {
   "cell_type": "code",
   "execution_count": 10,
   "id": "2405457a",
   "metadata": {},
   "outputs": [],
   "source": [
    "import os\n",
    "import pickle\n",
    "import pandas as pd\n",
    "from src.utils.preprocess_dataset import get_adult_train"
   ]
  },
  {
   "cell_type": "code",
   "execution_count": 4,
   "id": "a54c1f55",
   "metadata": {},
   "outputs": [],
   "source": [
    "CURRENT_FOLDER = os.path.dirname(os.path.dirname(os.path.abspath(__name__)))\n",
    "SYN_DATA_FOLDER = os.path.join(CURRENT_FOLDER, \"data\", \"synt_datasets\")\n",
    "DATASETS_FOLDER = os.path.join(CURRENT_FOLDER, \"data\", \"datasets\")"
   ]
  },
  {
   "cell_type": "code",
   "execution_count": 5,
   "id": "7c9e673e",
   "metadata": {},
   "outputs": [],
   "source": [
    "file = open(os.path.join(SYN_DATA_FOLDER, \"synthetic_dataset_original_model_adult_small_01e_empty.pickle\"), \"rb\")\n",
    "synt_data_obj = pickle.load(file)\n",
    "file.close()"
   ]
  },
  {
   "cell_type": "code",
   "execution_count": 6,
   "id": "301d90f0",
   "metadata": {},
   "outputs": [],
   "source": [
    "data = pd.DataFrame(synt_data_obj.synth_data[0])"
   ]
  },
  {
   "cell_type": "code",
   "execution_count": 9,
   "id": "9da9aab4",
   "metadata": {},
   "outputs": [
    {
     "data": {
      "text/plain": [
       "9     9731\n",
       "10    6804\n",
       "13    5528\n",
       "14    2524\n",
       "11    1473\n",
       "7     1164\n",
       "15     704\n",
       "12     631\n",
       "6      443\n",
       "5      399\n",
       "4      337\n",
       "16     323\n",
       "1       88\n",
       "3        7\n",
       "2        6\n",
       "Name: 1, dtype: int64"
      ]
     },
     "execution_count": 9,
     "metadata": {},
     "output_type": "execute_result"
    }
   ],
   "source": [
    "data[1].value_counts()"
   ]
  },
  {
   "cell_type": "code",
   "execution_count": 11,
   "id": "d258110b",
   "metadata": {},
   "outputs": [],
   "source": [
    "original_dataset = get_adult_train(DATASETS_FOLDER)"
   ]
  },
  {
   "cell_type": "code",
   "execution_count": 13,
   "id": "535ae69c",
   "metadata": {},
   "outputs": [
    {
     "data": {
      "text/plain": [
       "9     9840\n",
       "10    6678\n",
       "13    5044\n",
       "14    1627\n",
       "11    1307\n",
       "7     1048\n",
       "12    1008\n",
       "6      820\n",
       "4      557\n",
       "15     542\n",
       "5      455\n",
       "8      377\n",
       "16     375\n",
       "3      288\n",
       "2      151\n",
       "1       45\n",
       "Name: education-num, dtype: int64"
      ]
     },
     "execution_count": 13,
     "metadata": {},
     "output_type": "execute_result"
    }
   ],
   "source": [
    "original_dataset['education-num'].value_counts()"
   ]
  },
  {
   "cell_type": "code",
   "execution_count": null,
   "id": "142105d5",
   "metadata": {},
   "outputs": [],
   "source": []
  }
 ],
 "metadata": {
  "kernelspec": {
   "display_name": "gradu",
   "language": "python",
   "name": "gradu"
  },
  "language_info": {
   "codemirror_mode": {
    "name": "ipython",
    "version": 3
   },
   "file_extension": ".py",
   "mimetype": "text/x-python",
   "name": "python",
   "nbconvert_exporter": "python",
   "pygments_lexer": "ipython3",
   "version": "3.8.10"
  }
 },
 "nbformat": 4,
 "nbformat_minor": 5
}
