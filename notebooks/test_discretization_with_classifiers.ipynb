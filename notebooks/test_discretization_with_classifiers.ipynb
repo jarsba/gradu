{
 "cells": [
  {
   "cell_type": "code",
   "execution_count": 1,
   "metadata": {},
   "outputs": [],
   "source": [
    "import sys\n",
    "sys.path.append(\"/home/jarlehti/projects/gradu\")"
   ]
  },
  {
   "cell_type": "code",
   "execution_count": 2,
   "metadata": {},
   "outputs": [],
   "source": [
    "import os\n",
    "import numpy as np\n",
    "import pandas as pd\n",
    "import matplotlib.pyplot as plt\n",
    "import seaborn as sns\n",
    "from pprint import pprint\n",
    "\n",
    "from src.utils.data_utils import transform_for_classification\n",
    "from scripts.constants import TEST_DATASETS_FOR_DATASET, TARGET_COLUMNS_FOR_DATASET\n",
    "from scripts.base_lr import run_logistic_regression_on_2d\n",
    "from scripts.base_clf import run_classification\n",
    "from sklearn.dummy import DummyClassifier "
   ]
  },
  {
   "cell_type": "code",
   "execution_count": 3,
   "metadata": {},
   "outputs": [],
   "source": [
    "CURRENT_FOLDER = os.path.dirname(os.path.dirname(os.path.abspath(__name__)))\n",
    "RESULTS_FOLDER = os.path.join(CURRENT_FOLDER, \"results\")\n",
    "PLOTS_FOLDER = os.path.join(CURRENT_FOLDER, \"plots\")"
   ]
  },
  {
   "cell_type": "code",
   "execution_count": 4,
   "metadata": {},
   "outputs": [],
   "source": [
    "def get_datasets_data(dataset_name):\n",
    "\n",
    "    train_df_path = os.path.join(CURRENT_FOLDER, f\"data/datasets/{dataset_name}.csv\")\n",
    "    train_df = pd.read_csv(train_df_path)\n",
    "\n",
    "    test_df_path = TEST_DATASETS_FOR_DATASET[dataset_name]\n",
    "    test_df = pd.read_csv(os.path.join(CURRENT_FOLDER, test_df_path))\n",
    "    \n",
    "    return train_df, test_df"
   ]
  },
  {
   "cell_type": "code",
   "execution_count": 9,
   "metadata": {},
   "outputs": [],
   "source": [
    "def run_clf(dataset_name, train_df, test_df):\n",
    "    \n",
    "    results = []\n",
    "    \n",
    "    train_df_transformed = transform_for_classification(dataset_name, train_df)    \n",
    "    test_df_transformed = transform_for_classification(dataset_name, test_df)\n",
    "\n",
    "    assert set(list(train_df_transformed.columns.values)).symmetric_difference(\n",
    "        set(list(test_df_transformed.columns.values))) == set()\n",
    "    \n",
    "    target_column: str = TARGET_COLUMNS_FOR_DATASET[dataset_name]\n",
    "    scores = run_classification(train_df_transformed, test_df_transformed, target_column)\n",
    "    \n",
    "    return scores"
   ]
  },
  {
   "cell_type": "code",
   "execution_count": 12,
   "metadata": {},
   "outputs": [
    {
     "name": "stdout",
     "output_type": "stream",
     "text": [
      "Model: DummyClassifier \t Accuracy: 0.754 (0.000), Balanced accuracy: 0.500 (0.000), F1: 0.000 (0.000)\n",
      "Model: GradientBoostingClassifier \t Accuracy: 0.859 (0.000), Balanced accuracy: 0.764 (0.000), F1: 0.668 (0.000)\n",
      "Model: LGBMClassifier \t Accuracy: 0.863 (0.000), Balanced accuracy: 0.785 (0.000), F1: 0.694 (0.000)\n",
      "Model: XGBClassifier \t Accuracy: 0.863 (0.000), Balanced accuracy: 0.785 (0.000), F1: 0.694 (0.000)\n",
      "Model: RandomForestClassifier \t Accuracy: 0.833 (0.000), Balanced accuracy: 0.755 (0.000), F1: 0.639 (0.000)\n"
     ]
    },
    {
     "name": "stderr",
     "output_type": "stream",
     "text": [
      "/home/local/jarlehti/projects/gradu/venv/lib/python3.8/site-packages/sklearn/svm/_base.py:1225: ConvergenceWarning: Liblinear failed to converge, increase the number of iterations.\n",
      "  warnings.warn(\n"
     ]
    },
    {
     "name": "stdout",
     "output_type": "stream",
     "text": [
      "Model: LinearSVC \t Accuracy: 0.812 (0.000), Balanced accuracy: 0.742 (0.000), F1: 0.612 (0.000)\n",
      "Model: MLPClassifier \t Accuracy: 0.806 (0.000), Balanced accuracy: 0.720 (0.000), F1: 0.582 (0.000)\n"
     ]
    }
   ],
   "source": [
    "dataset_name = 'adult_no_discretization'\n",
    "train_df, test_df = get_datasets_data(dataset_name)\n",
    "no_discretization_scores = run_clf(dataset_name, train_df, test_df)"
   ]
  },
  {
   "cell_type": "code",
   "execution_count": 13,
   "metadata": {},
   "outputs": [
    {
     "name": "stdout",
     "output_type": "stream",
     "text": [
      "Model: DummyClassifier \t Accuracy: 0.754 (0.000), Balanced accuracy: 0.500 (0.000), F1: 0.000 (0.000)\n",
      "Model: GradientBoostingClassifier \t Accuracy: 0.836 (0.000), Balanced accuracy: 0.737 (0.000), F1: 0.620 (0.000)\n",
      "Model: LGBMClassifier \t Accuracy: 0.835 (0.000), Balanced accuracy: 0.746 (0.000), F1: 0.629 (0.000)\n",
      "Model: XGBClassifier \t Accuracy: 0.833 (0.000), Balanced accuracy: 0.746 (0.000), F1: 0.629 (0.000)\n",
      "Model: RandomForestClassifier \t Accuracy: 0.823 (0.000), Balanced accuracy: 0.733 (0.000), F1: 0.607 (0.000)\n",
      "Model: LinearSVC \t Accuracy: 0.836 (0.000), Balanced accuracy: 0.739 (0.000), F1: 0.622 (0.000)\n",
      "Model: MLPClassifier \t Accuracy: 0.836 (0.000), Balanced accuracy: 0.740 (0.000), F1: 0.622 (0.000)\n"
     ]
    },
    {
     "name": "stderr",
     "output_type": "stream",
     "text": [
      "/home/local/jarlehti/projects/gradu/venv/lib/python3.8/site-packages/sklearn/neural_network/_multilayer_perceptron.py:702: ConvergenceWarning: Stochastic Optimizer: Maximum iterations (200) reached and the optimization hasn't converged yet.\n",
      "  warnings.warn(\n"
     ]
    }
   ],
   "source": [
    "dataset_name = 'adult_low_discretization'\n",
    "train_df, test_df = get_datasets_data(dataset_name)\n",
    "low_discretization_scores = run_clf(dataset_name, train_df, test_df)"
   ]
  },
  {
   "cell_type": "code",
   "execution_count": 14,
   "metadata": {},
   "outputs": [
    {
     "name": "stdout",
     "output_type": "stream",
     "text": [
      "Model: DummyClassifier \t Accuracy: 0.754 (0.000), Balanced accuracy: 0.500 (0.000), F1: 0.000 (0.000)\n",
      "Model: GradientBoostingClassifier \t Accuracy: 0.830 (0.000), Balanced accuracy: 0.735 (0.000), F1: 0.613 (0.000)\n",
      "Model: LGBMClassifier \t Accuracy: 0.830 (0.000), Balanced accuracy: 0.742 (0.000), F1: 0.622 (0.000)\n",
      "Model: XGBClassifier \t Accuracy: 0.829 (0.000), Balanced accuracy: 0.734 (0.000), F1: 0.612 (0.000)\n",
      "Model: RandomForestClassifier \t Accuracy: 0.826 (0.000), Balanced accuracy: 0.729 (0.000), F1: 0.604 (0.000)\n",
      "Model: LinearSVC \t Accuracy: 0.829 (0.000), Balanced accuracy: 0.724 (0.000), F1: 0.597 (0.000)\n",
      "Model: MLPClassifier \t Accuracy: 0.831 (0.000), Balanced accuracy: 0.734 (0.000), F1: 0.612 (0.000)\n"
     ]
    },
    {
     "name": "stderr",
     "output_type": "stream",
     "text": [
      "/home/local/jarlehti/projects/gradu/venv/lib/python3.8/site-packages/sklearn/neural_network/_multilayer_perceptron.py:702: ConvergenceWarning: Stochastic Optimizer: Maximum iterations (200) reached and the optimization hasn't converged yet.\n",
      "  warnings.warn(\n"
     ]
    }
   ],
   "source": [
    "dataset_name = 'adult_high_discretization'\n",
    "train_df, test_df = get_datasets_data(dataset_name)\n",
    "high_discretization_scores = run_clf(dataset_name, train_df, test_df)"
   ]
  },
  {
   "cell_type": "code",
   "execution_count": null,
   "metadata": {},
   "outputs": [],
   "source": []
  }
 ],
 "metadata": {
  "kernelspec": {
   "display_name": "gradu",
   "language": "python",
   "name": "gradu"
  },
  "language_info": {
   "codemirror_mode": {
    "name": "ipython",
    "version": 3
   },
   "file_extension": ".py",
   "mimetype": "text/x-python",
   "name": "python",
   "nbconvert_exporter": "python",
   "pygments_lexer": "ipython3",
   "version": "3.8.10"
  }
 },
 "nbformat": 4,
 "nbformat_minor": 4
}
