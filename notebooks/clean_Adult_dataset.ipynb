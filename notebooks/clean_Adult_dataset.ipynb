{
 "cells": [
  {
   "cell_type": "code",
   "execution_count": 10,
   "metadata": {},
   "outputs": [],
   "source": [
    "import pandas as pd\n",
    "import numpy as np\n",
    "import os\n",
    "import matplotlib.pyplot as plt\n",
    "import math"
   ]
  },
  {
   "cell_type": "code",
   "execution_count": 11,
   "metadata": {},
   "outputs": [],
   "source": [
    "CURRENT_FOLDER = os.path.dirname(os.path.dirname(os.path.abspath(__name__)))\n",
    "RAW_DATA_FOLDER = os.path.join(CURRENT_FOLDER,  \"data\", \"raw\")\n",
    "DATASETS_FOLDER = os.path.join(CURRENT_FOLDER, \"data\", \"datasets\")\n",
    "\n",
    "adult_dataset_path = os.path.join(RAW_DATA_FOLDER, \"adult.data\")\n",
    "adult_test_dataset_path = os.path.join(RAW_DATA_FOLDER, \"adult.test\")"
   ]
  },
  {
   "cell_type": "code",
   "execution_count": 12,
   "metadata": {},
   "outputs": [
    {
     "name": "stderr",
     "output_type": "stream",
     "text": [
      "/tmp/ipykernel_52134/640948294.py:5: ParserWarning: Falling back to the 'python' engine because the 'c' engine does not support regex separators (separators > 1 char and different from '\\s+' are interpreted as regex); you can avoid this warning by specifying engine='python'.\n",
      "  adult_data = pd.read_csv(adult_dataset_path, names=columns, sep=\", \")\n",
      "/tmp/ipykernel_52134/640948294.py:6: ParserWarning: Falling back to the 'python' engine because the 'c' engine does not support regex separators (separators > 1 char and different from '\\s+' are interpreted as regex); you can avoid this warning by specifying engine='python'.\n",
      "  adult_test_data = pd.read_csv(adult_test_dataset_path, names=columns, sep=\", \")\n"
     ]
    }
   ],
   "source": [
    "columns = ['age','workclass','fnlwgt','education','education-num','marital-status',\n",
    "        'occupation','relationship','race','sex','capital-gain', 'capital-loss',\n",
    "        'hours-per-week', 'native-country','compensation']\n",
    "\n",
    "adult_data = pd.read_csv(adult_dataset_path, names=columns, sep=\", \")\n",
    "adult_test_data = pd.read_csv(adult_test_dataset_path, names=columns, sep=\", \")"
   ]
  },
  {
   "cell_type": "code",
   "execution_count": 13,
   "metadata": {},
   "outputs": [],
   "source": [
    "def clean_adult(data):\n",
    "    \n",
    "    # Transform \"?\" value to NaN value and drop NaN values\n",
    "    data = data.replace('?', np.nan)\n",
    "    data.dropna(inplace=True)\n",
    "    \n",
    "    # Clean some values\n",
    "    data['compensation'] = data['compensation'].replace({\n",
    "        '<=50K.' : '<=50K', \n",
    "        '>50K.' : '>50K',\n",
    "    })\n",
    "\n",
    "    # Education-column is already categorized in education-num column\n",
    "    columns_to_drop = ['education', 'fnlwgt']\n",
    "    data.drop(columns=columns_to_drop, inplace=True)\n",
    "        \n",
    "    # Transform string columns to categorical columns and combine some values\n",
    "    data['age'] = data['age'].astype(int)\n",
    "    data['workclass'] = pd.Categorical(data['workclass'])\n",
    "    data['education-num'] = pd.Categorical(data['education-num'])\n",
    "    data['marital-status'] = pd.Categorical(data['marital-status'])\n",
    "    data['occupation'] = pd.Categorical(data['occupation'])\n",
    "    data['relationship'] = pd.Categorical(data['relationship'])\n",
    "    data['race'] = pd.Categorical(data['race'])\n",
    "    data['sex'] = pd.Categorical(data['sex'])\n",
    "    data['capital-gain'] = data['capital-gain'].astype(int)\n",
    "    data['capital-loss'] = data['capital-loss'].astype(int)\n",
    "    data['hours-per-week'] = data['hours-per-week'].astype(int)\n",
    "    data['native-country'] = pd.Categorical(data['native-country'])\n",
    "    data['compensation'] = pd.Categorical(data['compensation'])\n",
    "    \n",
    "    # Create few categorical features\n",
    "    data['had-capital-gains'] = (data['capital-gain'] > 0).astype(int)\n",
    "    data['had-capital-losses'] = (data['capital-loss'] > 0).astype(int)\n",
    "\n",
    "    # Optionally drop capital-gains column\n",
    "    # columns_to_drop = ['capital-gain', 'capital-loss']\n",
    "    # data.drop(columns=columns_to_drop, inplace=True)\n",
    "    \n",
    "    # Reset index\n",
    "    data.reset_index(drop=True, inplace=True)\n",
    "    \n",
    "    # Move \"compensation\" column to last\n",
    "    data = data.reindex(columns=[col for col in data.columns if col != 'compensation'] + ['compensation'])\n",
    "\n",
    "    return data"
   ]
  },
  {
   "cell_type": "code",
   "execution_count": 14,
   "metadata": {},
   "outputs": [],
   "source": [
    "cleaned_adult_train = clean_adult(adult_data)\n",
    "cleaned_adult_test = clean_adult(adult_test_data)"
   ]
  },
  {
   "cell_type": "code",
   "execution_count": 15,
   "metadata": {},
   "outputs": [],
   "source": [
    "adult_train_path = os.path.join(DATASETS_FOLDER, \"cleaned_adult_train_data.csv\")\n",
    "adult_test_path = os.path.join(DATASETS_FOLDER, \"cleaned_adult_test_data.csv\")\n",
    "\n",
    "cleaned_adult_train.to_csv(adult_train_path, index=False)\n",
    "cleaned_adult_test.to_csv(adult_test_path, index=False)"
   ]
  }
 ],
 "metadata": {
  "kernelspec": {
   "display_name": "gradu",
   "language": "python",
   "name": "gradu"
  },
  "language_info": {
   "codemirror_mode": {
    "name": "ipython",
    "version": 3
   },
   "file_extension": ".py",
   "mimetype": "text/x-python",
   "name": "python",
   "nbconvert_exporter": "python",
   "pygments_lexer": "ipython3",
   "version": "3.8.10"
  }
 },
 "nbformat": 4,
 "nbformat_minor": 4
}
