{
 "cells": [
  {
   "cell_type": "code",
   "execution_count": 10,
   "id": "e994325e",
   "metadata": {},
   "outputs": [],
   "source": [
    "import sys\n",
    "sys.path.append(\"/home/jarlehti/projects/gradu\")"
   ]
  },
  {
   "cell_type": "code",
   "execution_count": 11,
   "id": "a98d0c5e",
   "metadata": {},
   "outputs": [],
   "source": [
    "import pandas as pd\n",
    "from time import sleep\n",
    "from src.utils.timer import Timer"
   ]
  },
  {
   "cell_type": "code",
   "execution_count": 12,
   "id": "bb36b594",
   "metadata": {},
   "outputs": [],
   "source": [
    "timer_file_path = \"/tmp/timer.csv\"\n",
    "mode = \"append\"\n",
    "timer = Timer(file_path=timer_file_path, mode=mode)"
   ]
  },
  {
   "cell_type": "code",
   "execution_count": 13,
   "id": "59139527",
   "metadata": {},
   "outputs": [
    {
     "name": "stdout",
     "output_type": "stream",
     "text": [
      "Recording:  Main run\n"
     ]
    }
   ],
   "source": [
    "timer_meta = {\n",
    "    \"experiment_id\": \"test1\",\n",
    "    \"dataset_name\": \"dataset1\",\n",
    "    \"query\": [('A', 'B')],\n",
    "    \"missing_query\": [('A', 'B')],\n",
    "    \"epsilon\": 0.1,\n",
    "    \"delta\": 1e-2,\n",
    "    \"MCMC_algo\": \"NUTS\",\n",
    "    \"laplace_approximation\": True,\n",
    "    \"laplace_approximation_algorithm\": \"torch_LBFGS\"\n",
    "}\n",
    "\n",
    "pid = timer.start(f\"Main run\", **timer_meta)\n",
    "sleep(1)\n",
    "timer.stop(pid)"
   ]
  },
  {
   "cell_type": "code",
   "execution_count": 14,
   "id": "276a097a",
   "metadata": {},
   "outputs": [
    {
     "name": "stdout",
     "output_type": "stream",
     "text": [
      "Recording:  Run 2\n"
     ]
    }
   ],
   "source": [
    "timer_meta = {\n",
    "    \"experiment_id\": \"test2\",\n",
    "    \"dataset_name\": \"dataset2\",\n",
    "    \"query\": [('A', 'C')],\n",
    "    \"missing_query\": [('A', 'C')],\n",
    "    \"epsilon\": 0.3,\n",
    "    \"delta\": 1e-4,\n",
    "    \"MCMC_algo\": \"NUTS\",\n",
    "    \"laplace_approximation\": False,\n",
    "    \"laplace_approximation_algorithm\": \"torch_LBFGS\"\n",
    "}\n",
    "\n",
    "pid = timer.start(f\"Run 2\", **timer_meta)\n",
    "sleep(1)\n",
    "timer.stop(pid)"
   ]
  },
  {
   "cell_type": "code",
   "execution_count": 15,
   "id": "925689e8",
   "metadata": {},
   "outputs": [
    {
     "name": "stdout",
     "output_type": "stream",
     "text": [
      "Recording:  Last run\n"
     ]
    }
   ],
   "source": [
    "timer_meta = {\n",
    "    \"experiment_id\": \"test3\",\n",
    "    \"dataset_name\": \"dataset3\",\n",
    "    \"query\": [('A', 'D')],\n",
    "    \"missing_query\": [('A', 'D')],\n",
    "    \"epsilon\": 0.5,\n",
    "    \"delta\": 1e-6,\n",
    "    \"MCMC_algo\": \"NUTS\",\n",
    "    \"laplace_approximation\": True,\n",
    "    \"laplace_approximation_algorithm\": \"torch_LBFGS\"\n",
    "}\n",
    "\n",
    "pid = timer.start(f\"Last run\", **timer_meta)\n",
    "sleep(1)\n",
    "timer.stop(pid)"
   ]
  },
  {
   "cell_type": "code",
   "execution_count": 16,
   "id": "7e186729",
   "metadata": {},
   "outputs": [
    {
     "name": "stdout",
     "output_type": "stream",
     "text": [
      "[{'experiment_id': 'test1', 'start': 1063123.397925144, 'stop': 1063124.399413393, 'timedelta': 1.0014882490504533, 'task': 'Main run', 'dataset_name': 'dataset1', 'query': [('A', 'B')], 'missing_query': [('A', 'B')], 'epsilon': 0.1, 'delta': 0.01, 'MCMC_algo': 'NUTS', 'laplace_approximation': True, 'laplace_approximation_algorithm': 'torch_LBFGS'}, {'experiment_id': 'test2', 'start': 1063124.412066469, 'stop': 1063125.41349241, 'timedelta': 1.0014259410090744, 'task': 'Run 2', 'dataset_name': 'dataset2', 'query': [('A', 'C')], 'missing_query': [('A', 'C')], 'epsilon': 0.3, 'delta': 0.0001, 'MCMC_algo': 'NUTS', 'laplace_approximation': False, 'laplace_approximation_algorithm': 'torch_LBFGS'}, {'experiment_id': 'test3', 'start': 1063125.423740988, 'stop': 1063126.425144317, 'timedelta': 1.0014033291954547, 'task': 'Last run', 'dataset_name': 'dataset3', 'query': [('A', 'D')], 'missing_query': [('A', 'D')], 'epsilon': 0.5, 'delta': 1e-06, 'MCMC_algo': 'NUTS', 'laplace_approximation': True, 'laplace_approximation_algorithm': 'torch_LBFGS'}, {'experiment_id': 'test1', 'start': 1063139.990042431, 'stop': 1063140.991511808, 'timedelta': 1.001469376962632, 'task': 'Main run', 'dataset_name': 'dataset1', 'query': [('A', 'B')], 'missing_query': [('A', 'B')], 'epsilon': 0.1, 'delta': 0.01, 'MCMC_algo': 'NUTS', 'laplace_approximation': True, 'laplace_approximation_algorithm': 'torch_LBFGS'}, {'experiment_id': 'test2', 'start': 1063141.001872272, 'stop': 1063142.002658181, 'timedelta': 1.0007859088946134, 'task': 'Run 2', 'dataset_name': 'dataset2', 'query': [('A', 'C')], 'missing_query': [('A', 'C')], 'epsilon': 0.3, 'delta': 0.0001, 'MCMC_algo': 'NUTS', 'laplace_approximation': False, 'laplace_approximation_algorithm': 'torch_LBFGS'}, {'experiment_id': 'test3', 'start': 1063142.013738685, 'stop': 1063143.015131101, 'timedelta': 1.0013924159575254, 'task': 'Last run', 'dataset_name': 'dataset3', 'query': [('A', 'D')], 'missing_query': [('A', 'D')], 'epsilon': 0.5, 'delta': 1e-06, 'MCMC_algo': 'NUTS', 'laplace_approximation': True, 'laplace_approximation_algorithm': 'torch_LBFGS'}]\n"
     ]
    }
   ],
   "source": [
    "timer.save(index=False)"
   ]
  },
  {
   "cell_type": "code",
   "execution_count": 17,
   "id": "11bdbc1b",
   "metadata": {},
   "outputs": [],
   "source": [
    "timer_df = pd.read_csv(timer_file_path)"
   ]
  },
  {
   "cell_type": "code",
   "execution_count": 18,
   "id": "542d0550",
   "metadata": {},
   "outputs": [
    {
     "data": {
      "text/html": [
       "<div>\n",
       "<style scoped>\n",
       "    .dataframe tbody tr th:only-of-type {\n",
       "        vertical-align: middle;\n",
       "    }\n",
       "\n",
       "    .dataframe tbody tr th {\n",
       "        vertical-align: top;\n",
       "    }\n",
       "\n",
       "    .dataframe thead th {\n",
       "        text-align: right;\n",
       "    }\n",
       "</style>\n",
       "<table border=\"1\" class=\"dataframe\">\n",
       "  <thead>\n",
       "    <tr style=\"text-align: right;\">\n",
       "      <th></th>\n",
       "      <th>experiment_id</th>\n",
       "      <th>start</th>\n",
       "      <th>stop</th>\n",
       "      <th>timedelta</th>\n",
       "      <th>task</th>\n",
       "      <th>dataset_name</th>\n",
       "      <th>query</th>\n",
       "      <th>missing_query</th>\n",
       "      <th>epsilon</th>\n",
       "      <th>delta</th>\n",
       "      <th>MCMC_algo</th>\n",
       "      <th>laplace_approximation</th>\n",
       "      <th>laplace_approximation_algorithm</th>\n",
       "    </tr>\n",
       "  </thead>\n",
       "  <tbody>\n",
       "    <tr>\n",
       "      <th>0</th>\n",
       "      <td>test1</td>\n",
       "      <td>1.063123e+06</td>\n",
       "      <td>1.063124e+06</td>\n",
       "      <td>1.001488</td>\n",
       "      <td>Main run</td>\n",
       "      <td>dataset1</td>\n",
       "      <td>[('A', 'B')]</td>\n",
       "      <td>[('A', 'B')]</td>\n",
       "      <td>0.1</td>\n",
       "      <td>0.010000</td>\n",
       "      <td>NUTS</td>\n",
       "      <td>True</td>\n",
       "      <td>torch_LBFGS</td>\n",
       "    </tr>\n",
       "    <tr>\n",
       "      <th>1</th>\n",
       "      <td>test2</td>\n",
       "      <td>1.063124e+06</td>\n",
       "      <td>1.063125e+06</td>\n",
       "      <td>1.001426</td>\n",
       "      <td>Run 2</td>\n",
       "      <td>dataset2</td>\n",
       "      <td>[('A', 'C')]</td>\n",
       "      <td>[('A', 'C')]</td>\n",
       "      <td>0.3</td>\n",
       "      <td>0.000100</td>\n",
       "      <td>NUTS</td>\n",
       "      <td>False</td>\n",
       "      <td>torch_LBFGS</td>\n",
       "    </tr>\n",
       "    <tr>\n",
       "      <th>2</th>\n",
       "      <td>test3</td>\n",
       "      <td>1.063125e+06</td>\n",
       "      <td>1.063126e+06</td>\n",
       "      <td>1.001403</td>\n",
       "      <td>Last run</td>\n",
       "      <td>dataset3</td>\n",
       "      <td>[('A', 'D')]</td>\n",
       "      <td>[('A', 'D')]</td>\n",
       "      <td>0.5</td>\n",
       "      <td>0.000001</td>\n",
       "      <td>NUTS</td>\n",
       "      <td>True</td>\n",
       "      <td>torch_LBFGS</td>\n",
       "    </tr>\n",
       "    <tr>\n",
       "      <th>3</th>\n",
       "      <td>test1</td>\n",
       "      <td>1.063140e+06</td>\n",
       "      <td>1.063141e+06</td>\n",
       "      <td>1.001469</td>\n",
       "      <td>Main run</td>\n",
       "      <td>dataset1</td>\n",
       "      <td>[('A', 'B')]</td>\n",
       "      <td>[('A', 'B')]</td>\n",
       "      <td>0.1</td>\n",
       "      <td>0.010000</td>\n",
       "      <td>NUTS</td>\n",
       "      <td>True</td>\n",
       "      <td>torch_LBFGS</td>\n",
       "    </tr>\n",
       "    <tr>\n",
       "      <th>4</th>\n",
       "      <td>test2</td>\n",
       "      <td>1.063141e+06</td>\n",
       "      <td>1.063142e+06</td>\n",
       "      <td>1.000786</td>\n",
       "      <td>Run 2</td>\n",
       "      <td>dataset2</td>\n",
       "      <td>[('A', 'C')]</td>\n",
       "      <td>[('A', 'C')]</td>\n",
       "      <td>0.3</td>\n",
       "      <td>0.000100</td>\n",
       "      <td>NUTS</td>\n",
       "      <td>False</td>\n",
       "      <td>torch_LBFGS</td>\n",
       "    </tr>\n",
       "    <tr>\n",
       "      <th>5</th>\n",
       "      <td>test3</td>\n",
       "      <td>1.063142e+06</td>\n",
       "      <td>1.063143e+06</td>\n",
       "      <td>1.001392</td>\n",
       "      <td>Last run</td>\n",
       "      <td>dataset3</td>\n",
       "      <td>[('A', 'D')]</td>\n",
       "      <td>[('A', 'D')]</td>\n",
       "      <td>0.5</td>\n",
       "      <td>0.000001</td>\n",
       "      <td>NUTS</td>\n",
       "      <td>True</td>\n",
       "      <td>torch_LBFGS</td>\n",
       "    </tr>\n",
       "  </tbody>\n",
       "</table>\n",
       "</div>"
      ],
      "text/plain": [
       "  experiment_id         start          stop  timedelta      task dataset_name  \\\n",
       "0         test1  1.063123e+06  1.063124e+06   1.001488  Main run     dataset1   \n",
       "1         test2  1.063124e+06  1.063125e+06   1.001426     Run 2     dataset2   \n",
       "2         test3  1.063125e+06  1.063126e+06   1.001403  Last run     dataset3   \n",
       "3         test1  1.063140e+06  1.063141e+06   1.001469  Main run     dataset1   \n",
       "4         test2  1.063141e+06  1.063142e+06   1.000786     Run 2     dataset2   \n",
       "5         test3  1.063142e+06  1.063143e+06   1.001392  Last run     dataset3   \n",
       "\n",
       "          query missing_query  epsilon     delta MCMC_algo  \\\n",
       "0  [('A', 'B')]  [('A', 'B')]      0.1  0.010000      NUTS   \n",
       "1  [('A', 'C')]  [('A', 'C')]      0.3  0.000100      NUTS   \n",
       "2  [('A', 'D')]  [('A', 'D')]      0.5  0.000001      NUTS   \n",
       "3  [('A', 'B')]  [('A', 'B')]      0.1  0.010000      NUTS   \n",
       "4  [('A', 'C')]  [('A', 'C')]      0.3  0.000100      NUTS   \n",
       "5  [('A', 'D')]  [('A', 'D')]      0.5  0.000001      NUTS   \n",
       "\n",
       "   laplace_approximation laplace_approximation_algorithm  \n",
       "0                   True                     torch_LBFGS  \n",
       "1                  False                     torch_LBFGS  \n",
       "2                   True                     torch_LBFGS  \n",
       "3                   True                     torch_LBFGS  \n",
       "4                  False                     torch_LBFGS  \n",
       "5                   True                     torch_LBFGS  "
      ]
     },
     "execution_count": 18,
     "metadata": {},
     "output_type": "execute_result"
    }
   ],
   "source": [
    "timer_df"
   ]
  },
  {
   "cell_type": "code",
   "execution_count": null,
   "id": "51465b51",
   "metadata": {},
   "outputs": [],
   "source": []
  }
 ],
 "metadata": {
  "kernelspec": {
   "display_name": "gradu",
   "language": "python",
   "name": "gradu"
  },
  "language_info": {
   "codemirror_mode": {
    "name": "ipython",
    "version": 3
   },
   "file_extension": ".py",
   "mimetype": "text/x-python",
   "name": "python",
   "nbconvert_exporter": "python",
   "pygments_lexer": "ipython3",
   "version": "3.8.10"
  }
 },
 "nbformat": 4,
 "nbformat_minor": 5
}
