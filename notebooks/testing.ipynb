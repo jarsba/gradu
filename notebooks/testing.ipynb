{
 "cells": [
  {
   "cell_type": "code",
   "execution_count": 1,
   "id": "8c539937",
   "metadata": {},
   "outputs": [],
   "source": [
    "import statsmodels.api as sm"
   ]
  },
  {
   "cell_type": "code",
   "execution_count": 17,
   "id": "0277a28a",
   "metadata": {},
   "outputs": [],
   "source": [
    "y = [1]\n",
    "x = [1]\n",
    "\n",
    "X = sm.add_constant(x)\n",
    "\n",
    "model = sm.GLM(y, X, family=sm.families.Binomial())"
   ]
  },
  {
   "cell_type": "code",
   "execution_count": 19,
   "id": "465732d6",
   "metadata": {},
   "outputs": [
    {
     "data": {
      "text/plain": [
       "[20.566068521691637]"
      ]
     },
     "execution_count": 19,
     "metadata": {},
     "output_type": "execute_result"
    }
   ],
   "source": [
    "list(model.fit().params)"
   ]
  },
  {
   "cell_type": "code",
   "execution_count": null,
   "id": "e08c76b8",
   "metadata": {},
   "outputs": [],
   "source": []
  }
 ],
 "metadata": {
  "kernelspec": {
   "display_name": "gradu",
   "language": "python",
   "name": "gradu"
  },
  "language_info": {
   "codemirror_mode": {
    "name": "ipython",
    "version": 3
   },
   "file_extension": ".py",
   "mimetype": "text/x-python",
   "name": "python",
   "nbconvert_exporter": "python",
   "pygments_lexer": "ipython3",
   "version": "3.8.10"
  }
 },
 "nbformat": 4,
 "nbformat_minor": 5
}
