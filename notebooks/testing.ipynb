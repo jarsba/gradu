{
 "cells": [
  {
   "cell_type": "code",
   "execution_count": 1,
   "id": "8c539937",
   "metadata": {},
   "outputs": [],
   "source": [
    "import sys\n",
    "sys.path.append(\"/home/jarlehti/projects/gradu\")"
   ]
  },
  {
   "cell_type": "code",
   "execution_count": 2,
   "id": "91b96f43",
   "metadata": {},
   "outputs": [],
   "source": [
    "import os\n",
    "import jax\n",
    "import jax.numpy as jnp\n",
    "import numpy as np\n",
    "import pandas as pd\n",
    "import d3p\n",
    "from src.napsu_mq.napsu_mq import NapsuMQModel, NapsuMQResult"
   ]
  },
  {
   "cell_type": "code",
   "execution_count": 3,
   "id": "85346fdf",
   "metadata": {},
   "outputs": [],
   "source": [
    "CURRENT_FOLDER = os.path.dirname(os.path.dirname(os.path.abspath(__name__)))\n",
    "DATASETS_FOLDER = os.path.join(CURRENT_FOLDER, \"data\", \"datasets\")\n",
    "ORIG_RESULTS_FOLDER = os.path.join(CURRENT_FOLDER, \"data\", \"orig_results\")\n",
    "MODELS = os.path.join(CURRENT_FOLDER, \"models\")"
   ]
  },
  {
   "cell_type": "code",
   "execution_count": 16,
   "id": "4c6bc35b",
   "metadata": {},
   "outputs": [],
   "source": [
    "dataset = pd.read_csv(os.path.join(DATASETS_FOLDER, \"adult_large.csv\"), dtype=\"category\")\n",
    "n, d = dataset.shape"
   ]
  },
  {
   "cell_type": "code",
   "execution_count": 18,
   "id": "a96471a4",
   "metadata": {},
   "outputs": [],
   "source": [
    "rng = jax.random.PRNGKey(452345235)"
   ]
  },
  {
   "cell_type": "code",
   "execution_count": 19,
   "id": "b90a0210",
   "metadata": {},
   "outputs": [
    {
     "name": "stdout",
     "output_type": "stream",
     "text": [
      "Domain size: 224000\n",
      "Recording:  Query selection\n",
      "start MST selection\n"
     ]
    },
    {
     "name": "stderr",
     "output_type": "stream",
     "text": [
      "\n",
      "KeyboardInterrupt\n",
      "\n"
     ]
    }
   ],
   "source": [
    "column_feature_set = [(\"age\", \"income\"), (\"race\", \"income\"), (\"gender\", \"income\"), (\"race\", \"gender\"), (\"hours-per-week\", \"income\")]\n",
    "\n",
    "model = NapsuMQModel()\n",
    "result = model.fit(\n",
    "    data=dataset,\n",
    "    dataset_name=\"adult\",\n",
    "    rng=rng,\n",
    "    epsilon=1,\n",
    "    delta=(n ** (-2)),\n",
    "    column_feature_set=column_feature_set,\n",
    "    use_laplace_approximation=True,\n",
    "    laplace_approximation_algorithm=\"jaxopt_LBFGS\",\n",
    ")"
   ]
  },
  {
   "cell_type": "code",
   "execution_count": null,
   "id": "9d6e25f1",
   "metadata": {},
   "outputs": [],
   "source": []
  },
  {
   "cell_type": "code",
   "execution_count": null,
   "id": "e08c76b8",
   "metadata": {},
   "outputs": [],
   "source": []
  }
 ],
 "metadata": {
  "kernelspec": {
   "display_name": "gradu",
   "language": "python",
   "name": "gradu"
  },
  "language_info": {
   "codemirror_mode": {
    "name": "ipython",
    "version": 3
   },
   "file_extension": ".py",
   "mimetype": "text/x-python",
   "name": "python",
   "nbconvert_exporter": "python",
   "pygments_lexer": "ipython3",
   "version": "3.8.10"
  }
 },
 "nbformat": 4,
 "nbformat_minor": 5
}
