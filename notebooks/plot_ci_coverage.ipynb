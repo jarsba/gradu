{
 "cells": [
  {
   "cell_type": "code",
   "execution_count": 1,
   "id": "959bb8cc",
   "metadata": {},
   "outputs": [],
   "source": [
    "import sys\n",
    "sys.path.append(\"/home/jarlehti/projects/gradu\")"
   ]
  },
  {
   "cell_type": "code",
   "execution_count": 2,
   "id": "4b20661e",
   "metadata": {},
   "outputs": [],
   "source": [
    "import os\n",
    "import glob\n",
    "from dataclasses import dataclass\n",
    "import jax\n",
    "import jax.numpy as jnp\n",
    "import numpy as np\n",
    "import pandas as pd\n",
    "import d3p\n",
    "import seaborn as sns\n",
    "import matplotlib.pyplot as plt\n",
    "import statsmodels.api as sm\n",
    "from src.napsu_mq.napsu_mq import NapsuMQResult\n",
    "from scripts.constants import TRAIN_DATASET_SIZE_MAP, TRUE_COEFFICIENTS_FOR_DATASETS\n",
    "from src.napsu_mq.logistic_regression import logistic_regression\n",
    "from src.napsu_mq.rubins_rules import conf_int, non_negative_conf_int\n",
    "from src.utils.data_utils import dataframe_list_to_tensor\n",
    "from src.utils.preprocess_dataset import get_binary4d_train\n",
    "from src.utils.data_utils import transform_for_classification\n",
    "import pprint\n",
    "from scipy.special import expit"
   ]
  },
  {
   "cell_type": "code",
   "execution_count": 3,
   "id": "d3d3fdfe",
   "metadata": {},
   "outputs": [],
   "source": [
    "CURRENT_FOLDER = os.path.dirname(os.path.dirname(os.path.abspath(__name__)))\n",
    "DATASETS_FOLDER = os.path.join(CURRENT_FOLDER, \"data\", \"datasets\")\n",
    "MODELS = os.path.join(CURRENT_FOLDER, \"models\")"
   ]
  },
  {
   "cell_type": "code",
   "execution_count": 4,
   "id": "1a907415",
   "metadata": {},
   "outputs": [],
   "source": [
    "model_files = glob.glob(os.path.join(MODELS, '*.dill'))"
   ]
  },
  {
   "cell_type": "code",
   "execution_count": 5,
   "id": "5e28918c",
   "metadata": {},
   "outputs": [
    {
     "name": "stdout",
     "output_type": "stream",
     "text": [
      "[(0,\n",
      "  '/home/local/jarlehti/projects/gradu/models/napsu_binary4d_BC_10e_NUTS.dill'),\n",
      " (1,\n",
      "  '/home/local/jarlehti/projects/gradu/models/napsu_binary4d_AB+BC+CD_30e_NUTS.dill'),\n",
      " (2,\n",
      "  '/home/local/jarlehti/projects/gradu/models/napsu_binary4d_BC_80e_NUTS.dill'),\n",
      " (3,\n",
      "  '/home/local/jarlehti/projects/gradu/models/napsu_binary4d_BC_01e_NUTS.dill'),\n",
      " (4,\n",
      "  '/home/local/jarlehti/projects/gradu/models/napsu_binary4d_AB+BC+CD_01e_NUTS.dill'),\n",
      " (5,\n",
      "  '/home/local/jarlehti/projects/gradu/models/napsu_binary3d_AB+BC+AC_03e_NUTS.dill'),\n",
      " (6,\n",
      "  '/home/local/jarlehti/projects/gradu/models/napsu_binary4d_AB+AC_01e_NUTS.dill'),\n",
      " (7,\n",
      "  '/home/local/jarlehti/projects/gradu/models/napsu_binary4d_BC_30e_NUTS.dill'),\n",
      " (8,\n",
      "  '/home/local/jarlehti/projects/gradu/models/napsu_testing_binary4d_all_queries_500e_NUTS.dill'),\n",
      " (9,\n",
      "  '/home/local/jarlehti/projects/gradu/models/napsu_binary4d_BC+CD_80e_NUTS.dill'),\n",
      " (10,\n",
      "  '/home/local/jarlehti/projects/gradu/models/napsu_binary4d_AB+BC+CD_80e_NUTS.dill'),\n",
      " (11,\n",
      "  '/home/local/jarlehti/projects/gradu/models/napsu_binary4d_AB+AC_30e_NUTS.dill'),\n",
      " (12,\n",
      "  '/home/local/jarlehti/projects/gradu/models/napsu_binary4d_BC+CD_10e_NUTS.dill'),\n",
      " (13,\n",
      "  '/home/local/jarlehti/projects/gradu/models/napsu_binary3d_AB+BC+AC_10e_NUTS.dill'),\n",
      " (14,\n",
      "  '/home/local/jarlehti/projects/gradu/models/napsu_binary3d_AB+BC+AC_01e_NUTS.dill'),\n",
      " (15,\n",
      "  '/home/local/jarlehti/projects/gradu/models/napsu_binary4d_AC_80e_NUTS.dill'),\n",
      " (16,\n",
      "  '/home/local/jarlehti/projects/gradu/models/napsu_binary4d_BC+CD_30e_NUTS.dill'),\n",
      " (17,\n",
      "  '/home/local/jarlehti/projects/gradu/models/napsu_binary4d_BC+CD_01e_NUTS.dill'),\n",
      " (18,\n",
      "  '/home/local/jarlehti/projects/gradu/models/napsu_binary4d_AC_30e_NUTS.dill'),\n",
      " (19,\n",
      "  '/home/local/jarlehti/projects/gradu/models/napsu_binary4d_AB+BC+CD_10e_NUTS.dill'),\n",
      " (20,\n",
      "  '/home/local/jarlehti/projects/gradu/models/napsu_binary3d_AB+BC+AC_80e_NUTS.dill'),\n",
      " (21,\n",
      "  '/home/local/jarlehti/projects/gradu/models/napsu_binary4d_AB+AC_03e_NUTS.dill'),\n",
      " (22,\n",
      "  '/home/local/jarlehti/projects/gradu/models/napsu_binary4d_AC_01e_NUTS.dill'),\n",
      " (23,\n",
      "  '/home/local/jarlehti/projects/gradu/models/napsu_testing_binary4d_all_queries_500e_NUTS_LA.dill'),\n",
      " (24,\n",
      "  '/home/local/jarlehti/projects/gradu/models/napsu_binary4d_AB+AC_80e_NUTS.dill'),\n",
      " (25,\n",
      "  '/home/local/jarlehti/projects/gradu/models/napsu_binary4d_AB+BC+CD_03e_NUTS.dill'),\n",
      " (26,\n",
      "  '/home/local/jarlehti/projects/gradu/models/napsu_binary4d_BC_03e_NUTS.dill'),\n",
      " (27,\n",
      "  '/home/local/jarlehti/projects/gradu/models/napsu_binary4d_AB+AC_10e_NUTS.dill'),\n",
      " (28,\n",
      "  '/home/local/jarlehti/projects/gradu/models/napsu_binary4d_BC+CD_03e_NUTS.dill'),\n",
      " (29,\n",
      "  '/home/local/jarlehti/projects/gradu/models/napsu_binary4d_AC_10e_NUTS.dill'),\n",
      " (30,\n",
      "  '/home/local/jarlehti/projects/gradu/models/napsu_binary4d_AC_03e_NUTS.dill'),\n",
      " (31,\n",
      "  '/home/local/jarlehti/projects/gradu/models/napsu_binary3d_AB+BC+AC_30e_NUTS.dill')]\n"
     ]
    }
   ],
   "source": [
    "pprint.pprint([(i, m) for i, m in enumerate(model_files)])"
   ]
  },
  {
   "cell_type": "code",
   "execution_count": 8,
   "id": "9f7f0803",
   "metadata": {},
   "outputs": [],
   "source": [
    "# Open random model\n",
    "model_path = os.path.join(model_files[23])\n",
    "model_binary = open(model_path, \"rb\")\n",
    "model = NapsuMQResult.load(model_binary)"
   ]
  },
  {
   "cell_type": "code",
   "execution_count": 9,
   "id": "59239b00",
   "metadata": {},
   "outputs": [
    {
     "data": {
      "text/plain": [
       "{'experiment_id': '13F45B7N',\n",
       " 'dataset_name': 'binary4d',\n",
       " 'query_str': 'AD+BD+CD',\n",
       " 'query_list': [('A', 'D'), ('B', 'D'), ('C', 'D')],\n",
       " 'epsilon': 50,\n",
       " 'delta': 1e-10,\n",
       " 'MCMC_algo': 'NUTS',\n",
       " 'laplace_approximation': True,\n",
       " 'missing_query': None,\n",
       " 'discretization': None,\n",
       " 'n_canonical_queries': 7,\n",
       " 'junction_tree_width': 2,\n",
       " 'suff_stat_dim': (7,),\n",
       " 'laplace_approximation_algorithm': 'jaxopt_LBFGS'}"
      ]
     },
     "execution_count": 9,
     "metadata": {},
     "output_type": "execute_result"
    }
   ],
   "source": [
    "model.meta"
   ]
  },
  {
   "cell_type": "code",
   "execution_count": 10,
   "id": "9eed6d12",
   "metadata": {},
   "outputs": [
    {
     "name": "stdout",
     "output_type": "stream",
     "text": [
      "100000\n",
      "[1.0, 0.0, 2.0]\n"
     ]
    }
   ],
   "source": [
    "dataset_name = model.meta['dataset_name']\n",
    "n_original_datapoints = TRAIN_DATASET_SIZE_MAP[dataset_name]\n",
    "print(n_original_datapoints)\n",
    "true_params = TRUE_COEFFICIENTS_FOR_DATASETS[dataset_name]\n",
    "print(true_params)"
   ]
  },
  {
   "cell_type": "code",
   "execution_count": 11,
   "id": "9c6dd596",
   "metadata": {},
   "outputs": [],
   "source": [
    "orig_df = pd.read_csv(os.path.join(DATASETS_FOLDER, \"binary4d.csv\"))"
   ]
  },
  {
   "cell_type": "code",
   "execution_count": 12,
   "id": "8d1e185c",
   "metadata": {},
   "outputs": [
    {
     "data": {
      "text/html": [
       "<div>\n",
       "<style scoped>\n",
       "    .dataframe tbody tr th:only-of-type {\n",
       "        vertical-align: middle;\n",
       "    }\n",
       "\n",
       "    .dataframe tbody tr th {\n",
       "        vertical-align: top;\n",
       "    }\n",
       "\n",
       "    .dataframe thead th {\n",
       "        text-align: right;\n",
       "    }\n",
       "</style>\n",
       "<table border=\"1\" class=\"dataframe\">\n",
       "  <thead>\n",
       "    <tr style=\"text-align: right;\">\n",
       "      <th></th>\n",
       "      <th>A</th>\n",
       "      <th>B</th>\n",
       "      <th>C</th>\n",
       "      <th>D</th>\n",
       "    </tr>\n",
       "  </thead>\n",
       "  <tbody>\n",
       "    <tr>\n",
       "      <th>0</th>\n",
       "      <td>0</td>\n",
       "      <td>0</td>\n",
       "      <td>1</td>\n",
       "      <td>1</td>\n",
       "    </tr>\n",
       "    <tr>\n",
       "      <th>1</th>\n",
       "      <td>0</td>\n",
       "      <td>1</td>\n",
       "      <td>0</td>\n",
       "      <td>0</td>\n",
       "    </tr>\n",
       "    <tr>\n",
       "      <th>2</th>\n",
       "      <td>0</td>\n",
       "      <td>0</td>\n",
       "      <td>0</td>\n",
       "      <td>1</td>\n",
       "    </tr>\n",
       "    <tr>\n",
       "      <th>3</th>\n",
       "      <td>1</td>\n",
       "      <td>1</td>\n",
       "      <td>0</td>\n",
       "      <td>1</td>\n",
       "    </tr>\n",
       "    <tr>\n",
       "      <th>4</th>\n",
       "      <td>0</td>\n",
       "      <td>1</td>\n",
       "      <td>0</td>\n",
       "      <td>1</td>\n",
       "    </tr>\n",
       "    <tr>\n",
       "      <th>...</th>\n",
       "      <td>...</td>\n",
       "      <td>...</td>\n",
       "      <td>...</td>\n",
       "      <td>...</td>\n",
       "    </tr>\n",
       "    <tr>\n",
       "      <th>99995</th>\n",
       "      <td>1</td>\n",
       "      <td>1</td>\n",
       "      <td>1</td>\n",
       "      <td>1</td>\n",
       "    </tr>\n",
       "    <tr>\n",
       "      <th>99996</th>\n",
       "      <td>0</td>\n",
       "      <td>0</td>\n",
       "      <td>0</td>\n",
       "      <td>0</td>\n",
       "    </tr>\n",
       "    <tr>\n",
       "      <th>99997</th>\n",
       "      <td>0</td>\n",
       "      <td>0</td>\n",
       "      <td>1</td>\n",
       "      <td>1</td>\n",
       "    </tr>\n",
       "    <tr>\n",
       "      <th>99998</th>\n",
       "      <td>0</td>\n",
       "      <td>1</td>\n",
       "      <td>0</td>\n",
       "      <td>1</td>\n",
       "    </tr>\n",
       "    <tr>\n",
       "      <th>99999</th>\n",
       "      <td>0</td>\n",
       "      <td>0</td>\n",
       "      <td>1</td>\n",
       "      <td>0</td>\n",
       "    </tr>\n",
       "  </tbody>\n",
       "</table>\n",
       "<p>100000 rows × 4 columns</p>\n",
       "</div>"
      ],
      "text/plain": [
       "       A  B  C  D\n",
       "0      0  0  1  1\n",
       "1      0  1  0  0\n",
       "2      0  0  0  1\n",
       "3      1  1  0  1\n",
       "4      0  1  0  1\n",
       "...   .. .. .. ..\n",
       "99995  1  1  1  1\n",
       "99996  0  0  0  0\n",
       "99997  0  0  1  1\n",
       "99998  0  1  0  1\n",
       "99999  0  0  1  0\n",
       "\n",
       "[100000 rows x 4 columns]"
      ]
     },
     "execution_count": 12,
     "metadata": {},
     "output_type": "execute_result"
    }
   ],
   "source": [
    "orig_df"
   ]
  },
  {
   "cell_type": "code",
   "execution_count": 13,
   "id": "0f1c697f",
   "metadata": {},
   "outputs": [
    {
     "name": "stdout",
     "output_type": "stream",
     "text": [
      "[0.50061 0.49617 0.49991 0.76634]\n",
      "                 Generalized Linear Model Regression Results                  \n",
      "==============================================================================\n",
      "Dep. Variable:                      y   No. Observations:               100000\n",
      "Model:                            GLM   Df Residuals:                    99997\n",
      "Model Family:                Binomial   Df Model:                            2\n",
      "Link Function:                  Logit   Scale:                          1.0000\n",
      "Method:                          IRLS   Log-Likelihood:                -45695.\n",
      "Date:                Thu, 09 Mar 2023   Deviance:                       91390.\n",
      "Time:                        15:53:27   Pearson chi2:                 9.99e+04\n",
      "No. Iterations:                     6   Pseudo R-squ. (CS):             0.1592\n",
      "Covariance Type:            nonrobust                                         \n",
      "==============================================================================\n",
      "                 coef    std err          z      P>|z|      [0.025      0.975]\n",
      "------------------------------------------------------------------------------\n",
      "x1             1.0169      0.015     69.995      0.000       0.988       1.045\n",
      "x2            -0.0048      0.014     -0.356      0.722      -0.032       0.022\n",
      "x3             1.9970      0.018    113.787      0.000       1.963       2.031\n",
      "==============================================================================\n"
     ]
    }
   ],
   "source": [
    "orig_df_np = orig_df.to_numpy()\n",
    "print(np.mean(orig_df_np, axis=0))\n",
    "\n",
    "X_array_orig = orig_df_np[:,:-1]\n",
    "y_array_orig = orig_df_np[:,-1]\n",
    "lr_model_orig = sm.GLM(y_array_orig, X_array_orig, family=sm.families.Binomial()).fit()\n",
    "print(lr_model_orig.summary())"
   ]
  },
  {
   "cell_type": "code",
   "execution_count": 14,
   "id": "a97922e3",
   "metadata": {},
   "outputs": [
    {
     "name": "stdout",
     "output_type": "stream",
     "text": [
      "[ 1.01686765 -0.00484748  1.99702816]\n"
     ]
    }
   ],
   "source": [
    "original_params = lr_model_orig.params\n",
    "print(original_params)"
   ]
  },
  {
   "cell_type": "code",
   "execution_count": 15,
   "id": "7fac7ee7",
   "metadata": {},
   "outputs": [
    {
     "name": "stdout",
     "output_type": "stream",
     "text": [
      "Generating data with 100000 points and 100 datasets\n"
     ]
    },
    {
     "data": {
      "image/png": "[encoded data removed]",
      "text/plain": [
       "<Figure size 1200x550 with 4 Axes>"
      ]
     },
     "metadata": {},
     "output_type": "display_data"
    }
   ],
   "source": [
    "rng = jax.random.PRNGKey(32863812)\n",
    "synthetic_dataset = model.generate(rng, n_original_datapoints, 100)\n",
    "\n",
    "\n",
    "def value_count_list(df, col, type):\n",
    "    counts = df[col].value_counts()\n",
    "    return [(value, counts[value], type) for value in counts.index]\n",
    "\n",
    "def value_count_df(orig_df, synthetic_dfs, col):\n",
    "    vl_list = value_count_list(orig_df, col, \"Original\")\n",
    "    for synthetic_df in synthetic_dfs:\n",
    "        vl_list += (value_count_list(synthetic_df, col, \"Synthetic\"))\n",
    "\n",
    "    return pd.DataFrame.from_records(vl_list, columns=[\"Value\", \"Count\", \"Type\"])\n",
    "\n",
    "value_count_dfs = { col: value_count_df(orig_df, synthetic_dataset, col) for col in orig_df.columns }\n",
    "\n",
    "fig, axes = plt.subplots(1, len(value_count_dfs.items()), figsize=(3 * len(value_count_dfs.items()), 5.5))\n",
    "for i, (key, value) in enumerate(value_count_dfs.items()):\n",
    "    ax = axes[i]\n",
    "    ax.set_title(key)\n",
    "    ax.tick_params(\"x\")\n",
    "    sns.barplot(x=\"Value\", y=\"Count\", data=value_count_dfs[key], hue=\"Type\", estimator=np.mean, ax=ax)\n",
    "    if i < len(value_count_dfs.items()) - 1: \n",
    "        ax.get_legend().remove()\n",
    "    else:\n",
    "        ax.legend(loc=\"upper left\", bbox_to_anchor=(1.00, 1))\n",
    "        \n",
    "plt.tight_layout()\n",
    "plt.show()"
   ]
  },
  {
   "cell_type": "code",
   "execution_count": 16,
   "id": "92c3cfa2",
   "metadata": {},
   "outputs": [
    {
     "data": {
      "text/html": [
       "<div>\n",
       "<style scoped>\n",
       "    .dataframe tbody tr th:only-of-type {\n",
       "        vertical-align: middle;\n",
       "    }\n",
       "\n",
       "    .dataframe tbody tr th {\n",
       "        vertical-align: top;\n",
       "    }\n",
       "\n",
       "    .dataframe thead th {\n",
       "        text-align: right;\n",
       "    }\n",
       "</style>\n",
       "<table border=\"1\" class=\"dataframe\">\n",
       "  <thead>\n",
       "    <tr style=\"text-align: right;\">\n",
       "      <th></th>\n",
       "      <th>A</th>\n",
       "      <th>B</th>\n",
       "      <th>C</th>\n",
       "      <th>D</th>\n",
       "    </tr>\n",
       "  </thead>\n",
       "  <tbody>\n",
       "    <tr>\n",
       "      <th>0</th>\n",
       "      <td>0</td>\n",
       "      <td>0</td>\n",
       "      <td>0</td>\n",
       "      <td>1</td>\n",
       "    </tr>\n",
       "    <tr>\n",
       "      <th>1</th>\n",
       "      <td>0</td>\n",
       "      <td>0</td>\n",
       "      <td>0</td>\n",
       "      <td>1</td>\n",
       "    </tr>\n",
       "    <tr>\n",
       "      <th>2</th>\n",
       "      <td>1</td>\n",
       "      <td>0</td>\n",
       "      <td>1</td>\n",
       "      <td>1</td>\n",
       "    </tr>\n",
       "    <tr>\n",
       "      <th>3</th>\n",
       "      <td>1</td>\n",
       "      <td>1</td>\n",
       "      <td>0</td>\n",
       "      <td>1</td>\n",
       "    </tr>\n",
       "    <tr>\n",
       "      <th>4</th>\n",
       "      <td>0</td>\n",
       "      <td>1</td>\n",
       "      <td>0</td>\n",
       "      <td>1</td>\n",
       "    </tr>\n",
       "    <tr>\n",
       "      <th>...</th>\n",
       "      <td>...</td>\n",
       "      <td>...</td>\n",
       "      <td>...</td>\n",
       "      <td>...</td>\n",
       "    </tr>\n",
       "    <tr>\n",
       "      <th>99995</th>\n",
       "      <td>1</td>\n",
       "      <td>0</td>\n",
       "      <td>0</td>\n",
       "      <td>1</td>\n",
       "    </tr>\n",
       "    <tr>\n",
       "      <th>99996</th>\n",
       "      <td>1</td>\n",
       "      <td>1</td>\n",
       "      <td>0</td>\n",
       "      <td>1</td>\n",
       "    </tr>\n",
       "    <tr>\n",
       "      <th>99997</th>\n",
       "      <td>1</td>\n",
       "      <td>1</td>\n",
       "      <td>0</td>\n",
       "      <td>1</td>\n",
       "    </tr>\n",
       "    <tr>\n",
       "      <th>99998</th>\n",
       "      <td>0</td>\n",
       "      <td>1</td>\n",
       "      <td>1</td>\n",
       "      <td>1</td>\n",
       "    </tr>\n",
       "    <tr>\n",
       "      <th>99999</th>\n",
       "      <td>0</td>\n",
       "      <td>0</td>\n",
       "      <td>0</td>\n",
       "      <td>0</td>\n",
       "    </tr>\n",
       "  </tbody>\n",
       "</table>\n",
       "<p>100000 rows × 4 columns</p>\n",
       "</div>"
      ],
      "text/plain": [
       "       A  B  C  D\n",
       "0      0  0  0  1\n",
       "1      0  0  0  1\n",
       "2      1  0  1  1\n",
       "3      1  1  0  1\n",
       "4      0  1  0  1\n",
       "...   .. .. .. ..\n",
       "99995  1  0  0  1\n",
       "99996  1  1  0  1\n",
       "99997  1  1  0  1\n",
       "99998  0  1  1  1\n",
       "99999  0  0  0  0\n",
       "\n",
       "[100000 rows x 4 columns]"
      ]
     },
     "execution_count": 16,
     "metadata": {},
     "output_type": "execute_result"
    }
   ],
   "source": [
    "synthetic_dataset[0]"
   ]
  },
  {
   "cell_type": "code",
   "execution_count": 17,
   "id": "614489dc",
   "metadata": {},
   "outputs": [
    {
     "name": "stdout",
     "output_type": "stream",
     "text": [
      "[0.5007072 0.4962882 0.4997451 0.766621 ]\n",
      "                 Generalized Linear Model Regression Results                  \n",
      "==============================================================================\n",
      "Dep. Variable:                      y   No. Observations:             10000000\n",
      "Model:                            GLM   Df Residuals:                  9999997\n",
      "Model Family:                Binomial   Df Model:                            2\n",
      "Link Function:                  Logit   Scale:                          1.0000\n",
      "Method:                          IRLS   Log-Likelihood:            -4.6127e+06\n",
      "Date:                Thu, 09 Mar 2023   Deviance:                   9.2254e+06\n",
      "Time:                        15:54:04   Pearson chi2:                 1.00e+07\n",
      "No. Iterations:                     7   Pseudo R-squ. (CS):             0.1514\n",
      "Covariance Type:            nonrobust                                         \n",
      "==============================================================================\n",
      "                 coef    std err          z      P>|z|      [0.025      0.975]\n",
      "------------------------------------------------------------------------------\n",
      "x1             0.9388      0.001    644.661      0.000       0.936       0.942\n",
      "x2             0.0545      0.001     40.707      0.000       0.052       0.057\n",
      "x3             1.9652      0.002   1117.225      0.000       1.962       1.969\n",
      "==============================================================================\n"
     ]
    }
   ],
   "source": [
    "synthetic_dfs_np = np.concatenate(synthetic_dataset, axis=0)\n",
    "print(np.mean(synthetic_dfs_np, axis=0))\n",
    "X_array_syn = synthetic_dfs_np[:,:-1]\n",
    "y_array_syn = synthetic_dfs_np[:,-1]\n",
    "lr_model_syn = sm.GLM(y_array_syn, X_array_syn, family=sm.families.Binomial()).fit()\n",
    "print(lr_model_syn.summary())"
   ]
  },
  {
   "cell_type": "code",
   "execution_count": 18,
   "id": "b0c43eae",
   "metadata": {},
   "outputs": [
    {
     "name": "stdout",
     "output_type": "stream",
     "text": [
      "[0.5007072 0.4962882 0.4997451 0.766621 ]\n",
      "                 Generalized Linear Model Regression Results                  \n",
      "==============================================================================\n",
      "Dep. Variable:                      y   No. Observations:             10000000\n",
      "Model:                            GLM   Df Residuals:                  9999997\n",
      "Model Family:                Binomial   Df Model:                            2\n",
      "Link Function:                  Logit   Scale:                          1.0000\n",
      "Method:                          IRLS   Log-Likelihood:            -4.7626e+06\n",
      "Date:                Thu, 09 Mar 2023   Deviance:                   3.7637e+07\n",
      "Time:                        15:54:48   Pearson chi2:                 1.10e+07\n",
      "No. Iterations:                     7   Pseudo R-squ. (CS):             0.1455\n",
      "Covariance Type:            nonrobust                                         \n",
      "==============================================================================\n",
      "                 coef    std err          z      P>|z|      [0.025      0.975]\n",
      "------------------------------------------------------------------------------\n",
      "x1             0.9301      0.001    651.812      0.000       0.927       0.933\n",
      "x2             0.0807      0.001     61.404      0.000       0.078       0.083\n",
      "x3             1.8985      0.002   1119.152      0.000       1.895       1.902\n",
      "==============================================================================\n"
     ]
    }
   ],
   "source": [
    "synthetic_dfs_np = np.concatenate(synthetic_dataset, axis=0)\n",
    "print(np.mean(synthetic_dfs_np, axis=0))\n",
    "noisy_synthetic_df_np = synthetic_dfs_np + np.random.normal(scale=0.1, size=synthetic_dfs_np.shape)\n",
    "X_array_noisy_syn = noisy_synthetic_df_np[:,:-1]\n",
    "y_array_noisy_syn = noisy_synthetic_df_np[:,-1]\n",
    "lr_model_noisy_syn = sm.GLM(y_array_noisy_syn, X_array_noisy_syn, family=sm.families.Binomial()).fit()\n",
    "print(lr_model_noisy_syn.summary())"
   ]
  },
  {
   "cell_type": "code",
   "execution_count": 19,
   "id": "c3db5fbf",
   "metadata": {},
   "outputs": [
    {
     "data": {
      "text/plain": [
       "<AxesSubplot:>"
      ]
     },
     "execution_count": 19,
     "metadata": {},
     "output_type": "execute_result"
    },
    {
     "data": {
      "image/png": "[encoded data removed]",
      "text/plain": [
       "<Figure size 640x480 with 1 Axes>"
      ]
     },
     "metadata": {},
     "output_type": "display_data"
    }
   ],
   "source": [
    "params = lr_model_syn.params\n",
    "predictions = expit(synthetic_dfs_np[:,:-1] @ params)\n",
    "sns.regplot(x=predictions[0:5000], y=synthetic_dfs_np[:,3][0:5000], logistic=True)"
   ]
  },
  {
   "cell_type": "code",
   "execution_count": 20,
   "id": "1e5795cc",
   "metadata": {},
   "outputs": [
    {
     "name": "stdout",
     "output_type": "stream",
     "text": [
      "                 Generalized Linear Model Regression Results                  \n",
      "==============================================================================\n",
      "Dep. Variable:                      y   No. Observations:               100000\n",
      "Model:                            GLM   Df Residuals:                    99997\n",
      "Model Family:                Binomial   Df Model:                            2\n",
      "Link Function:                  Logit   Scale:                          1.0000\n",
      "Method:                          IRLS   Log-Likelihood:                -45695.\n",
      "Date:                Thu, 09 Mar 2023   Deviance:                       91390.\n",
      "Time:                        15:54:57   Pearson chi2:                 9.99e+04\n",
      "No. Iterations:                     6   Pseudo R-squ. (CS):             0.1592\n",
      "Covariance Type:            nonrobust                                         \n",
      "==============================================================================\n",
      "                 coef    std err          z      P>|z|      [0.025      0.975]\n",
      "------------------------------------------------------------------------------\n",
      "x1             1.0169      0.015     69.995      0.000       0.988       1.045\n",
      "x2            -0.0048      0.014     -0.356      0.722      -0.032       0.022\n",
      "x3             1.9970      0.018    113.787      0.000       1.963       2.031\n",
      "==============================================================================\n"
     ]
    }
   ],
   "source": [
    "orig_df_np = orig_df.to_numpy()\n",
    "X_array_orig = orig_df_np[:,:-1]\n",
    "y_array_orig = orig_df_np[:,-1]\n",
    "lr_model_orig =  sm.GLM(y_array_orig, X_array_orig, family=sm.families.Binomial()).fit()\n",
    "print(lr_model_orig.summary())"
   ]
  },
  {
   "cell_type": "code",
   "execution_count": 21,
   "id": "232b2be3",
   "metadata": {},
   "outputs": [
    {
     "data": {
      "text/plain": [
       "array([0, 1], dtype=int32)"
      ]
     },
     "execution_count": 21,
     "metadata": {},
     "output_type": "execute_result"
    }
   ],
   "source": [
    "np.unique(synthetic_dfs_np)"
   ]
  },
  {
   "cell_type": "code",
   "execution_count": 22,
   "id": "f3a0e4d2",
   "metadata": {},
   "outputs": [
    {
     "data": {
      "text/plain": [
       "<AxesSubplot:>"
      ]
     },
     "execution_count": 22,
     "metadata": {},
     "output_type": "execute_result"
    },
    {
     "data": {
      "image/png": "[encoded data removed]",
      "text/plain": [
       "<Figure size 640x480 with 1 Axes>"
      ]
     },
     "metadata": {},
     "output_type": "display_data"
    }
   ],
   "source": [
    "params_orig = lr_model_orig.params\n",
    "predictions_orig = expit(orig_df_np[:,:-1] @ params_orig)\n",
    "\n",
    "sns.regplot(x=predictions_orig[0:5000], y=orig_df_np[:,3][0:5000], logistic=True)"
   ]
  },
  {
   "cell_type": "code",
   "execution_count": 23,
   "id": "9ee32e7e",
   "metadata": {},
   "outputs": [
    {
     "name": "stdout",
     "output_type": "stream",
     "text": [
      "Expectation for param 1: 0.9388998919953447\n",
      "Expectation for param 2: 0.05454964515445632\n",
      "Expectation for param 3: 1.9654335562673644\n"
     ]
    }
   ],
   "source": [
    "q = np.zeros((len(synthetic_dataset), 3))\n",
    "u = np.zeros((len(synthetic_dataset), 3))\n",
    "\n",
    "for i, syn_df in enumerate(synthetic_dataset):\n",
    "    X_array_syn = syn_df.to_numpy()[:,:-1]\n",
    "    y_array_syn = syn_df.to_numpy()[:,-1]\n",
    "        \n",
    "    logistic_regression_result_with_syn = sm.GLM(y_array_syn, X_array_syn, family=sm.families.Binomial()).fit()\n",
    "    \n",
    "    q[i, :] = logistic_regression_result_with_syn.params\n",
    "    u[i, :] = logistic_regression_result_with_syn.bse**2\n",
    "    \n",
    "print(f\"Expectation for param 1: {np.mean(q[:,0])}\")\n",
    "print(f\"Expectation for param 2: {np.mean(q[:,1])}\")\n",
    "print(f\"Expectation for param 3: {np.mean(q[:,2])}\")\n",
    "# print(f\"Expectation for param 3: {np.mean(q[:,3])}\")"
   ]
  },
  {
   "cell_type": "code",
   "execution_count": 24,
   "id": "7db88e39",
   "metadata": {},
   "outputs": [],
   "source": [
    "# How many repeats to calculate coverage\n",
    "n_repeats = 20\n",
    "\n",
    "confidence_intervals = np.round(np.linspace(0.05, 0.95, 10), 2)\n",
    "\n",
    "n_datasets = [200]"
   ]
  },
  {
   "cell_type": "code",
   "execution_count": 25,
   "id": "9fc599f9",
   "metadata": {},
   "outputs": [],
   "source": [
    "@dataclass\n",
    "class ConfidenceIntervalObject:\n",
    "    original_dataset_name: str\n",
    "    index: int\n",
    "    n_datasets: int\n",
    "    conf_int_range: float\n",
    "    conf_int_start: float\n",
    "    conf_int_end: float\n",
    "    conf_int_width: float\n",
    "    true_parameter_value: float\n",
    "    contains_true_parameter: bool\n",
    "    meta: dict\n",
    "        \n",
    "    def to_dict(self):\n",
    "        return {\n",
    "            'original_dataset_name': self.original_dataset_name,\n",
    "            'index': self.index,\n",
    "            'n_datasets': self.n_datasets,\n",
    "            'conf_int_range': self.conf_int_range,\n",
    "            'conf_int_start': self.conf_int_start,\n",
    "            'conf_int_end': self.conf_int_end,\n",
    "            'conf_int_width': self.conf_int_width,\n",
    "            'true_parameter_value': self.true_parameter_value,\n",
    "            'contains_true_parameter': self.contains_true_parameter,\n",
    "            **self.meta\n",
    "        }"
   ]
  },
  {
   "cell_type": "code",
   "execution_count": null,
   "id": "c318c35e",
   "metadata": {},
   "outputs": [
    {
     "name": "stdout",
     "output_type": "stream",
     "text": [
      "Round: 0\n",
      "Generating 200 datasets for interval 0.05\n",
      "Generating data with 100000 points and 200 datasets\n",
      "True param value: 1.0, confidence interval: 0.9364055032039541 - 0.938062392669576, nn confidence interval: 0.9364055032039541 - 0.938062392669576\n",
      "{'original_dataset_name': 'binary4d', 'index': 0, 'n_datasets': 200, 'conf_int_range': 0.05, 'conf_int_start': 0.9364055032039541, 'conf_int_end': 0.938062392669576, 'conf_int_width': 0.0016568894656219246, 'true_parameter_value': 1.0, 'contains_true_parameter': False, 'epsilon': 50}\n",
      "True param value: 0.0, confidence interval: 0.05356825963017415 - 0.055179186838215745, nn confidence interval: 0.05356825963017415 - 0.055179186838215745\n",
      "{'original_dataset_name': 'binary4d', 'index': 0, 'n_datasets': 200, 'conf_int_range': 0.05, 'conf_int_start': 0.05356825963017415, 'conf_int_end': 0.055179186838215745, 'conf_int_width': 0.001610927208041596, 'true_parameter_value': 0.0, 'contains_true_parameter': False, 'epsilon': 50}\n",
      "True param value: 2.0, confidence interval: 1.9619028069889408 - 1.964010303138732, nn confidence interval: 1.9619028069889408 - 1.964010303138732\n",
      "{'original_dataset_name': 'binary4d', 'index': 0, 'n_datasets': 200, 'conf_int_range': 0.05, 'conf_int_start': 1.9619028069889408, 'conf_int_end': 1.964010303138732, 'conf_int_width': 0.0021074961497911104, 'true_parameter_value': 2.0, 'contains_true_parameter': False, 'epsilon': 50}\n",
      "Generating 200 datasets for interval 0.15\n",
      "Generating data with 100000 points and 200 datasets\n"
     ]
    }
   ],
   "source": [
    "rng = jax.random.PRNGKey(2356991365)\n",
    "sampling_rngs = jax.random.split(rng, n_repeats * len(n_datasets))\n",
    "\n",
    "ci_data_objects = []\n",
    "\n",
    "for n in range(n_repeats):\n",
    "    print(f\"Round: {n}\")\n",
    "    for interval in confidence_intervals:\n",
    "        for i, n_dataset in enumerate(n_datasets):\n",
    "            print(f\"Generating {n_dataset} datasets for interval {interval}\")\n",
    "            sampling_index = n + i\n",
    "            datasets = model.generate(sampling_rngs[sampling_index], n_original_datapoints, n_dataset)\n",
    "            datasets_np = dataframe_list_to_tensor(datasets)\n",
    "            \n",
    "            q, u = logistic_regression(datasets_np, add_constant=False)\n",
    "            \n",
    "            for d in range(len(true_params)):\n",
    "                q_i = q[:,d]\n",
    "                u_i = u[:,d]\n",
    "                \n",
    "                ci_result = conf_int(q_i, u_i, interval)\n",
    "                nn_ci_result = non_negative_conf_int(q_i, u_i, interval, n_original_datapoints, n_original_datapoints)\n",
    "                \n",
    "                if np.isnan(ci_result[0]) or np.isnan(ci_result[1]) or np.isnan(nn_ci_result[0]) or np.isnan(nn_ci_result[1]):\n",
    "                    print(f\"WARNING: Confidence interval had nan: {ci_result}, nn {nn_ci_result}\")\n",
    "\n",
    "                true_param_value = true_params[d]\n",
    "                \n",
    "                print(f\"True param value: {true_param_value}, confidence interval: {ci_result[0]} - {ci_result[1]}, nn confidence interval: {nn_ci_result[0]} - {nn_ci_result[1]}\")\n",
    "                \n",
    "                conf_int_object = ConfidenceIntervalObject(\n",
    "                    original_dataset_name = dataset_name,\n",
    "                    index = n,\n",
    "                    n_datasets = n_dataset,\n",
    "                    conf_int_range = interval,\n",
    "                    conf_int_start = ci_result[0],\n",
    "                    conf_int_end = ci_result[1],\n",
    "                    conf_int_width = ci_result[1] - ci_result[0],\n",
    "                    true_parameter_value = true_param_value,\n",
    "                    contains_true_parameter = ci_result[0] <= true_param_value <= ci_result[1],\n",
    "                    meta = {\n",
    "                        'epsilon': model.meta['epsilon']\n",
    "                    }\n",
    "                )\n",
    "                \n",
    "                ci_data_objects.append(conf_int_object)\n",
    "                \n",
    "                print(conf_int_object.to_dict())"
   ]
  },
  {
   "cell_type": "code",
   "execution_count": null,
   "id": "7eb78f85",
   "metadata": {},
   "outputs": [],
   "source": [
    "ci_data_df = pd.DataFrame.from_records([obj.to_dict() for obj in ci_data_objects])"
   ]
  },
  {
   "cell_type": "code",
   "execution_count": null,
   "id": "4ec19e9b",
   "metadata": {},
   "outputs": [],
   "source": [
    "ci_data_df"
   ]
  },
  {
   "cell_type": "code",
   "execution_count": null,
   "id": "f6b42bf5",
   "metadata": {},
   "outputs": [],
   "source": [
    "fig, axes = plt.subplots(1, len(true_params), figsize=(16, 6))\n",
    "\n",
    "for i, param in enumerate(true_params):\n",
    "    ax = axes[i]\n",
    "    ci_data = ci_data_df[ci_data_df['true_parameter_value'] == param]\n",
    "    sns.lineplot(x=\"conf_int_range\", y=\"contains_true_parameter\", markers=True, err_style=\"band\", data=ci_data, ax=ax)\n",
    "    diag = (0.0, 1.01)\n",
    "    ax.plot(diag, diag, linestyle=\"dashed\", color=\"black\")\n",
    "    ax.set_xlim(diag)\n",
    "    ax.set_ylim(diag)\n",
    "    #axes[0, i].set_title(f\"True parameter: {param}\")\n",
    "    #axes[-1, i].set_xlabel(\"Conf Level\")"
   ]
  },
  {
   "cell_type": "code",
   "execution_count": null,
   "id": "9e792beb",
   "metadata": {},
   "outputs": [],
   "source": []
  }
 ],
 "metadata": {
  "kernelspec": {
   "display_name": "gradu",
   "language": "python",
   "name": "gradu"
  },
  "language_info": {
   "codemirror_mode": {
    "name": "ipython",
    "version": 3
   },
   "file_extension": ".py",
   "mimetype": "text/x-python",
   "name": "python",
   "nbconvert_exporter": "python",
   "pygments_lexer": "ipython3",
   "version": "3.8.10"
  }
 },
 "nbformat": 4,
 "nbformat_minor": 5
}
