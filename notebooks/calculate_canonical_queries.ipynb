{
 "cells": [
  {
   "cell_type": "code",
   "execution_count": 1,
   "id": "dc349934",
   "metadata": {},
   "outputs": [],
   "source": [
    "import sys\n",
    "sys.path.append(\"/home/jarlehti/projects/gradu\")"
   ]
  },
  {
   "cell_type": "code",
   "execution_count": 2,
   "id": "2a455739",
   "metadata": {},
   "outputs": [],
   "source": [
    "import os\n",
    "import itertools\n",
    "import pandas as pd\n",
    "import pickle\n",
    "from src.utils.preprocess_dataset import get_adult_train_small, get_adult_train_large, clean_adult_with_discretization, get_adult_train_no_discretization, get_adult_train_raw, ADULT_COLUMNS_SMALL, ADULT_COLUMNS_LARGE, get_adult_train_high_discretization, get_adult_train_independence_pruning, get_adult_train_low_discretization\n",
    "from src.napsu_mq.dataframe_data import DataFrameData\n",
    "from src.napsu_mq.mst import MST_selection, Domain, Dataset\n",
    "from src.napsu_mq.marginal_query import FullMarginalQuerySet\n",
    "from src.napsu_mq.marginal_query_torch import FullMarginalQuerySet as FullMarginalQuerySetTorch\n",
    "from src.utils.query_utils import calculate_query_number"
   ]
  },
  {
   "cell_type": "code",
   "execution_count": 3,
   "id": "828a878b",
   "metadata": {},
   "outputs": [],
   "source": [
    "CURRENT_FOLDER = os.path.dirname(os.path.dirname(os.path.abspath(__name__)))\n",
    "DATASETS_FOLDER = os.path.join(CURRENT_FOLDER, \"data\", \"datasets\")\n",
    "ORIG_RESULTS_FOLDER = os.path.join(CURRENT_FOLDER, \"data\", \"orig_results\")"
   ]
  },
  {
   "cell_type": "code",
   "execution_count": 4,
   "id": "742566e7",
   "metadata": {},
   "outputs": [],
   "source": [
    "adult_small = get_adult_train_small(DATASETS_FOLDER)\n",
    "adult_large = get_adult_train_large(DATASETS_FOLDER)\n",
    "adult_no_discretization = get_adult_train_no_discretization(DATASETS_FOLDER)\n",
    "adult_high_discretization = get_adult_train_high_discretization(DATASETS_FOLDER)\n",
    "adult_raw = get_adult_train_raw(DATASETS_FOLDER)\n",
    "adult_independence_pruning = get_adult_train_independence_pruning(DATASETS_FOLDER)\n",
    "adult_low_discretization = get_adult_train_low_discretization(DATASETS_FOLDER)"
   ]
  },
  {
   "cell_type": "code",
   "execution_count": 5,
   "id": "bb8f7986",
   "metadata": {},
   "outputs": [
    {
     "data": {
      "text/plain": [
       "age               category\n",
       "education-num     category\n",
       "marital-status    category\n",
       "sex               category\n",
       "hours-per-week    category\n",
       "compensation      category\n",
       "dtype: object"
      ]
     },
     "execution_count": 5,
     "metadata": {},
     "output_type": "execute_result"
    }
   ],
   "source": [
    "adult_small.dtypes"
   ]
  },
  {
   "cell_type": "code",
   "execution_count": 6,
   "id": "ab23d14f",
   "metadata": {},
   "outputs": [],
   "source": [
    "adult_reduced = pd.read_csv(os.path.join(DATASETS_FOLDER, \"adult-reduced-discretised-copy.csv\"), dtype=\"category\")"
   ]
  },
  {
   "cell_type": "code",
   "execution_count": 7,
   "id": "bfc041e5",
   "metadata": {},
   "outputs": [
    {
     "data": {
      "text/html": [
       "<div>\n",
       "<style scoped>\n",
       "    .dataframe tbody tr th:only-of-type {\n",
       "        vertical-align: middle;\n",
       "    }\n",
       "\n",
       "    .dataframe tbody tr th {\n",
       "        vertical-align: top;\n",
       "    }\n",
       "\n",
       "    .dataframe thead th {\n",
       "        text-align: right;\n",
       "    }\n",
       "</style>\n",
       "<table border=\"1\" class=\"dataframe\">\n",
       "  <thead>\n",
       "    <tr style=\"text-align: right;\">\n",
       "      <th></th>\n",
       "      <th>age</th>\n",
       "      <th>workclass</th>\n",
       "      <th>education-num</th>\n",
       "      <th>marital-status</th>\n",
       "      <th>sex</th>\n",
       "      <th>hours-per-week</th>\n",
       "      <th>had-capital-gains</th>\n",
       "      <th>had-capital-losses</th>\n",
       "      <th>compensation</th>\n",
       "    </tr>\n",
       "  </thead>\n",
       "  <tbody>\n",
       "    <tr>\n",
       "      <th>0</th>\n",
       "      <td>(16.927, 53.5]</td>\n",
       "      <td>State-gov</td>\n",
       "      <td>13</td>\n",
       "      <td>Never-married</td>\n",
       "      <td>Male</td>\n",
       "      <td>(0.902, 50.0]</td>\n",
       "      <td>1</td>\n",
       "      <td>0</td>\n",
       "      <td>0</td>\n",
       "    </tr>\n",
       "    <tr>\n",
       "      <th>1</th>\n",
       "      <td>(16.927, 53.5]</td>\n",
       "      <td>Self-emp-not-inc</td>\n",
       "      <td>13</td>\n",
       "      <td>Married</td>\n",
       "      <td>Male</td>\n",
       "      <td>(0.902, 50.0]</td>\n",
       "      <td>0</td>\n",
       "      <td>0</td>\n",
       "      <td>0</td>\n",
       "    </tr>\n",
       "    <tr>\n",
       "      <th>2</th>\n",
       "      <td>(16.927, 53.5]</td>\n",
       "      <td>Private</td>\n",
       "      <td>9</td>\n",
       "      <td>Divorced</td>\n",
       "      <td>Male</td>\n",
       "      <td>(0.902, 50.0]</td>\n",
       "      <td>0</td>\n",
       "      <td>0</td>\n",
       "      <td>0</td>\n",
       "    </tr>\n",
       "    <tr>\n",
       "      <th>3</th>\n",
       "      <td>(16.927, 53.5]</td>\n",
       "      <td>Private</td>\n",
       "      <td>7</td>\n",
       "      <td>Married</td>\n",
       "      <td>Male</td>\n",
       "      <td>(0.902, 50.0]</td>\n",
       "      <td>0</td>\n",
       "      <td>0</td>\n",
       "      <td>0</td>\n",
       "    </tr>\n",
       "    <tr>\n",
       "      <th>4</th>\n",
       "      <td>(16.927, 53.5]</td>\n",
       "      <td>Private</td>\n",
       "      <td>13</td>\n",
       "      <td>Married</td>\n",
       "      <td>Female</td>\n",
       "      <td>(0.902, 50.0]</td>\n",
       "      <td>0</td>\n",
       "      <td>0</td>\n",
       "      <td>0</td>\n",
       "    </tr>\n",
       "    <tr>\n",
       "      <th>...</th>\n",
       "      <td>...</td>\n",
       "      <td>...</td>\n",
       "      <td>...</td>\n",
       "      <td>...</td>\n",
       "      <td>...</td>\n",
       "      <td>...</td>\n",
       "      <td>...</td>\n",
       "      <td>...</td>\n",
       "      <td>...</td>\n",
       "    </tr>\n",
       "    <tr>\n",
       "      <th>30157</th>\n",
       "      <td>(16.927, 53.5]</td>\n",
       "      <td>Private</td>\n",
       "      <td>12</td>\n",
       "      <td>Married</td>\n",
       "      <td>Female</td>\n",
       "      <td>(0.902, 50.0]</td>\n",
       "      <td>0</td>\n",
       "      <td>0</td>\n",
       "      <td>0</td>\n",
       "    </tr>\n",
       "    <tr>\n",
       "      <th>30158</th>\n",
       "      <td>(16.927, 53.5]</td>\n",
       "      <td>Private</td>\n",
       "      <td>9</td>\n",
       "      <td>Married</td>\n",
       "      <td>Male</td>\n",
       "      <td>(0.902, 50.0]</td>\n",
       "      <td>0</td>\n",
       "      <td>0</td>\n",
       "      <td>1</td>\n",
       "    </tr>\n",
       "    <tr>\n",
       "      <th>30159</th>\n",
       "      <td>(53.5, 90.0]</td>\n",
       "      <td>Private</td>\n",
       "      <td>9</td>\n",
       "      <td>Widowed</td>\n",
       "      <td>Female</td>\n",
       "      <td>(0.902, 50.0]</td>\n",
       "      <td>0</td>\n",
       "      <td>0</td>\n",
       "      <td>0</td>\n",
       "    </tr>\n",
       "    <tr>\n",
       "      <th>30160</th>\n",
       "      <td>(16.927, 53.5]</td>\n",
       "      <td>Private</td>\n",
       "      <td>9</td>\n",
       "      <td>Never-married</td>\n",
       "      <td>Male</td>\n",
       "      <td>(0.902, 50.0]</td>\n",
       "      <td>0</td>\n",
       "      <td>0</td>\n",
       "      <td>0</td>\n",
       "    </tr>\n",
       "    <tr>\n",
       "      <th>30161</th>\n",
       "      <td>(16.927, 53.5]</td>\n",
       "      <td>Self-emp-inc</td>\n",
       "      <td>9</td>\n",
       "      <td>Married</td>\n",
       "      <td>Female</td>\n",
       "      <td>(0.902, 50.0]</td>\n",
       "      <td>1</td>\n",
       "      <td>0</td>\n",
       "      <td>1</td>\n",
       "    </tr>\n",
       "  </tbody>\n",
       "</table>\n",
       "<p>30162 rows × 9 columns</p>\n",
       "</div>"
      ],
      "text/plain": [
       "                  age         workclass education-num marital-status     sex  \\\n",
       "0      (16.927, 53.5]         State-gov            13  Never-married    Male   \n",
       "1      (16.927, 53.5]  Self-emp-not-inc            13        Married    Male   \n",
       "2      (16.927, 53.5]           Private             9       Divorced    Male   \n",
       "3      (16.927, 53.5]           Private             7        Married    Male   \n",
       "4      (16.927, 53.5]           Private            13        Married  Female   \n",
       "...               ...               ...           ...            ...     ...   \n",
       "30157  (16.927, 53.5]           Private            12        Married  Female   \n",
       "30158  (16.927, 53.5]           Private             9        Married    Male   \n",
       "30159    (53.5, 90.0]           Private             9        Widowed  Female   \n",
       "30160  (16.927, 53.5]           Private             9  Never-married    Male   \n",
       "30161  (16.927, 53.5]      Self-emp-inc             9        Married  Female   \n",
       "\n",
       "      hours-per-week had-capital-gains had-capital-losses compensation  \n",
       "0      (0.902, 50.0]                 1                  0            0  \n",
       "1      (0.902, 50.0]                 0                  0            0  \n",
       "2      (0.902, 50.0]                 0                  0            0  \n",
       "3      (0.902, 50.0]                 0                  0            0  \n",
       "4      (0.902, 50.0]                 0                  0            0  \n",
       "...              ...               ...                ...          ...  \n",
       "30157  (0.902, 50.0]                 0                  0            0  \n",
       "30158  (0.902, 50.0]                 0                  0            1  \n",
       "30159  (0.902, 50.0]                 0                  0            0  \n",
       "30160  (0.902, 50.0]                 0                  0            0  \n",
       "30161  (0.902, 50.0]                 1                  0            1  \n",
       "\n",
       "[30162 rows x 9 columns]"
      ]
     },
     "execution_count": 7,
     "metadata": {},
     "output_type": "execute_result"
    }
   ],
   "source": [
    "adult_high_discretization"
   ]
  },
  {
   "cell_type": "code",
   "execution_count": 8,
   "id": "11cad84d",
   "metadata": {},
   "outputs": [],
   "source": [
    "def calculate_canonical_queries(data, epsilon, column_feature_set=[]):\n",
    "    dataframe = DataFrameData(data)\n",
    "    n, d = dataframe.int_array.shape\n",
    "    print(dataframe.values_by_col)\n",
    "    delta = (n ** (-2))\n",
    "    domain_key_list = list(dataframe.values_by_col.keys())\n",
    "    domain_value_count_list = [len(dataframe.values_by_col[key]) for key in domain_key_list]\n",
    "    \n",
    "    domain = Domain(domain_key_list, domain_value_count_list)\n",
    "\n",
    "    query_sets = MST_selection(Dataset(dataframe.int_df, domain), epsilon, delta,\n",
    "                                   cliques_to_include=column_feature_set)\n",
    "\n",
    "    queries = FullMarginalQuerySet(query_sets, dataframe.values_by_col)\n",
    "    \n",
    "    query_list = queries.flatten()\n",
    "    queries = queries.get_canonical_queries()\n",
    "    query_number = calculate_query_number(queries.queries)\n",
    "    return query_number"
   ]
  },
  {
   "cell_type": "code",
   "execution_count": 9,
   "id": "a74acfd0",
   "metadata": {},
   "outputs": [
    {
     "name": "stdout",
     "output_type": "stream",
     "text": [
      "{'age': [0, 1, 2, 3, 4], 'education-num': [0, 1, 2, 3, 4, 5, 6, 7, 8, 9, 10, 11, 12, 13, 14, 15], 'marital-status': [0, 1, 2, 3, 4], 'sex': [0, 1], 'hours-per-week': [0, 1, 2, 3, 4], 'compensation': [0, 1]}\n",
      "Calculating canonical queries, clique_set length: 12\n"
     ]
    },
    {
     "name": "stderr",
     "output_type": "stream",
     "text": [
      "  0%|                                                                                                                                                   | 0/12 [00:00<?, ?it/s]\n",
      "5it [00:00, 5095.12it/s]\n",
      "\n",
      "2it [00:00, 1746.54it/s]\n",
      "\n",
      "32it [00:00, 7649.48it/s]\n",
      "\n",
      "5it [00:00, 6717.34it/s]\n",
      "\n",
      "10it [00:00, 4407.63it/s]\n",
      "\n",
      "16it [00:00, 5367.42it/s]\n",
      "\n",
      "25it [00:00, 8868.20it/s]\n",
      "\n",
      "10it [00:00, 4895.88it/s]\n",
      "\n",
      "10it [00:00, 6812.25it/s]\n",
      "\n",
      "5it [00:00, 9023.89it/s]\n",
      "\n",
      "2it [00:00, 4785.29it/s]\n",
      "100%|█████████████████████████████████████████████████████████████████████████████████████████████████████████████████████████████████████████| 12/12 [00:00<00:00, 127.51it/s]\n",
      "100%|█████████████████████████████████████████████████████████████████████████████████████████████████████████████████████████████████████████| 5/5 [00:00<00:00, 48545.19it/s]\n"
     ]
    },
    {
     "name": "stdout",
     "output_type": "stream",
     "text": [
      "Calculating new queries, not_original_clique_queries length: 29\n"
     ]
    },
    {
     "name": "stderr",
     "output_type": "stream",
     "text": [
      "100%|███████████████████████████████████████████████████████████████████████████████████████████████████████████████████████████████████████| 29/29 [00:00<00:00, 10433.59it/s]"
     ]
    },
    {
     "name": "stdout",
     "output_type": "stream",
     "text": [
      "72\n"
     ]
    },
    {
     "name": "stderr",
     "output_type": "stream",
     "text": [
      "\n"
     ]
    }
   ],
   "source": [
    "print(calculate_canonical_queries(adult_small, 1))"
   ]
  },
  {
   "cell_type": "code",
   "execution_count": 10,
   "id": "d4d5e6c8",
   "metadata": {},
   "outputs": [
    {
     "name": "stdout",
     "output_type": "stream",
     "text": [
      "{'age': [0, 1, 2, 3, 4], 'workclass': [0, 1, 2, 3, 4, 5, 6], 'education-num': [0, 1, 2, 3, 4, 5, 6, 7, 8, 9, 10, 11, 12, 13, 14, 15], 'marital-status': [0, 1, 2, 3, 4], 'sex': [0, 1], 'hours-per-week': [0, 1, 2, 3, 4], 'had-capital-gains': [0, 1], 'had-capital-losses': [0, 1], 'compensation': [0, 1]}\n",
      "Calculating canonical queries, clique_set length: 18\n"
     ]
    },
    {
     "name": "stderr",
     "output_type": "stream",
     "text": [
      "  0%|                                                                                                                                                   | 0/18 [00:00<?, ?it/s]\n",
      "35it [00:00, 21260.05it/s]\n",
      "\n",
      "2it [00:00, 6523.02it/s]\n",
      "\n",
      "16it [00:00, 12517.98it/s]\n",
      "\n",
      "10it [00:00, 12318.07it/s]\n",
      "\n",
      "5it [00:00, 16094.80it/s]\n",
      "\n",
      "4it [00:00, 6751.39it/s]\n",
      "\n",
      "25it [00:00, 20850.59it/s]\n",
      "\n",
      "2it [00:00, 15827.56it/s]\n",
      "\n",
      "2it [00:00, 15857.48it/s]\n",
      "\n",
      "7it [00:00, 29360.13it/s]\n",
      "\n",
      "10it [00:00, 23871.96it/s]\n",
      "\n",
      "2it [00:00, 8719.97it/s]\n",
      "\n",
      "4it [00:00, 9093.34it/s]\n",
      "\n",
      "5it [00:00, 12810.95it/s]\n",
      "\n",
      "32it [00:00, 30059.96it/s]\n",
      "\n",
      "5it [00:00, 22429.43it/s]\n",
      "\n",
      "10it [00:00, 9633.22it/s]\n",
      "100%|█████████████████████████████████████████████████████████████████████████████████████████████████████████████████████████████████████████| 18/18 [00:00<00:00, 341.38it/s]\n",
      "100%|█████████████████████████████████████████████████████████████████████████████████████████████████████████████████████████████████████████| 8/8 [00:00<00:00, 88534.12it/s]\n"
     ]
    },
    {
     "name": "stdout",
     "output_type": "stream",
     "text": [
      "Calculating new queries, not_original_clique_queries length: 62\n"
     ]
    },
    {
     "name": "stderr",
     "output_type": "stream",
     "text": [
      "100%|███████████████████████████████████████████████████████████████████████████████████████████████████████████████████████████████████████| 62/62 [00:00<00:00, 22567.63it/s]"
     ]
    },
    {
     "name": "stdout",
     "output_type": "stream",
     "text": [
      "106\n"
     ]
    },
    {
     "name": "stderr",
     "output_type": "stream",
     "text": [
      "\n"
     ]
    }
   ],
   "source": [
    "query = [('education-num', 'compensation')]\n",
    "print(calculate_canonical_queries(adult_large, 1, query))"
   ]
  },
  {
   "cell_type": "code",
   "execution_count": 11,
   "id": "d42207f3",
   "metadata": {},
   "outputs": [
    {
     "name": "stdout",
     "output_type": "stream",
     "text": [
      "{'age': [0, 1, 2, 3, 4], 'education-num': [0, 1, 2, 3, 4, 5, 6, 7, 8, 9, 10, 11, 12, 13, 14, 15], 'marital-status': [0, 1, 2, 3, 4], 'sex': [0, 1], 'hours-per-week': [0, 1, 2, 3, 4], 'compensation': [0, 1]}\n"
     ]
    },
    {
     "name": "stderr",
     "output_type": "stream",
     "text": [
      "/home/jarlehti/projects/gradu/src/napsu_mq/mst.py:130: RuntimeWarning: divide by zero encountered in double_scalars\n",
      "  epsilon = np.sqrt(8 * rho / (r - 1))\n"
     ]
    },
    {
     "name": "stdout",
     "output_type": "stream",
     "text": [
      "Calculating canonical queries, clique_set length: 22\n"
     ]
    },
    {
     "name": "stderr",
     "output_type": "stream",
     "text": [
      "  0%|                                                                                                                                                   | 0/22 [00:00<?, ?it/s]\n",
      "5it [00:00, 8378.55it/s]\n",
      "\n",
      "10it [00:00, 10934.06it/s]\n",
      "\n",
      "2it [00:00, 3647.22it/s]\n",
      "\n",
      "25it [00:00, 15692.55it/s]\n",
      "\n",
      "10it [00:00, 10837.99it/s]\n",
      "\n",
      "10it [00:00, 8276.05it/s]\n",
      "\n",
      "32it [00:00, 20286.84it/s]\n",
      "\n",
      "5it [00:00, 22525.80it/s]\n",
      "\n",
      "16it [00:00, 33042.28it/s]\n",
      "\n",
      "10it [00:00, 9031.66it/s]\n",
      "\n",
      "80it [00:00, 22079.64it/s]\n",
      "\n",
      "25it [00:00, 16384.00it/s]\n",
      "\n",
      "80it [00:00, 21447.38it/s]\n",
      "\n",
      "25it [00:00, 15170.37it/s]\n",
      "\n",
      "32it [00:00, 14466.23it/s]\n",
      "\n",
      "5it [00:00, 23172.95it/s]\n",
      "\n",
      "2it [00:00, 15391.94it/s]\n",
      "\n",
      "4it [00:00, 14768.68it/s]\n",
      "\n",
      "10it [00:00, 17331.83it/s]\n",
      "\n",
      "80it [00:00, 19250.97it/s]\n",
      "\n",
      "10it [00:00, 11980.30it/s]\n",
      "100%|█████████████████████████████████████████████████████████████████████████████████████████████████████████████████████████████████████████| 22/22 [00:00<00:00, 272.86it/s]\n",
      "100%|██████████████████████████████████████████████████████████████████████████████████████████████████████████████████████████████████████| 15/15 [00:00<00:00, 237413.43it/s]\n"
     ]
    },
    {
     "name": "stdout",
     "output_type": "stream",
     "text": [
      "Calculating new queries, not_original_clique_queries length: 29\n"
     ]
    },
    {
     "name": "stderr",
     "output_type": "stream",
     "text": [
      "100%|███████████████████████████████████████████████████████████████████████████████████████████████████████████████████████████████████████| 29/29 [00:00<00:00, 19082.96it/s]"
     ]
    },
    {
     "name": "stdout",
     "output_type": "stream",
     "text": [
      "312\n"
     ]
    },
    {
     "name": "stderr",
     "output_type": "stream",
     "text": [
      "\n"
     ]
    }
   ],
   "source": [
    "adult_small_full_marginal_set = list(itertools.combinations(adult_small.columns, 2))\n",
    "print(calculate_canonical_queries(adult_small, 1, adult_small_full_marginal_set))"
   ]
  },
  {
   "cell_type": "code",
   "execution_count": 12,
   "id": "f06cdd79",
   "metadata": {},
   "outputs": [
    {
     "data": {
      "text/plain": [
       "age                      int64\n",
       "workclass             category\n",
       "education-num         category\n",
       "marital-status        category\n",
       "sex                   category\n",
       "hours-per-week           int64\n",
       "had-capital-gains        int64\n",
       "had-capital-losses       int64\n",
       "compensation          category\n",
       "dtype: object"
      ]
     },
     "execution_count": 12,
     "metadata": {},
     "output_type": "execute_result"
    }
   ],
   "source": [
    "adult_no_discretization.dtypes"
   ]
  },
  {
   "cell_type": "code",
   "execution_count": 14,
   "id": "131f582e",
   "metadata": {},
   "outputs": [
    {
     "name": "stdout",
     "output_type": "stream",
     "text": [
      "{'age': [0, 1, 2, 3, 4, 5, 6, 7, 8, 9, 10, 11, 12, 13, 14, 15, 16, 17, 18, 19, 20, 21, 22, 23, 24, 25, 26, 27, 28, 29, 30, 31, 32, 33, 34, 35, 36, 37, 38, 39, 40, 41, 42, 43, 44, 45, 46, 47, 48, 49, 50, 51, 52, 53, 54, 55, 56, 57, 58, 59, 60, 61, 62, 63, 64, 65, 66, 67, 68, 69, 70, 71], 'workclass': [0, 1, 2, 3, 4, 5, 6], 'education-num': [0, 1, 2, 3, 4, 5, 6, 7, 8, 9, 10, 11, 12, 13, 14, 15], 'marital-status': [0, 1, 2, 3, 4, 5, 6], 'sex': [0, 1], 'hours-per-week': [0, 1, 2, 3, 4, 5, 6, 7, 8, 9, 10, 11, 12, 13, 14, 15, 16, 17, 18, 19, 20, 21, 22, 23, 24, 25, 26, 27, 28, 29, 30, 31, 32, 33, 34, 35, 36, 37, 38, 39, 40, 41, 42, 43, 44, 45, 46, 47, 48, 49, 50, 51, 52, 53, 54, 55, 56, 57, 58, 59, 60, 61, 62, 63, 64, 65, 66, 67, 68, 69, 70, 71, 72, 73, 74, 75, 76, 77, 78, 79, 80, 81, 82, 83, 84, 85, 86, 87, 88, 89, 90, 91, 92, 93], 'had-capital-gains': [0, 1, 2, 3, 4, 5, 6, 7, 8, 9, 10, 11, 12, 13, 14, 15, 16, 17, 18, 19, 20, 21, 22, 23, 24, 25, 26, 27, 28, 29, 30, 31, 32, 33, 34, 35, 36, 37, 38, 39, 40, 41, 42, 43, 44, 45, 46, 47, 48, 49, 50, 51, 52, 53, 54, 55, 56, 57, 58, 59, 60, 61, 62, 63, 64, 65, 66, 67, 68, 69, 70, 71, 72, 73, 74, 75, 76, 77, 78, 79, 80, 81, 82, 83, 84, 85, 86, 87, 88, 89, 90, 91, 92, 93, 94, 95, 96, 97, 98, 99, 100, 101, 102, 103, 104, 105, 106, 107, 108, 109, 110, 111, 112, 113, 114, 115, 116, 117], 'had-capital-losses': [0, 1, 2, 3, 4, 5, 6, 7, 8, 9, 10, 11, 12, 13, 14, 15, 16, 17, 18, 19, 20, 21, 22, 23, 24, 25, 26, 27, 28, 29, 30, 31, 32, 33, 34, 35, 36, 37, 38, 39, 40, 41, 42, 43, 44, 45, 46, 47, 48, 49, 50, 51, 52, 53, 54, 55, 56, 57, 58, 59, 60, 61, 62, 63, 64, 65, 66, 67, 68, 69, 70, 71, 72, 73, 74, 75, 76, 77, 78, 79, 80, 81, 82, 83, 84, 85, 86, 87, 88, 89], 'compensation': [0, 1]}\n"
     ]
    },
    {
     "name": "stderr",
     "output_type": "stream",
     "text": [
      "/home/jarlehti/projects/gradu/src/napsu_mq/mst.py:130: RuntimeWarning: divide by zero encountered in double_scalars\n",
      "  epsilon = np.sqrt(8 * rho / (r - 1))\n"
     ]
    },
    {
     "name": "stdout",
     "output_type": "stream",
     "text": [
      "Calculating canonical queries, clique_set length: 18\n"
     ]
    },
    {
     "name": "stderr",
     "output_type": "stream",
     "text": [
      "  0%|                                                                                                                                                   | 0/18 [00:00<?, ?it/s]\n",
      "504it [00:00, 42518.39it/s]\n",
      "\n",
      "118it [00:00, 42721.44it/s]\n",
      "\n",
      "16it [00:00, 21916.68it/s]\n",
      "\n",
      "14it [00:00, 21107.21it/s]\n",
      "\n",
      "94it [00:00, 53035.32it/s]\n",
      "\n",
      "504it [00:00, 35752.35it/s]\n",
      "\n",
      "2it [00:00, 12865.96it/s]\n",
      "\n",
      "2it [00:00, 6452.78it/s]\n",
      "\n",
      "7it [00:00, 42924.16it/s]\n",
      "\n",
      "14it [00:00, 16513.01it/s]\n",
      "\n",
      "90it [00:00, 49734.83it/s]\n",
      "\n",
      "0it [00:00, ?it/s]\u001b[A\n",
      "4232it [00:00, 42316.31it/s]\u001b[A\n",
      "10620it [00:00, 42953.08it/s][A\n",
      " 67%|████████████████████████████████████████████████████████████████████████████████████████████                                              | 12/18 [00:00<00:00, 39.43it/s]\n",
      "0it [00:00, ?it/s]\u001b[A\n",
      "6768it [00:00, 45771.32it/s]\u001b[A\n",
      "\n",
      "236it [00:00, 31807.70it/s]\n",
      "\n",
      "72it [00:00, 50508.43it/s]\n",
      "\n",
      "32it [00:00, 39383.14it/s]\n",
      " 89%|██████████████████████████████████████████████████████████████████████████████████████████████████████████████████████████▋               | 16/18 [00:00<00:00, 32.90it/s]\n",
      "7it [00:00, 42736.72it/s]\n",
      "100%|██████████████████████████████████████████████████████████████████████████████████████████████████████████████████████████████████████████| 18/18 [00:00<00:00, 38.31it/s]\n",
      "100%|█████████████████████████████████████████████████████████████████████████████████████████████████████████████████████████████████████████| 8/8 [00:00<00:00, 76433.79it/s]\n"
     ]
    },
    {
     "name": "stdout",
     "output_type": "stream",
     "text": [
      "Calculating new queries, not_original_clique_queries length: 537\n"
     ]
    },
    {
     "name": "stderr",
     "output_type": "stream",
     "text": [
      "100%|██████████████████████████████████████████████████████████████████████████████████████████████████████████████████████████████████████| 537/537 [00:00<00:00, 8064.47it/s]"
     ]
    },
    {
     "name": "stdout",
     "output_type": "stream",
     "text": [
      "18411\n"
     ]
    },
    {
     "name": "stderr",
     "output_type": "stream",
     "text": [
      "\n"
     ]
    }
   ],
   "source": [
    "queries = [('age', 'marital-status'), ('age', 'hours-per-week'), ('age', 'workclass'), ('education-num', 'compensation'), ('marital-status', 'sex'), ('marital-status', 'compensation'), ('had-capital-gains', 'compensation'), ('had-capital-gains', 'had-capital-losses')]\n",
    "adult_no_discretization = adult_no_discretization.astype(\"category\")\n",
    "print(calculate_canonical_queries(adult_no_discretization, 1, queries))"
   ]
  },
  {
   "cell_type": "code",
   "execution_count": 15,
   "id": "4f46eefb",
   "metadata": {},
   "outputs": [
    {
     "name": "stdout",
     "output_type": "stream",
     "text": [
      "{'age': [0, 1, 2, 3, 4], 'workclass': [0, 1, 2, 3, 4, 5, 6, 7], 'education': [0, 1, 2, 3, 4, 5, 6, 7, 8, 9, 10, 11, 12, 13, 14, 15], 'marital-status': [0, 1, 2, 3, 4, 5, 6], 'race': [0, 1, 2, 3, 4], 'sex': [0, 1], 'capital-gain': [0, 1], 'capital-loss': [0, 1], 'hours-per-week': [0, 1, 2, 3, 4], 'compensation': [0, 1]}\n"
     ]
    },
    {
     "name": "stderr",
     "output_type": "stream",
     "text": [
      "/home/jarlehti/projects/gradu/src/napsu_mq/mst.py:130: RuntimeWarning: divide by zero encountered in double_scalars\n",
      "  epsilon = np.sqrt(8 * rho / (r - 1))\n"
     ]
    },
    {
     "name": "stdout",
     "output_type": "stream",
     "text": [
      "Calculating canonical queries, clique_set length: 21\n"
     ]
    },
    {
     "name": "stderr",
     "output_type": "stream",
     "text": [
      "  0%|                                                                                                                                                   | 0/21 [00:00<?, ?it/s]\n",
      "16it [00:00, 24663.31it/s]\n",
      "\n",
      "2it [00:00, 11848.32it/s]\n",
      "\n",
      "5it [00:00, 7189.41it/s]\n",
      "\n",
      "32it [00:00, 12771.69it/s]\n",
      "\n",
      "4it [00:00, 3498.17it/s]\n",
      "\n",
      "10it [00:00, 14368.98it/s]\n",
      "\n",
      "5it [00:00, 7910.80it/s]\n",
      "\n",
      "8it [00:00, 12571.91it/s]\n",
      "\n",
      "10it [00:00, 11545.02it/s]\n",
      "\n",
      "2it [00:00, 2532.03it/s]\n",
      "\n",
      "4it [00:00, 6413.31it/s]\n",
      "\n",
      "10it [00:00, 7943.76it/s]\n",
      "\n",
      "40it [00:00, 14415.89it/s]\n",
      "\n",
      "5it [00:00, 6293.97it/s]\n",
      "\n",
      "7it [00:00, 6993.84it/s]\n",
      "\n",
      "2it [00:00, 2146.52it/s]\n",
      "\n",
      "2it [00:00, 5932.54it/s]\n",
      "\n",
      "4it [00:00, 4570.20it/s]\n",
      "\n",
      "35it [00:00, 15903.01it/s]\n",
      "\n",
      "10it [00:00, 10768.43it/s]\n",
      "100%|█████████████████████████████████████████████████████████████████████████████████████████████████████████████████████████████████████████| 21/21 [00:00<00:00, 243.06it/s]\n",
      "100%|███████████████████████████████████████████████████████████████████████████████████████████████████████████████████████████████████████| 10/10 [00:00<00:00, 74367.09it/s]\n"
     ]
    },
    {
     "name": "stdout",
     "output_type": "stream",
     "text": [
      "Calculating new queries, not_original_clique_queries length: 66\n"
     ]
    },
    {
     "name": "stderr",
     "output_type": "stream",
     "text": [
      "100%|███████████████████████████████████████████████████████████████████████████████████████████████████████████████████████████████████████| 66/66 [00:00<00:00, 24939.10it/s]"
     ]
    },
    {
     "name": "stdout",
     "output_type": "stream",
     "text": [
      "130\n"
     ]
    },
    {
     "name": "stderr",
     "output_type": "stream",
     "text": [
      "\n"
     ]
    }
   ],
   "source": [
    "#adult_reduced_full_marginal_set = list(itertools.combinations(adult_reduced.columns, 2))\n",
    "queries = [\n",
    "    ('age', 'compensation'), \n",
    "    ('age', 'marital-status'), \n",
    "    ('age', 'workclass'), \n",
    "    ('education', 'compensation'), \n",
    "    ('race', 'compensation'), \n",
    "    ('race', 'sex'), \n",
    "    ('sex', 'compensation'), \n",
    "    ('capital-gain', 'compensation'), \n",
    "    ('capital-loss', 'compensation'), \n",
    "    ('hours-per-week', 'compensation')\n",
    "]\n",
    "print(calculate_canonical_queries(adult_reduced, 0.1, queries))"
   ]
  },
  {
   "cell_type": "code",
   "execution_count": 16,
   "id": "81db606d",
   "metadata": {},
   "outputs": [
    {
     "name": "stdout",
     "output_type": "stream",
     "text": [
      "{'age': [0, 1, 2, 3, 4], 'education-num': [0, 1, 2, 3, 4, 5, 6, 7, 8, 9, 10, 11, 12, 13, 14, 15], 'marital-status': [0, 1, 2, 3, 4], 'sex': [0, 1], 'hours-per-week': [0, 1, 2, 3, 4], 'compensation': [0, 1]}\n",
      "Calculating canonical queries, clique_set length: 12\n"
     ]
    },
    {
     "name": "stderr",
     "output_type": "stream",
     "text": [
      "  0%|                                                                                                                                                   | 0/12 [00:00<?, ?it/s]\n",
      "80it [00:00, 23507.38it/s]\n",
      "\n",
      "5it [00:00, 12889.69it/s]\n",
      "\n",
      "2it [00:00, 6000.43it/s]\n",
      "\n",
      "5it [00:00, 11202.74it/s]\n",
      "\n",
      "10it [00:00, 20440.08it/s]\n",
      "\n",
      "16it [00:00, 33387.49it/s]\n",
      "\n",
      "25it [00:00, 19385.76it/s]\n",
      "\n",
      "10it [00:00, 22758.02it/s]\n",
      "\n",
      "10it [00:00, 23121.85it/s]\n",
      "\n",
      "5it [00:00, 7573.68it/s]\n",
      "\n",
      "2it [00:00, 8895.66it/s]\n",
      "100%|█████████████████████████████████████████████████████████████████████████████████████████████████████████████████████████████████████████| 12/12 [00:00<00:00, 311.67it/s]\n",
      "100%|█████████████████████████████████████████████████████████████████████████████████████████████████████████████████████████████████████████| 5/5 [00:00<00:00, 86302.55it/s]\n"
     ]
    },
    {
     "name": "stdout",
     "output_type": "stream",
     "text": [
      "Calculating new queries, not_original_clique_queries length: 29\n"
     ]
    },
    {
     "name": "stderr",
     "output_type": "stream",
     "text": [
      "100%|███████████████████████████████████████████████████████████████████████████████████████████████████████████████████████████████████████| 29/29 [00:00<00:00, 15806.99it/s]"
     ]
    },
    {
     "name": "stdout",
     "output_type": "stream",
     "text": [
      "117\n"
     ]
    },
    {
     "name": "stderr",
     "output_type": "stream",
     "text": [
      "\n"
     ]
    }
   ],
   "source": [
    "adult_small_random_query = list(itertools.combinations(adult_small.columns, 2))[0]\n",
    "print(calculate_canonical_queries(adult_small, 1, [adult_small_random_query]))"
   ]
  },
  {
   "cell_type": "code",
   "execution_count": 17,
   "id": "0da8d85a",
   "metadata": {},
   "outputs": [],
   "source": [
    "adult_raw = get_adult_train_raw(DATASETS_FOLDER)\n",
    "adult_discretized = clean_adult_with_discretization(adult_raw, n_buckets=5, columns=ADULT_COLUMNS_SMALL)"
   ]
  },
  {
   "cell_type": "code",
   "execution_count": 18,
   "id": "2530bc78",
   "metadata": {},
   "outputs": [
    {
     "data": {
      "text/html": [
       "<div>\n",
       "<style scoped>\n",
       "    .dataframe tbody tr th:only-of-type {\n",
       "        vertical-align: middle;\n",
       "    }\n",
       "\n",
       "    .dataframe tbody tr th {\n",
       "        vertical-align: top;\n",
       "    }\n",
       "\n",
       "    .dataframe thead th {\n",
       "        text-align: right;\n",
       "    }\n",
       "</style>\n",
       "<table border=\"1\" class=\"dataframe\">\n",
       "  <thead>\n",
       "    <tr style=\"text-align: right;\">\n",
       "      <th></th>\n",
       "      <th>age</th>\n",
       "      <th>education-num</th>\n",
       "      <th>marital-status</th>\n",
       "      <th>sex</th>\n",
       "      <th>hours-per-week</th>\n",
       "      <th>compensation</th>\n",
       "    </tr>\n",
       "  </thead>\n",
       "  <tbody>\n",
       "    <tr>\n",
       "      <th>0</th>\n",
       "      <td>(31.6, 46.2]</td>\n",
       "      <td>13</td>\n",
       "      <td>Never-married</td>\n",
       "      <td>Male</td>\n",
       "      <td>(20.6, 40.2]</td>\n",
       "      <td>0</td>\n",
       "    </tr>\n",
       "    <tr>\n",
       "      <th>1</th>\n",
       "      <td>(46.2, 60.8]</td>\n",
       "      <td>13</td>\n",
       "      <td>Married</td>\n",
       "      <td>Male</td>\n",
       "      <td>(0.902, 20.6]</td>\n",
       "      <td>0</td>\n",
       "    </tr>\n",
       "    <tr>\n",
       "      <th>2</th>\n",
       "      <td>(31.6, 46.2]</td>\n",
       "      <td>9</td>\n",
       "      <td>Divorced</td>\n",
       "      <td>Male</td>\n",
       "      <td>(20.6, 40.2]</td>\n",
       "      <td>0</td>\n",
       "    </tr>\n",
       "    <tr>\n",
       "      <th>3</th>\n",
       "      <td>(46.2, 60.8]</td>\n",
       "      <td>7</td>\n",
       "      <td>Married</td>\n",
       "      <td>Male</td>\n",
       "      <td>(20.6, 40.2]</td>\n",
       "      <td>0</td>\n",
       "    </tr>\n",
       "    <tr>\n",
       "      <th>4</th>\n",
       "      <td>(16.927, 31.6]</td>\n",
       "      <td>13</td>\n",
       "      <td>Married</td>\n",
       "      <td>Female</td>\n",
       "      <td>(20.6, 40.2]</td>\n",
       "      <td>0</td>\n",
       "    </tr>\n",
       "    <tr>\n",
       "      <th>...</th>\n",
       "      <td>...</td>\n",
       "      <td>...</td>\n",
       "      <td>...</td>\n",
       "      <td>...</td>\n",
       "      <td>...</td>\n",
       "      <td>...</td>\n",
       "    </tr>\n",
       "    <tr>\n",
       "      <th>30157</th>\n",
       "      <td>(16.927, 31.6]</td>\n",
       "      <td>12</td>\n",
       "      <td>Married</td>\n",
       "      <td>Female</td>\n",
       "      <td>(20.6, 40.2]</td>\n",
       "      <td>0</td>\n",
       "    </tr>\n",
       "    <tr>\n",
       "      <th>30158</th>\n",
       "      <td>(31.6, 46.2]</td>\n",
       "      <td>9</td>\n",
       "      <td>Married</td>\n",
       "      <td>Male</td>\n",
       "      <td>(20.6, 40.2]</td>\n",
       "      <td>1</td>\n",
       "    </tr>\n",
       "    <tr>\n",
       "      <th>30159</th>\n",
       "      <td>(46.2, 60.8]</td>\n",
       "      <td>9</td>\n",
       "      <td>Widowed</td>\n",
       "      <td>Female</td>\n",
       "      <td>(20.6, 40.2]</td>\n",
       "      <td>0</td>\n",
       "    </tr>\n",
       "    <tr>\n",
       "      <th>30160</th>\n",
       "      <td>(16.927, 31.6]</td>\n",
       "      <td>9</td>\n",
       "      <td>Never-married</td>\n",
       "      <td>Male</td>\n",
       "      <td>(0.902, 20.6]</td>\n",
       "      <td>0</td>\n",
       "    </tr>\n",
       "    <tr>\n",
       "      <th>30161</th>\n",
       "      <td>(46.2, 60.8]</td>\n",
       "      <td>9</td>\n",
       "      <td>Married</td>\n",
       "      <td>Female</td>\n",
       "      <td>(20.6, 40.2]</td>\n",
       "      <td>1</td>\n",
       "    </tr>\n",
       "  </tbody>\n",
       "</table>\n",
       "<p>30162 rows × 6 columns</p>\n",
       "</div>"
      ],
      "text/plain": [
       "                  age education-num marital-status     sex hours-per-week  \\\n",
       "0        (31.6, 46.2]            13  Never-married    Male   (20.6, 40.2]   \n",
       "1        (46.2, 60.8]            13        Married    Male  (0.902, 20.6]   \n",
       "2        (31.6, 46.2]             9       Divorced    Male   (20.6, 40.2]   \n",
       "3        (46.2, 60.8]             7        Married    Male   (20.6, 40.2]   \n",
       "4      (16.927, 31.6]            13        Married  Female   (20.6, 40.2]   \n",
       "...               ...           ...            ...     ...            ...   \n",
       "30157  (16.927, 31.6]            12        Married  Female   (20.6, 40.2]   \n",
       "30158    (31.6, 46.2]             9        Married    Male   (20.6, 40.2]   \n",
       "30159    (46.2, 60.8]             9        Widowed  Female   (20.6, 40.2]   \n",
       "30160  (16.927, 31.6]             9  Never-married    Male  (0.902, 20.6]   \n",
       "30161    (46.2, 60.8]             9        Married  Female   (20.6, 40.2]   \n",
       "\n",
       "      compensation  \n",
       "0                0  \n",
       "1                0  \n",
       "2                0  \n",
       "3                0  \n",
       "4                0  \n",
       "...            ...  \n",
       "30157            0  \n",
       "30158            1  \n",
       "30159            0  \n",
       "30160            0  \n",
       "30161            1  \n",
       "\n",
       "[30162 rows x 6 columns]"
      ]
     },
     "execution_count": 18,
     "metadata": {},
     "output_type": "execute_result"
    }
   ],
   "source": [
    "adult_discretized"
   ]
  },
  {
   "cell_type": "code",
   "execution_count": 19,
   "id": "24469f4b",
   "metadata": {},
   "outputs": [
    {
     "name": "stdout",
     "output_type": "stream",
     "text": [
      "{'age': [0, 1, 2, 3, 4], 'education-num': [0, 1, 2, 3, 4, 5, 6, 7, 8, 9, 10, 11, 12, 13, 14, 15], 'marital-status': [0, 1, 2, 3, 4], 'sex': [0, 1], 'hours-per-week': [0, 1, 2, 3, 4], 'compensation': [0, 1]}\n"
     ]
    },
    {
     "name": "stderr",
     "output_type": "stream",
     "text": [
      "/home/jarlehti/projects/gradu/src/napsu_mq/mst.py:130: RuntimeWarning: divide by zero encountered in double_scalars\n",
      "  epsilon = np.sqrt(8 * rho / (r - 1))\n"
     ]
    },
    {
     "name": "stdout",
     "output_type": "stream",
     "text": [
      "Calculating canonical queries, clique_set length: 22\n"
     ]
    },
    {
     "name": "stderr",
     "output_type": "stream",
     "text": [
      "  0%|                                                                                                                                                   | 0/22 [00:00<?, ?it/s]\n",
      "5it [00:00, 18741.30it/s]\n",
      "\n",
      "10it [00:00, 21890.94it/s]\n",
      "\n",
      "2it [00:00, 3594.09it/s]\n",
      "\n",
      "25it [00:00, 19908.41it/s]\n",
      "\n",
      "10it [00:00, 5096.36it/s]\n",
      "\n",
      "10it [00:00, 9135.93it/s]\n",
      "\n",
      "32it [00:00, 19231.66it/s]\n",
      "\n",
      "5it [00:00, 25668.94it/s]\n",
      "\n",
      "16it [00:00, 36235.89it/s]\n",
      "\n",
      "10it [00:00, 8366.85it/s]\n",
      "\n",
      "80it [00:00, 17230.37it/s]\n",
      "\n",
      "25it [00:00, 19065.02it/s]\n",
      "\n",
      "80it [00:00, 22949.48it/s]\n",
      "\n",
      "25it [00:00, 11587.76it/s]\n",
      "\n",
      "32it [00:00, 18184.22it/s]\n",
      "\n",
      "5it [00:00, 6417.23it/s]\n",
      "\n",
      "2it [00:00, 3711.77it/s]\n",
      "\n",
      "4it [00:00, 14401.04it/s]\n",
      "\n",
      "10it [00:00, 17697.49it/s]\n",
      "\n",
      "80it [00:00, 22014.45it/s]\n",
      "\n",
      "10it [00:00, 15313.27it/s]\n",
      "100%|█████████████████████████████████████████████████████████████████████████████████████████████████████████████████████████████████████████| 22/22 [00:00<00:00, 231.40it/s]\n",
      "100%|██████████████████████████████████████████████████████████████████████████████████████████████████████████████████████████████████████| 15/15 [00:00<00:00, 244803.74it/s]\n"
     ]
    },
    {
     "name": "stdout",
     "output_type": "stream",
     "text": [
      "Calculating new queries, not_original_clique_queries length: 29\n"
     ]
    },
    {
     "name": "stderr",
     "output_type": "stream",
     "text": [
      "100%|███████████████████████████████████████████████████████████████████████████████████████████████████████████████████████████████████████| 29/29 [00:00<00:00, 14577.52it/s]"
     ]
    },
    {
     "name": "stdout",
     "output_type": "stream",
     "text": [
      "312\n"
     ]
    },
    {
     "name": "stderr",
     "output_type": "stream",
     "text": [
      "\n"
     ]
    }
   ],
   "source": [
    "adult_reduced_full_marginal_set = list(itertools.combinations(adult_reduced.columns, 2))\n",
    "queries = [\n",
    "    ('age', 'compensation'), \n",
    "    ('age', 'marital-status'), \n",
    "    ('education-num', 'compensation'), \n",
    "    ('sex', 'compensation'), \n",
    "    ('hours-per-week', 'compensation')\n",
    "]\n",
    "\n",
    "adult_small_random_query = list(itertools.combinations(adult_small.columns, 2))\n",
    "\n",
    "print(calculate_canonical_queries(adult_discretized, 1, adult_small_random_query))"
   ]
  },
  {
   "cell_type": "code",
   "execution_count": 20,
   "id": "1689e50b",
   "metadata": {},
   "outputs": [
    {
     "ename": "NameError",
     "evalue": "name 'adult_extra_high_discretization' is not defined",
     "output_type": "error",
     "traceback": [
      "\u001b[0;31m---------------------------------------------------------------------------\u001b[0m",
      "\u001b[0;31mNameError\u001b[0m                                 Traceback (most recent call last)",
      "Cell \u001b[0;32mIn [20], line 1\u001b[0m\n\u001b[0;32m----> 1\u001b[0m \u001b[43madult_extra_high_discretization\u001b[49m\n",
      "\u001b[0;31mNameError\u001b[0m: name 'adult_extra_high_discretization' is not defined"
     ]
    }
   ],
   "source": [
    "adult_extra_high_discretization"
   ]
  },
  {
   "cell_type": "code",
   "execution_count": 23,
   "id": "c814e9bd",
   "metadata": {},
   "outputs": [
    {
     "name": "stdout",
     "output_type": "stream",
     "text": [
      "[('age', 'education-num'), ('age', 'marital-status'), ('age', 'sex'), ('age', 'hours-per-week'), ('age', 'compensation'), ('education-num', 'marital-status'), ('education-num', 'sex'), ('education-num', 'hours-per-week'), ('education-num', 'compensation'), ('marital-status', 'sex'), ('marital-status', 'hours-per-week'), ('marital-status', 'compensation'), ('sex', 'hours-per-week'), ('sex', 'compensation'), ('hours-per-week', 'compensation')]\n",
      "(30162, 6)\n",
      "Dataframe data n: 30162\n",
      "Dataframe data d: 6\n",
      "Calculating canonical queries, clique_set length: 12\n"
     ]
    },
    {
     "name": "stderr",
     "output_type": "stream",
     "text": [
      "  0%|                                                                                                      | 0/12 [00:00<?, ?it/s]\n",
      "5it [00:00, 14905.13it/s]\n",
      "\n",
      "4it [00:00, 11514.90it/s]\n",
      "\n",
      "2it [00:00, 8160.12it/s]\n",
      "\n",
      "32it [00:00, 16490.69it/s]\n",
      "\n",
      "2it [00:00, 10727.12it/s]\n",
      "\n",
      "10it [00:00, 15147.36it/s]\n",
      "\n",
      "16it [00:00, 14896.53it/s]\n",
      "\n",
      "10it [00:00, 9485.08it/s]\n",
      "\n",
      "10it [00:00, 18001.30it/s]\n",
      "\n",
      "2it [00:00, 15679.64it/s]\n",
      "\n",
      "2it [00:00, 22919.69it/s]\n",
      "100%|████████████████████████████████████████████████████████████████████████████████████████████| 12/12 [00:00<00:00, 384.49it/s]\n",
      "100%|███████████████████████████████████████████████████████████████████████████████████████████| 5/5 [00:00<00:00, 111550.64it/s]\n"
     ]
    },
    {
     "name": "stdout",
     "output_type": "stream",
     "text": [
      "Calculating new queries, not_original_clique_queries length: 23\n"
     ]
    },
    {
     "name": "stderr",
     "output_type": "stream",
     "text": [
      "100%|██████████████████████████████████████████████████████████████████████████████████████████| 23/23 [00:00<00:00, 34440.91it/s]"
     ]
    },
    {
     "name": "stdout",
     "output_type": "stream",
     "text": [
      "51\n"
     ]
    },
    {
     "name": "stderr",
     "output_type": "stream",
     "text": [
      "\n"
     ]
    }
   ],
   "source": [
    "#adult_extra_high_discretization = clean_adult_with_discretization(adult_raw, n_buckets=2, columns=ADULT_COLUMNS_SMALL)\n",
    "\n",
    "adult_extra_high_discretization_full_marginal_set = list(itertools.combinations(adult_extra_high_discretization.columns, 2))\n",
    "print(calculate_canonical_queries(adult_extra_high_discretization, 1))"
   ]
  },
  {
   "cell_type": "code",
   "execution_count": 25,
   "id": "60ddfe9d",
   "metadata": {},
   "outputs": [
    {
     "name": "stdout",
     "output_type": "stream",
     "text": [
      "[('age', 'education-num'), ('age', 'marital-status'), ('age', 'hours-per-week'), ('age', 'compensation'), ('education-num', 'marital-status'), ('education-num', 'sex'), ('education-num', 'hours-per-week'), ('education-num', 'compensation'), ('marital-status', 'sex'), ('marital-status', 'hours-per-week'), ('marital-status', 'compensation'), ('sex', 'hours-per-week'), ('sex', 'compensation'), ('hours-per-week', 'compensation')]\n",
      "{'age': [0, 1], 'education-num': [0, 1, 2, 3, 4, 5, 6, 7, 8, 9, 10, 11, 12, 13, 14, 15], 'marital-status': [0, 1, 2, 3, 4], 'sex': [0, 1], 'hours-per-week': [0, 1], 'compensation': [0, 1]}\n"
     ]
    },
    {
     "name": "stderr",
     "output_type": "stream",
     "text": [
      "/home/jarlehti/projects/gradu/src/napsu_mq/mst.py:130: RuntimeWarning: divide by zero encountered in double_scalars\n",
      "  epsilon = np.sqrt(8 * rho / (r - 1))\n"
     ]
    },
    {
     "name": "stdout",
     "output_type": "stream",
     "text": [
      "Calculating canonical queries, clique_set length: 21\n"
     ]
    },
    {
     "name": "stderr",
     "output_type": "stream",
     "text": [
      "  0%|                                                                                                                                                   | 0/21 [00:00<?, ?it/s]\n",
      "5it [00:00, 12663.96it/s]\n",
      "\n",
      "4it [00:00, 23172.95it/s]\n",
      "\n",
      "2it [00:00, 19065.02it/s]\n",
      "\n",
      "10it [00:00, 16953.53it/s]\n",
      "\n",
      "4it [00:00, 14588.88it/s]\n",
      "\n",
      "10it [00:00, 13206.25it/s]\n",
      "\n",
      "32it [00:00, 31220.69it/s]\n",
      "\n",
      "2it [00:00, 11634.69it/s]\n",
      "\n",
      "16it [00:00, 38903.69it/s]\n",
      "\n",
      "4it [00:00, 10305.42it/s]\n",
      "\n",
      "32it [00:00, 28765.05it/s]\n",
      "\n",
      "10it [00:00, 31655.12it/s]\n",
      "\n",
      "80it [00:00, 34803.89it/s]\n",
      "\n",
      "4it [00:00, 11328.30it/s]\n",
      "\n",
      "32it [00:00, 31865.56it/s]\n",
      "\n",
      "2it [00:00, 17549.39it/s]\n",
      "\n",
      "2it [00:00, 4576.44it/s]\n",
      "\n",
      "4it [00:00, 11932.59it/s]\n",
      "\n",
      "32it [00:00, 24179.02it/s]\n",
      "\n",
      "10it [00:00, 28630.06it/s]\n",
      "100%|█████████████████████████████████████████████████████████████████████████████████████████████████████████████████████████████████████████| 21/21 [00:00<00:00, 444.59it/s]\n",
      "100%|██████████████████████████████████████████████████████████████████████████████████████████████████████████████████████████████████████| 14/14 [00:00<00:00, 451694.28it/s]\n"
     ]
    },
    {
     "name": "stdout",
     "output_type": "stream",
     "text": [
      "Calculating new queries, not_original_clique_queries length: 23\n"
     ]
    },
    {
     "name": "stderr",
     "output_type": "stream",
     "text": [
      "100%|███████████████████████████████████████████████████████████████████████████████████████████████████████████████████████████████████████| 23/23 [00:00<00:00, 43611.66it/s]\n"
     ]
    },
    {
     "name": "stdout",
     "output_type": "stream",
     "text": [
      "164\n",
      "[('age', 'education-num'), ('age', 'sex'), ('age', 'hours-per-week'), ('age', 'compensation'), ('education-num', 'sex'), ('education-num', 'hours-per-week'), ('education-num', 'compensation'), ('sex', 'hours-per-week'), ('sex', 'compensation'), ('hours-per-week', 'compensation')]\n",
      "{'age': [0, 1], 'education-num': [0, 1, 2, 3, 4, 5, 6, 7, 8, 9, 10, 11, 12, 13, 14, 15], 'sex': [0, 1], 'hours-per-week': [0, 1], 'compensation': [0, 1]}\n"
     ]
    },
    {
     "name": "stderr",
     "output_type": "stream",
     "text": [
      "/home/jarlehti/projects/gradu/src/napsu_mq/mst.py:130: RuntimeWarning: divide by zero encountered in double_scalars\n",
      "  epsilon = np.sqrt(8 * rho / (r - 1))\n"
     ]
    },
    {
     "name": "stdout",
     "output_type": "stream",
     "text": [
      "Calculating canonical queries, clique_set length: 16\n"
     ]
    },
    {
     "name": "stderr",
     "output_type": "stream",
     "text": [
      "  0%|                                                                                                                                                   | 0/16 [00:00<?, ?it/s]\n",
      "32it [00:00, 19143.88it/s]\n",
      "\n",
      "32it [00:00, 15019.89it/s]\n",
      "\n",
      "4it [00:00, 10407.70it/s]\n",
      "\n",
      "2it [00:00, 8701.88it/s]\n",
      "\n",
      "4it [00:00, 8612.53it/s]\n",
      "\n",
      "32it [00:00, 9694.31it/s]\n",
      "\n",
      "4it [00:00, 7588.07it/s]\n",
      "\n",
      "4it [00:00, 4169.29it/s]\n",
      "\n",
      "2it [00:00, 7619.08it/s]\n",
      "\n",
      "32it [00:00, 13008.11it/s]\n",
      "\n",
      "4it [00:00, 4467.97it/s]\n",
      "\n",
      "16it [00:00, 8887.41it/s]\n",
      "\n",
      "4it [00:00, 11586.48it/s]\n",
      "\n",
      "2it [00:00, 9543.35it/s]\n",
      "\n",
      "2it [00:00, 3362.17it/s]\n",
      "100%|█████████████████████████████████████████████████████████████████████████████████████████████████████████████████████████████████████████| 16/16 [00:00<00:00, 227.45it/s]\n",
      "100%|███████████████████████████████████████████████████████████████████████████████████████████████████████████████████████████████████████| 10/10 [00:00<00:00, 79287.41it/s]\n"
     ]
    },
    {
     "name": "stdout",
     "output_type": "stream",
     "text": [
      "Calculating new queries, not_original_clique_queries length: 19\n"
     ]
    },
    {
     "name": "stderr",
     "output_type": "stream",
     "text": [
      "100%|███████████████████████████████████████████████████████████████████████████████████████████████████████████████████████████████████████| 19/19 [00:00<00:00, 20742.26it/s]"
     ]
    },
    {
     "name": "stdout",
     "output_type": "stream",
     "text": [
      "85\n"
     ]
    },
    {
     "name": "stderr",
     "output_type": "stream",
     "text": [
      "\n"
     ]
    }
   ],
   "source": [
    "adult_independence_pruning_full_marginal_set = list(itertools.combinations(adult_independence_pruning.columns, 2))\n",
    "\n",
    "adult_independence_pruning_full_marginal_set.remove(('age', 'sex'))\n",
    "\n",
    "print(adult_independence_pruning_full_marginal_set)\n",
    "print(calculate_canonical_queries(adult_independence_pruning, 0.1, adult_independence_pruning_full_marginal_set))\n",
    "\n",
    "\n",
    "adult_independence_pruning_reduced = adult_independence_pruning.drop(columns=['marital-status'])\n",
    "adult_independence_pruning_reduced_marginal_set = list(itertools.combinations(adult_independence_pruning_reduced.columns, 2))\n",
    "print(adult_independence_pruning_reduced_marginal_set)\n",
    "print(calculate_canonical_queries(adult_independence_pruning_reduced, 0.1, adult_independence_pruning_reduced_marginal_set))"
   ]
  },
  {
   "cell_type": "code",
   "execution_count": 14,
   "id": "83ef2b0f",
   "metadata": {},
   "outputs": [
    {
     "name": "stdout",
     "output_type": "stream",
     "text": [
      "Domain size: 35840\n",
      "Calculating canonical queries, clique_set length: 18\n"
     ]
    },
    {
     "name": "stderr",
     "output_type": "stream",
     "text": [
      "  0%|                                                                                                      | 0/18 [00:00<?, ?it/s]\n",
      "2it [00:00, 3562.04it/s]\n",
      "\n",
      "16it [00:00, 11039.46it/s]\n",
      "\n",
      "112it [00:00, 18977.22it/s]\n",
      "\n",
      "10it [00:00, 6951.12it/s]\n",
      "\n",
      "32it [00:00, 9579.45it/s]\n",
      "\n",
      "2it [00:00, 8981.38it/s]\n",
      "\n",
      "10it [00:00, 9029.72it/s]\n",
      "\n",
      "2it [00:00, 5797.24it/s]\n",
      "\n",
      "2it [00:00, 901.61it/s]\n",
      "\n",
      "7it [00:00, 14665.40it/s]\n",
      "\n",
      "2it [00:00, 8533.68it/s]\n",
      "\n",
      "10it [00:00, 10991.36it/s]\n",
      "\n",
      "4it [00:00, 9300.01it/s]\n",
      "\n",
      "2it [00:00, 7307.15it/s]\n",
      "\n",
      "32it [00:00, 7254.62it/s]\n",
      " 83%|████████████████████████████████████████████████████████████████████████████▋               | 15/18 [00:00<00:00, 147.76it/s]\n",
      "5it [00:00, 9362.29it/s]\n",
      "\n",
      "4it [00:00, 4436.07it/s]\n",
      "100%|████████████████████████████████████████████████████████████████████████████████████████████| 18/18 [00:00<00:00, 155.62it/s]\n",
      "100%|████████████████████████████████████████████████████████████████████████████████████████████| 8/8 [00:00<00:00, 69470.87it/s]\n"
     ]
    },
    {
     "name": "stdout",
     "output_type": "stream",
     "text": [
      "Calculating new queries, not_original_clique_queries length: 52\n"
     ]
    },
    {
     "name": "stderr",
     "output_type": "stream",
     "text": [
      "100%|██████████████████████████████████████████████████████████████████████████████████████████| 52/52 [00:00<00:00, 11471.90it/s]"
     ]
    },
    {
     "name": "stdout",
     "output_type": "stream",
     "text": [
      "165\n"
     ]
    },
    {
     "name": "stderr",
     "output_type": "stream",
     "text": [
      "\n"
     ]
    }
   ],
   "source": [
    "adult_low_discretization_full_marginal_set = list(itertools.combinations(adult_low_discretization.columns, 2))\n",
    "\n",
    "print(calculate_canonical_queries(adult_high_discretization, 0.1, []))"
   ]
  },
  {
   "cell_type": "code",
   "execution_count": null,
   "id": "dd12d5b4",
   "metadata": {},
   "outputs": [],
   "source": []
  }
 ],
 "metadata": {
  "kernelspec": {
   "display_name": "gradu",
   "language": "python",
   "name": "gradu"
  },
  "language_info": {
   "codemirror_mode": {
    "name": "ipython",
    "version": 3
   },
   "file_extension": ".py",
   "mimetype": "text/x-python",
   "name": "python",
   "nbconvert_exporter": "python",
   "pygments_lexer": "ipython3",
   "version": "3.8.10"
  }
 },
 "nbformat": 4,
 "nbformat_minor": 5
}
