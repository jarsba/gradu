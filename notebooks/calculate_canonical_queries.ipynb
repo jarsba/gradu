{
 "cells": [
  {
   "cell_type": "code",
   "execution_count": 1,
   "id": "dc349934",
   "metadata": {},
   "outputs": [],
   "source": [
    "import sys\n",
    "sys.path.append(\"/home/jarlehti/projects/gradu\")"
   ]
  },
  {
   "cell_type": "code",
   "execution_count": 27,
   "id": "2a455739",
   "metadata": {},
   "outputs": [],
   "source": [
    "import os\n",
    "import itertools\n",
    "import pandas as pd\n",
    "import pickle\n",
    "from src.utils.preprocess_dataset import get_adult_train_small, get_adult_train_large, get_adult_train_no_discretization\n",
    "from src.napsu_mq.dataframe_data import DataFrameData\n",
    "from src.napsu_mq.mst import MST_selection, Domain, Dataset\n",
    "from src.napsu_mq.marginal_query import FullMarginalQuerySet\n",
    "from src.utils.query_utils import calculate_query_number"
   ]
  },
  {
   "cell_type": "code",
   "execution_count": 28,
   "id": "828a878b",
   "metadata": {},
   "outputs": [],
   "source": [
    "CURRENT_FOLDER = os.path.dirname(os.path.dirname(os.path.abspath(__name__)))\n",
    "DATASETS_FOLDER = os.path.join(CURRENT_FOLDER, \"data\", \"datasets\")\n",
    "ORIG_RESULTS_FOLDER = os.path.join(CURRENT_FOLDER, \"data\", \"orig_results\")"
   ]
  },
  {
   "cell_type": "code",
   "execution_count": 8,
   "id": "742566e7",
   "metadata": {},
   "outputs": [],
   "source": [
    "adult_small = get_adult_train_small(DATASETS_FOLDER)\n",
    "adult_large = get_adult_train_large(DATASETS_FOLDER)\n",
    "adult_no_discretization = get_adult_train_no_discretization(DATASETS_FOLDER)"
   ]
  },
  {
   "cell_type": "code",
   "execution_count": 14,
   "id": "ab23d14f",
   "metadata": {},
   "outputs": [],
   "source": [
    "adult_reduced = pd.read_csv(os.path.join(DATASETS_FOLDER, \"adult-reduced-discretised-copy.csv\"), dtype=\"category\")"
   ]
  },
  {
   "cell_type": "code",
   "execution_count": 31,
   "id": "bfc041e5",
   "metadata": {},
   "outputs": [
    {
     "data": {
      "text/html": [
       "<div>\n",
       "<style scoped>\n",
       "    .dataframe tbody tr th:only-of-type {\n",
       "        vertical-align: middle;\n",
       "    }\n",
       "\n",
       "    .dataframe tbody tr th {\n",
       "        vertical-align: top;\n",
       "    }\n",
       "\n",
       "    .dataframe thead th {\n",
       "        text-align: right;\n",
       "    }\n",
       "</style>\n",
       "<table border=\"1\" class=\"dataframe\">\n",
       "  <thead>\n",
       "    <tr style=\"text-align: right;\">\n",
       "      <th></th>\n",
       "      <th>age</th>\n",
       "      <th>workclass</th>\n",
       "      <th>education</th>\n",
       "      <th>marital-status</th>\n",
       "      <th>race</th>\n",
       "      <th>sex</th>\n",
       "      <th>capital-gain</th>\n",
       "      <th>capital-loss</th>\n",
       "      <th>hours-per-week</th>\n",
       "      <th>compensation</th>\n",
       "    </tr>\n",
       "  </thead>\n",
       "  <tbody>\n",
       "    <tr>\n",
       "      <th>0</th>\n",
       "      <td>(31.6, 46.2]</td>\n",
       "      <td>State-gov</td>\n",
       "      <td>Bachelors</td>\n",
       "      <td>Never-married</td>\n",
       "      <td>White</td>\n",
       "      <td>Male</td>\n",
       "      <td>True</td>\n",
       "      <td>False</td>\n",
       "      <td>(20.6, 40.2]</td>\n",
       "      <td>False</td>\n",
       "    </tr>\n",
       "    <tr>\n",
       "      <th>1</th>\n",
       "      <td>(46.2, 60.8]</td>\n",
       "      <td>Self-emp-not-inc</td>\n",
       "      <td>Bachelors</td>\n",
       "      <td>Married-civ-spouse</td>\n",
       "      <td>White</td>\n",
       "      <td>Male</td>\n",
       "      <td>False</td>\n",
       "      <td>False</td>\n",
       "      <td>(0.902, 20.6]</td>\n",
       "      <td>False</td>\n",
       "    </tr>\n",
       "    <tr>\n",
       "      <th>2</th>\n",
       "      <td>(31.6, 46.2]</td>\n",
       "      <td>Private</td>\n",
       "      <td>HS-grad</td>\n",
       "      <td>Divorced</td>\n",
       "      <td>White</td>\n",
       "      <td>Male</td>\n",
       "      <td>False</td>\n",
       "      <td>False</td>\n",
       "      <td>(20.6, 40.2]</td>\n",
       "      <td>False</td>\n",
       "    </tr>\n",
       "    <tr>\n",
       "      <th>3</th>\n",
       "      <td>(46.2, 60.8]</td>\n",
       "      <td>Private</td>\n",
       "      <td>11th</td>\n",
       "      <td>Married-civ-spouse</td>\n",
       "      <td>Black</td>\n",
       "      <td>Male</td>\n",
       "      <td>False</td>\n",
       "      <td>False</td>\n",
       "      <td>(20.6, 40.2]</td>\n",
       "      <td>False</td>\n",
       "    </tr>\n",
       "    <tr>\n",
       "      <th>4</th>\n",
       "      <td>(16.927, 31.6]</td>\n",
       "      <td>Private</td>\n",
       "      <td>Bachelors</td>\n",
       "      <td>Married-civ-spouse</td>\n",
       "      <td>Black</td>\n",
       "      <td>Female</td>\n",
       "      <td>False</td>\n",
       "      <td>False</td>\n",
       "      <td>(20.6, 40.2]</td>\n",
       "      <td>False</td>\n",
       "    </tr>\n",
       "    <tr>\n",
       "      <th>...</th>\n",
       "      <td>...</td>\n",
       "      <td>...</td>\n",
       "      <td>...</td>\n",
       "      <td>...</td>\n",
       "      <td>...</td>\n",
       "      <td>...</td>\n",
       "      <td>...</td>\n",
       "      <td>...</td>\n",
       "      <td>...</td>\n",
       "      <td>...</td>\n",
       "    </tr>\n",
       "    <tr>\n",
       "      <th>46038</th>\n",
       "      <td>(31.6, 46.2]</td>\n",
       "      <td>Private</td>\n",
       "      <td>Bachelors</td>\n",
       "      <td>Never-married</td>\n",
       "      <td>White</td>\n",
       "      <td>Male</td>\n",
       "      <td>False</td>\n",
       "      <td>False</td>\n",
       "      <td>(20.6, 40.2]</td>\n",
       "      <td>False</td>\n",
       "    </tr>\n",
       "    <tr>\n",
       "      <th>46039</th>\n",
       "      <td>(31.6, 46.2]</td>\n",
       "      <td>Private</td>\n",
       "      <td>Bachelors</td>\n",
       "      <td>Divorced</td>\n",
       "      <td>White</td>\n",
       "      <td>Female</td>\n",
       "      <td>False</td>\n",
       "      <td>False</td>\n",
       "      <td>(20.6, 40.2]</td>\n",
       "      <td>False</td>\n",
       "    </tr>\n",
       "    <tr>\n",
       "      <th>46040</th>\n",
       "      <td>(31.6, 46.2]</td>\n",
       "      <td>Private</td>\n",
       "      <td>Bachelors</td>\n",
       "      <td>Married-civ-spouse</td>\n",
       "      <td>White</td>\n",
       "      <td>Male</td>\n",
       "      <td>False</td>\n",
       "      <td>False</td>\n",
       "      <td>(40.2, 59.8]</td>\n",
       "      <td>False</td>\n",
       "    </tr>\n",
       "    <tr>\n",
       "      <th>46041</th>\n",
       "      <td>(31.6, 46.2]</td>\n",
       "      <td>Private</td>\n",
       "      <td>Bachelors</td>\n",
       "      <td>Divorced</td>\n",
       "      <td>Asian-Pac-Islander</td>\n",
       "      <td>Male</td>\n",
       "      <td>True</td>\n",
       "      <td>False</td>\n",
       "      <td>(20.6, 40.2]</td>\n",
       "      <td>False</td>\n",
       "    </tr>\n",
       "    <tr>\n",
       "      <th>46042</th>\n",
       "      <td>(31.6, 46.2]</td>\n",
       "      <td>Self-emp-inc</td>\n",
       "      <td>Bachelors</td>\n",
       "      <td>Married-civ-spouse</td>\n",
       "      <td>White</td>\n",
       "      <td>Male</td>\n",
       "      <td>False</td>\n",
       "      <td>False</td>\n",
       "      <td>(59.8, 79.4]</td>\n",
       "      <td>True</td>\n",
       "    </tr>\n",
       "  </tbody>\n",
       "</table>\n",
       "<p>46043 rows × 10 columns</p>\n",
       "</div>"
      ],
      "text/plain": [
       "                  age         workclass  ... hours-per-week compensation\n",
       "0        (31.6, 46.2]         State-gov  ...   (20.6, 40.2]        False\n",
       "1        (46.2, 60.8]  Self-emp-not-inc  ...  (0.902, 20.6]        False\n",
       "2        (31.6, 46.2]           Private  ...   (20.6, 40.2]        False\n",
       "3        (46.2, 60.8]           Private  ...   (20.6, 40.2]        False\n",
       "4      (16.927, 31.6]           Private  ...   (20.6, 40.2]        False\n",
       "...               ...               ...  ...            ...          ...\n",
       "46038    (31.6, 46.2]           Private  ...   (20.6, 40.2]        False\n",
       "46039    (31.6, 46.2]           Private  ...   (20.6, 40.2]        False\n",
       "46040    (31.6, 46.2]           Private  ...   (40.2, 59.8]        False\n",
       "46041    (31.6, 46.2]           Private  ...   (20.6, 40.2]        False\n",
       "46042    (31.6, 46.2]      Self-emp-inc  ...   (59.8, 79.4]         True\n",
       "\n",
       "[46043 rows x 10 columns]"
      ]
     },
     "execution_count": 31,
     "metadata": {},
     "output_type": "execute_result"
    }
   ],
   "source": [
    "adult_reduced"
   ]
  },
  {
   "cell_type": "code",
   "execution_count": 6,
   "id": "11cad84d",
   "metadata": {},
   "outputs": [],
   "source": [
    "def calculate_canonical_queries(data, epsilon, column_feature_set=[]):\n",
    "    dataframe = DataFrameData(data)\n",
    "    n, d = dataframe.int_array.shape\n",
    "    delta = (n ** (-2))\n",
    "    domain_key_list = list(dataframe.values_by_col.keys())\n",
    "    domain_value_count_list = [len(dataframe.values_by_col[key]) for key in domain_key_list]\n",
    "\n",
    "    domain = Domain(domain_key_list, domain_value_count_list)\n",
    "\n",
    "    query_sets = MST_selection(Dataset(dataframe.int_df, domain), epsilon, delta,\n",
    "                                   cliques_to_include=column_feature_set)\n",
    "\n",
    "    queries = FullMarginalQuerySet(query_sets, dataframe.values_by_col)\n",
    "    query_list = queries.flatten()\n",
    "    queries = queries.get_canonical_queries()\n",
    "    query_number = calculate_query_number(queries.queries)\n",
    "    return query_number"
   ]
  },
  {
   "cell_type": "code",
   "execution_count": 24,
   "id": "a74acfd0",
   "metadata": {},
   "outputs": [
    {
     "name": "stdout",
     "output_type": "stream",
     "text": [
      "(30162, 6)\n",
      "Dataframe data n: 30162\n",
      "Dataframe data d: 6\n",
      "Calculating canonical queries, clique_set length: 12\n"
     ]
    },
    {
     "name": "stderr",
     "output_type": "stream",
     "text": [
      "  0%|                                                                                                                                                   | 0/12 [00:00<?, ?it/s]\n",
      "70it [00:00, 21048.20it/s]\n",
      "\n",
      "7it [00:00, 18929.81it/s]\n",
      "\n",
      "2it [00:00, 13706.88it/s]\n",
      "\n",
      "32it [00:00, 16555.78it/s]\n",
      "\n",
      "10it [00:00, 19953.87it/s]\n",
      "\n",
      "14it [00:00, 19638.88it/s]\n",
      "\n",
      "16it [00:00, 23077.33it/s]\n",
      "\n",
      "70it [00:00, 35305.59it/s]\n",
      "\n",
      "14it [00:00, 35437.69it/s]\n",
      "\n",
      "10it [00:00, 48827.75it/s]\n",
      "\n",
      "2it [00:00, 26214.40it/s]\n",
      "100%|█████████████████████████████████████████████████████████████████████████████████████████████████████████████████████████████████████████| 12/12 [00:00<00:00, 375.99it/s]\n",
      "100%|████████████████████████████████████████████████████████████████████████████████████████████████████████████████████████████████████████| 5/5 [00:00<00:00, 139810.13it/s]\n"
     ]
    },
    {
     "name": "stdout",
     "output_type": "stream",
     "text": [
      "Calculating new queries, not_original_clique_queries length: 41\n"
     ]
    },
    {
     "name": "stderr",
     "output_type": "stream",
     "text": [
      "100%|███████████████████████████████████████████████████████████████████████████████████████████████████████████████████████████████████████| 41/41 [00:00<00:00, 12532.17it/s]"
     ]
    },
    {
     "name": "stdout",
     "output_type": "stream",
     "text": [
      "176\n"
     ]
    },
    {
     "name": "stderr",
     "output_type": "stream",
     "text": [
      "\n"
     ]
    }
   ],
   "source": [
    "print(calculate_canonical_queries(adult_small, 1))"
   ]
  },
  {
   "cell_type": "code",
   "execution_count": 19,
   "id": "d4d5e6c8",
   "metadata": {},
   "outputs": [
    {
     "name": "stdout",
     "output_type": "stream",
     "text": [
      "(30162, 9)\n",
      "Dataframe data n: 30162\n",
      "Dataframe data d: 9\n",
      "Calculating canonical queries, clique_set length: 18\n"
     ]
    },
    {
     "name": "stderr",
     "output_type": "stream",
     "text": [
      "  0%|                                                           | 0/18 [00:00<?, ?it/s]\n",
      "70it [00:00, 38110.24it/s]\n",
      "\n",
      "2it [00:00, 6442.86it/s]\n",
      "\n",
      "16it [00:00, 24555.02it/s]\n",
      "\n",
      "14it [00:00, 19411.65it/s]\n",
      "\n",
      "10it [00:00, 12725.44it/s]\n",
      "\n",
      "4it [00:00, 14463.12it/s]\n",
      "\n",
      "70it [00:00, 30134.59it/s]\n",
      "\n",
      "2it [00:00, 19784.45it/s]\n",
      "\n",
      "2it [00:00, 13595.80it/s]\n",
      "\n",
      "7it [00:00, 19077.41it/s]\n",
      "\n",
      "14it [00:00, 18887.18it/s]\n",
      "\n",
      "2it [00:00, 18600.02it/s]\n",
      "\n",
      "4it [00:00, 10280.16it/s]\n",
      "\n",
      "10it [00:00, 44667.77it/s]\n",
      "\n",
      "32it [00:00, 32498.24it/s]\n",
      "\n",
      "7it [00:00, 18736.52it/s]\n",
      "\n",
      "70it [00:00, 32239.08it/s]\n",
      "100%|█████████████████████████████████████████████████| 18/18 [00:00<00:00, 393.02it/s]\n",
      "100%|█████████████████████████████████████████████████| 8/8 [00:00<00:00, 70640.91it/s]\n"
     ]
    },
    {
     "name": "stdout",
     "output_type": "stream",
     "text": [
      "Calculating new queries, not_original_clique_queries length: 72\n"
     ]
    },
    {
     "name": "stderr",
     "output_type": "stream",
     "text": [
      "100%|███████████████████████████████████████████████| 72/72 [00:00<00:00, 39798.35it/s]"
     ]
    },
    {
     "name": "stdout",
     "output_type": "stream",
     "text": [
      "240\n"
     ]
    },
    {
     "name": "stderr",
     "output_type": "stream",
     "text": [
      "\n"
     ]
    }
   ],
   "source": [
    "print(calculate_canonical_queries(adult_large, 1))"
   ]
  },
  {
   "cell_type": "code",
   "execution_count": 17,
   "id": "d42207f3",
   "metadata": {},
   "outputs": [
    {
     "name": "stdout",
     "output_type": "stream",
     "text": [
      "(30162, 6)\n",
      "Dataframe data n: 30162\n",
      "Dataframe data d: 6\n"
     ]
    },
    {
     "name": "stderr",
     "output_type": "stream",
     "text": [
      "/home/local/jarlehti/projects/gradu/src/napsu_mq/mst.py:130: RuntimeWarning: divide by zero encountered in double_scalars\n",
      "  epsilon = np.sqrt(8 * rho / (r - 1))\n"
     ]
    },
    {
     "name": "stdout",
     "output_type": "stream",
     "text": [
      "Calculating canonical queries, clique_set length: 22\n"
     ]
    },
    {
     "name": "stderr",
     "output_type": "stream",
     "text": [
      "  0%|                                                                                                                                                   | 0/22 [00:00<?, ?it/s]\n",
      "7it [00:00, 17311.40it/s]\n",
      "\n",
      "20it [00:00, 35925.52it/s]\n",
      "\n",
      "2it [00:00, 16131.94it/s]\n",
      "\n",
      "70it [00:00, 36866.06it/s]\n",
      "\n",
      "20it [00:00, 33091.16it/s]\n",
      "\n",
      "14it [00:00, 23100.02it/s]\n",
      "\n",
      "32it [00:00, 27120.17it/s]\n",
      "\n",
      "10it [00:00, 29310.30it/s]\n",
      "\n",
      "16it [00:00, 42500.86it/s]\n",
      "\n",
      "20it [00:00, 23431.87it/s]\n",
      "\n",
      "160it [00:00, 48604.96it/s]\n",
      "\n",
      "70it [00:00, 26793.33it/s]\n",
      "\n",
      "112it [00:00, 24312.29it/s]\n",
      "\n",
      "100it [00:00, 38109.25it/s]\n",
      "\n",
      "32it [00:00, 32768.00it/s]\n",
      "\n",
      "10it [00:00, 26664.36it/s]\n",
      "\n",
      "2it [00:00, 8962.19it/s]\n",
      "\n",
      "4it [00:00, 23431.87it/s]\n",
      "\n",
      "20it [00:00, 23636.54it/s]\n",
      "\n",
      "160it [00:00, 28615.41it/s]\n",
      "\n",
      "14it [00:00, 16653.50it/s]\n",
      "100%|█████████████████████████████████████████████████████████████████████████████████████████████████████████████████████████████████████████| 22/22 [00:00<00:00, 285.32it/s]\n",
      "100%|██████████████████████████████████████████████████████████████████████████████████████████████████████████████████████████████████████| 15/15 [00:00<00:00, 507375.48it/s]\n"
     ]
    },
    {
     "name": "stdout",
     "output_type": "stream",
     "text": [
      "Calculating new queries, not_original_clique_queries length: 41\n"
     ]
    },
    {
     "name": "stderr",
     "output_type": "stream",
     "text": [
      "100%|███████████████████████████████████████████████████████████████████████████████████████████████████████████████████████████████████████| 41/41 [00:00<00:00, 18675.77it/s]"
     ]
    },
    {
     "name": "stdout",
     "output_type": "stream",
     "text": [
      "669\n"
     ]
    },
    {
     "name": "stderr",
     "output_type": "stream",
     "text": [
      "\n"
     ]
    }
   ],
   "source": [
    "adult_small_full_marginal_set = list(itertools.combinations(adult_small.columns, 2))\n",
    "print(calculate_canonical_queries(adult_small, 1, adult_small_full_marginal_set))"
   ]
  },
  {
   "cell_type": "code",
   "execution_count": 7,
   "id": "131f582e",
   "metadata": {},
   "outputs": [
    {
     "name": "stdout",
     "output_type": "stream",
     "text": [
      "(30162, 9)\n",
      "Dataframe data n: 30162\n",
      "Dataframe data d: 9\n",
      "Calculating canonical queries, clique_set length: 18\n"
     ]
    },
    {
     "name": "stderr",
     "output_type": "stream",
     "text": [
      "  0%|                                                                                                                                                   | 0/18 [00:00<?, ?it/s]\n",
      "385it [00:00, 35706.86it/s]\n",
      "  0%|                                                                                                                                                   | 0/18 [00:00<?, ?it/s]\n"
     ]
    },
    {
     "ename": "IndexError",
     "evalue": "index 72 is out of bounds for axis 0 with size 72",
     "output_type": "error",
     "traceback": [
      "\u001b[0;31m---------------------------------------------------------------------------\u001b[0m",
      "\u001b[0;31mIndexError\u001b[0m                                Traceback (most recent call last)",
      "Cell \u001b[0;32mIn [7], line 1\u001b[0m\n\u001b[0;32m----> 1\u001b[0m \u001b[38;5;28mprint\u001b[39m(\u001b[43mcalculate_canonical_queries\u001b[49m\u001b[43m(\u001b[49m\u001b[43madult_no_discretization\u001b[49m\u001b[43m,\u001b[49m\u001b[43m \u001b[49m\u001b[38;5;241;43m1\u001b[39;49m\u001b[43m)\u001b[49m)\n",
      "Cell \u001b[0;32mIn [6], line 15\u001b[0m, in \u001b[0;36mcalculate_canonical_queries\u001b[0;34m(data, epsilon, column_feature_set)\u001b[0m\n\u001b[1;32m     13\u001b[0m queries \u001b[38;5;241m=\u001b[39m FullMarginalQuerySet(query_sets, dataframe\u001b[38;5;241m.\u001b[39mvalues_by_col)\n\u001b[1;32m     14\u001b[0m query_list \u001b[38;5;241m=\u001b[39m queries\u001b[38;5;241m.\u001b[39mflatten()\n\u001b[0;32m---> 15\u001b[0m queries \u001b[38;5;241m=\u001b[39m \u001b[43mqueries\u001b[49m\u001b[38;5;241;43m.\u001b[39;49m\u001b[43mget_canonical_queries\u001b[49m\u001b[43m(\u001b[49m\u001b[43m)\u001b[49m\n\u001b[1;32m     16\u001b[0m query_number \u001b[38;5;241m=\u001b[39m calculate_query_number(queries\u001b[38;5;241m.\u001b[39mqueries)\n\u001b[1;32m     17\u001b[0m \u001b[38;5;28;01mreturn\u001b[39;00m query_number\n",
      "File \u001b[0;32m/home/local/jarlehti/projects/gradu/src/napsu_mq/marginal_query.py:164\u001b[0m, in \u001b[0;36mFullMarginalQuerySet.get_canonical_queries\u001b[0;34m(self)\u001b[0m\n\u001b[1;32m    162\u001b[0m     completed_value \u001b[38;5;241m=\u001b[39m value\u001b[38;5;241m.\u001b[39mcopy()\n\u001b[1;32m    163\u001b[0m     completed_value[conv_base_indices] \u001b[38;5;241m=\u001b[39m base_value[conv_base_indices]\n\u001b[0;32m--> 164\u001b[0m     counter[\u001b[38;5;28mtuple\u001b[39m(completed_value)] \u001b[38;5;241m+\u001b[39m\u001b[38;5;241m=\u001b[39m multiplier\n\u001b[1;32m    166\u001b[0m clique_ordered_not_int \u001b[38;5;241m=\u001b[39m \u001b[38;5;28mtuple\u001b[39m(\u001b[38;5;28mself\u001b[39m\u001b[38;5;241m.\u001b[39mfeature_by_index[feature] \u001b[38;5;28;01mfor\u001b[39;00m feature \u001b[38;5;129;01min\u001b[39;00m clique_ordered)\n\u001b[1;32m    167\u001b[0m \u001b[38;5;28;01mif\u001b[39;00m \u001b[38;5;129;01mnot\u001b[39;00m (counter \u001b[38;5;241m==\u001b[39m \u001b[38;5;241m0\u001b[39m)\u001b[38;5;241m.\u001b[39mall():\n",
      "\u001b[0;31mIndexError\u001b[0m: index 72 is out of bounds for axis 0 with size 72"
     ]
    }
   ],
   "source": [
    "print(calculate_canonical_queries(adult_no_discretization, 1))"
   ]
  },
  {
   "cell_type": "code",
   "execution_count": 34,
   "id": "4f46eefb",
   "metadata": {},
   "outputs": [
    {
     "name": "stdout",
     "output_type": "stream",
     "text": [
      "(46043, 10)\n",
      "Dataframe data n: 46043\n",
      "Dataframe data d: 10\n"
     ]
    },
    {
     "name": "stderr",
     "output_type": "stream",
     "text": [
      "/home/local/jarlehti/projects/gradu/src/napsu_mq/mst.py:130: RuntimeWarning: divide by zero encountered in double_scalars\n",
      "  epsilon = np.sqrt(8 * rho / (r - 1))\n"
     ]
    },
    {
     "name": "stdout",
     "output_type": "stream",
     "text": [
      "Calculating canonical queries, clique_set length: 21\n"
     ]
    },
    {
     "name": "stderr",
     "output_type": "stream",
     "text": [
      "  0%|                                                                                                                                                   | 0/21 [00:00<?, ?it/s]\n",
      "16it [00:00, 42500.86it/s]\n",
      "\n",
      "2it [00:00, 19599.55it/s]\n",
      "\n",
      "5it [00:00, 8375.21it/s]\n",
      "\n",
      "32it [00:00, 35544.95it/s]\n",
      "\n",
      "4it [00:00, 10852.02it/s]\n",
      "\n",
      "10it [00:00, 33743.40it/s]\n",
      "\n",
      "5it [00:00, 39794.16it/s]\n",
      "\n",
      "8it [00:00, 13634.47it/s]\n",
      "\n",
      "10it [00:00, 13929.94it/s]\n",
      "\n",
      "2it [00:00, 4731.31it/s]\n",
      "\n",
      "4it [00:00, 12915.49it/s]\n",
      "\n",
      "10it [00:00, 15984.39it/s]\n",
      "\n",
      "40it [00:00, 31583.61it/s]\n",
      "\n",
      "5it [00:00, 28728.11it/s]\n",
      "\n",
      "7it [00:00, 24818.37it/s]\n",
      "\n",
      "2it [00:00, 18766.46it/s]\n",
      "\n",
      "2it [00:00, 3442.19it/s]\n",
      "\n",
      "4it [00:00, 8834.76it/s]\n",
      "\n",
      "35it [00:00, 20989.51it/s]\n",
      "\n",
      "10it [00:00, 15065.75it/s]\n",
      "100%|█████████████████████████████████████████████████████████████████████████████████████████████████████████████████████████████████████████| 21/21 [00:00<00:00, 427.31it/s]\n",
      "100%|███████████████████████████████████████████████████████████████████████████████████████████████████████████████████████████████████████| 10/10 [00:00<00:00, 88487.43it/s]\n"
     ]
    },
    {
     "name": "stdout",
     "output_type": "stream",
     "text": [
      "Calculating new queries, not_original_clique_queries length: 66\n"
     ]
    },
    {
     "name": "stderr",
     "output_type": "stream",
     "text": [
      "100%|███████████████████████████████████████████████████████████████████████████████████████████████████████████████████████████████████████| 66/66 [00:00<00:00, 33248.15it/s]"
     ]
    },
    {
     "name": "stdout",
     "output_type": "stream",
     "text": [
      "130\n"
     ]
    },
    {
     "name": "stderr",
     "output_type": "stream",
     "text": [
      "\n"
     ]
    }
   ],
   "source": [
    "#adult_reduced_full_marginal_set = list(itertools.combinations(adult_reduced.columns, 2))\n",
    "queries = [\n",
    "    ('age', 'compensation'), \n",
    "    ('age', 'marital-status'), \n",
    "    ('age', 'workclass'), \n",
    "    ('education', 'compensation'), \n",
    "    ('race', 'compensation'), \n",
    "    ('race', 'sex'), \n",
    "    ('sex', 'compensation'), \n",
    "    ('capital-gain', 'compensation'), \n",
    "    ('capital-loss', 'compensation'), \n",
    "    ('hours-per-week', 'compensation')\n",
    "]\n",
    "print(calculate_canonical_queries(adult_reduced, 1, queries))"
   ]
  },
  {
   "cell_type": "code",
   "execution_count": 40,
   "id": "81db606d",
   "metadata": {},
   "outputs": [
    {
     "name": "stdout",
     "output_type": "stream",
     "text": [
      "(30162, 6)\n",
      "Dataframe data n: 30162\n",
      "Dataframe data d: 6\n",
      "Calculating canonical queries, clique_set length: 12\n"
     ]
    },
    {
     "name": "stderr",
     "output_type": "stream",
     "text": [
      "  0%|                                                                                                                                                   | 0/12 [00:00<?, ?it/s]\n",
      "160it [00:00, 32814.47it/s]\n",
      "\n",
      "70it [00:00, 20687.80it/s]\n",
      "\n",
      "7it [00:00, 9332.53it/s]\n",
      "\n",
      "2it [00:00, 13066.37it/s]\n",
      "\n",
      "10it [00:00, 11149.13it/s]\n",
      "\n",
      "14it [00:00, 13107.20it/s]\n",
      "\n",
      "16it [00:00, 24412.10it/s]\n",
      "\n",
      "70it [00:00, 21566.13it/s]\n",
      "\n",
      "14it [00:00, 19071.21it/s]\n",
      "\n",
      "10it [00:00, 9406.38it/s]\n",
      "\n",
      "2it [00:00, 10538.45it/s]\n",
      "100%|█████████████████████████████████████████████████████████████████████████████████████████████████████████████████████████████████████████| 12/12 [00:00<00:00, 312.69it/s]\n",
      "100%|████████████████████████████████████████████████████████████████████████████████████████████████████████████████████████████████████████| 5/5 [00:00<00:00, 104857.60it/s]\n"
     ]
    },
    {
     "name": "stdout",
     "output_type": "stream",
     "text": [
      "Calculating new queries, not_original_clique_queries length: 41\n"
     ]
    },
    {
     "name": "stderr",
     "output_type": "stream",
     "text": [
      "100%|███████████████████████████████████████████████████████████████████████████████████████████████████████████████████████████████████████| 41/41 [00:00<00:00, 17730.33it/s]"
     ]
    },
    {
     "name": "stdout",
     "output_type": "stream",
     "text": [
      "296\n"
     ]
    },
    {
     "name": "stderr",
     "output_type": "stream",
     "text": [
      "\n"
     ]
    }
   ],
   "source": [
    "adult_small_random_query = list(itertools.combinations(adult_small.columns, 2))[0]\n",
    "print(calculate_canonical_queries(adult_small, 1, [adult_small_random_query]))"
   ]
  },
  {
   "cell_type": "code",
   "execution_count": null,
   "id": "0da8d85a",
   "metadata": {},
   "outputs": [],
   "source": []
  }
 ],
 "metadata": {
  "kernelspec": {
   "display_name": "gradu",
   "language": "python",
   "name": "gradu"
  },
  "language_info": {
   "codemirror_mode": {
    "name": "ipython",
    "version": 3
   },
   "file_extension": ".py",
   "mimetype": "text/x-python",
   "name": "python",
   "nbconvert_exporter": "python",
   "pygments_lexer": "ipython3",
   "version": "3.8.10"
  }
 },
 "nbformat": 4,
 "nbformat_minor": 5
}
