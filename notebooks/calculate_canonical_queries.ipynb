{
 "cells": [
  {
   "cell_type": "code",
   "execution_count": 20,
   "id": "dc349934",
   "metadata": {},
   "outputs": [],
   "source": [
    "import sys\n",
    "sys.path.append(\"/home/jarlehti/projects/gradu\")"
   ]
  },
  {
   "cell_type": "code",
   "execution_count": 21,
   "id": "2a455739",
   "metadata": {},
   "outputs": [],
   "source": [
    "import os\n",
    "import itertools\n",
    "import pandas as pd\n",
    "import pickle\n",
    "from src.utils.preprocess_dataset import get_adult_train_small, get_adult_train_large, clean_adult_with_discretization, get_adult_train_no_discretization, get_adult_train_raw, ADULT_COLUMNS_SMALL, ADULT_COLUMNS_LARGE, get_adult_train_high_discretization, get_adult_train_independence_pruning, get_adult_train_low_discretization\n",
    "from src.napsu_mq.dataframe_data import DataFrameData\n",
    "from src.napsu_mq.mst import MST_selection, Domain, Dataset\n",
    "from src.napsu_mq.marginal_query import FullMarginalQuerySet\n",
    "from src.utils.query_utils import calculate_query_number"
   ]
  },
  {
   "cell_type": "code",
   "execution_count": 22,
   "id": "828a878b",
   "metadata": {},
   "outputs": [],
   "source": [
    "CURRENT_FOLDER = os.path.dirname(os.path.dirname(os.path.abspath(__name__)))\n",
    "DATASETS_FOLDER = os.path.join(CURRENT_FOLDER, \"data\", \"datasets\")\n",
    "ORIG_RESULTS_FOLDER = os.path.join(CURRENT_FOLDER, \"data\", \"orig_results\")"
   ]
  },
  {
   "cell_type": "code",
   "execution_count": 23,
   "id": "742566e7",
   "metadata": {},
   "outputs": [],
   "source": [
    "adult_small = get_adult_train_small(DATASETS_FOLDER)\n",
    "adult_large = get_adult_train_large(DATASETS_FOLDER)\n",
    "adult_no_discretization = get_adult_train_no_discretization(DATASETS_FOLDER)\n",
    "adult_high_discretization = get_adult_train_high_discretization(DATASETS_FOLDER)\n",
    "adult_raw = get_adult_train_raw(DATASETS_FOLDER)\n",
    "adult_independence_pruning = get_adult_train_independence_pruning(DATASETS_FOLDER)\n",
    "adult_low_discretization = get_adult_train_low_discretization(DATASETS_FOLDER)"
   ]
  },
  {
   "cell_type": "code",
   "execution_count": 6,
   "id": "ab23d14f",
   "metadata": {},
   "outputs": [],
   "source": [
    "adult_reduced = pd.read_csv(os.path.join(DATASETS_FOLDER, \"adult-reduced-discretised-copy.csv\"), dtype=\"category\")"
   ]
  },
  {
   "cell_type": "code",
   "execution_count": 14,
   "id": "bfc041e5",
   "metadata": {},
   "outputs": [
    {
     "data": {
      "text/html": [
       "<div>\n",
       "<style scoped>\n",
       "    .dataframe tbody tr th:only-of-type {\n",
       "        vertical-align: middle;\n",
       "    }\n",
       "\n",
       "    .dataframe tbody tr th {\n",
       "        vertical-align: top;\n",
       "    }\n",
       "\n",
       "    .dataframe thead th {\n",
       "        text-align: right;\n",
       "    }\n",
       "</style>\n",
       "<table border=\"1\" class=\"dataframe\">\n",
       "  <thead>\n",
       "    <tr style=\"text-align: right;\">\n",
       "      <th></th>\n",
       "      <th>age</th>\n",
       "      <th>workclass</th>\n",
       "      <th>education-num</th>\n",
       "      <th>marital-status</th>\n",
       "      <th>sex</th>\n",
       "      <th>hours-per-week</th>\n",
       "      <th>had-capital-gains</th>\n",
       "      <th>had-capital-losses</th>\n",
       "      <th>compensation</th>\n",
       "    </tr>\n",
       "  </thead>\n",
       "  <tbody>\n",
       "    <tr>\n",
       "      <th>0</th>\n",
       "      <td>(16.927, 53.5]</td>\n",
       "      <td>State-gov</td>\n",
       "      <td>13</td>\n",
       "      <td>Never-married</td>\n",
       "      <td>Male</td>\n",
       "      <td>(0.902, 50.0]</td>\n",
       "      <td>1</td>\n",
       "      <td>0</td>\n",
       "      <td>0</td>\n",
       "    </tr>\n",
       "    <tr>\n",
       "      <th>1</th>\n",
       "      <td>(16.927, 53.5]</td>\n",
       "      <td>Self-emp-not-inc</td>\n",
       "      <td>13</td>\n",
       "      <td>Married</td>\n",
       "      <td>Male</td>\n",
       "      <td>(0.902, 50.0]</td>\n",
       "      <td>0</td>\n",
       "      <td>0</td>\n",
       "      <td>0</td>\n",
       "    </tr>\n",
       "    <tr>\n",
       "      <th>2</th>\n",
       "      <td>(16.927, 53.5]</td>\n",
       "      <td>Private</td>\n",
       "      <td>9</td>\n",
       "      <td>Divorced</td>\n",
       "      <td>Male</td>\n",
       "      <td>(0.902, 50.0]</td>\n",
       "      <td>0</td>\n",
       "      <td>0</td>\n",
       "      <td>0</td>\n",
       "    </tr>\n",
       "    <tr>\n",
       "      <th>3</th>\n",
       "      <td>(16.927, 53.5]</td>\n",
       "      <td>Private</td>\n",
       "      <td>7</td>\n",
       "      <td>Married</td>\n",
       "      <td>Male</td>\n",
       "      <td>(0.902, 50.0]</td>\n",
       "      <td>0</td>\n",
       "      <td>0</td>\n",
       "      <td>0</td>\n",
       "    </tr>\n",
       "    <tr>\n",
       "      <th>4</th>\n",
       "      <td>(16.927, 53.5]</td>\n",
       "      <td>Private</td>\n",
       "      <td>13</td>\n",
       "      <td>Married</td>\n",
       "      <td>Female</td>\n",
       "      <td>(0.902, 50.0]</td>\n",
       "      <td>0</td>\n",
       "      <td>0</td>\n",
       "      <td>0</td>\n",
       "    </tr>\n",
       "    <tr>\n",
       "      <th>...</th>\n",
       "      <td>...</td>\n",
       "      <td>...</td>\n",
       "      <td>...</td>\n",
       "      <td>...</td>\n",
       "      <td>...</td>\n",
       "      <td>...</td>\n",
       "      <td>...</td>\n",
       "      <td>...</td>\n",
       "      <td>...</td>\n",
       "    </tr>\n",
       "    <tr>\n",
       "      <th>30157</th>\n",
       "      <td>(16.927, 53.5]</td>\n",
       "      <td>Private</td>\n",
       "      <td>12</td>\n",
       "      <td>Married</td>\n",
       "      <td>Female</td>\n",
       "      <td>(0.902, 50.0]</td>\n",
       "      <td>0</td>\n",
       "      <td>0</td>\n",
       "      <td>0</td>\n",
       "    </tr>\n",
       "    <tr>\n",
       "      <th>30158</th>\n",
       "      <td>(16.927, 53.5]</td>\n",
       "      <td>Private</td>\n",
       "      <td>9</td>\n",
       "      <td>Married</td>\n",
       "      <td>Male</td>\n",
       "      <td>(0.902, 50.0]</td>\n",
       "      <td>0</td>\n",
       "      <td>0</td>\n",
       "      <td>1</td>\n",
       "    </tr>\n",
       "    <tr>\n",
       "      <th>30159</th>\n",
       "      <td>(53.5, 90.0]</td>\n",
       "      <td>Private</td>\n",
       "      <td>9</td>\n",
       "      <td>Widowed</td>\n",
       "      <td>Female</td>\n",
       "      <td>(0.902, 50.0]</td>\n",
       "      <td>0</td>\n",
       "      <td>0</td>\n",
       "      <td>0</td>\n",
       "    </tr>\n",
       "    <tr>\n",
       "      <th>30160</th>\n",
       "      <td>(16.927, 53.5]</td>\n",
       "      <td>Private</td>\n",
       "      <td>9</td>\n",
       "      <td>Never-married</td>\n",
       "      <td>Male</td>\n",
       "      <td>(0.902, 50.0]</td>\n",
       "      <td>0</td>\n",
       "      <td>0</td>\n",
       "      <td>0</td>\n",
       "    </tr>\n",
       "    <tr>\n",
       "      <th>30161</th>\n",
       "      <td>(16.927, 53.5]</td>\n",
       "      <td>Self-emp-inc</td>\n",
       "      <td>9</td>\n",
       "      <td>Married</td>\n",
       "      <td>Female</td>\n",
       "      <td>(0.902, 50.0]</td>\n",
       "      <td>1</td>\n",
       "      <td>0</td>\n",
       "      <td>1</td>\n",
       "    </tr>\n",
       "  </tbody>\n",
       "</table>\n",
       "<p>30162 rows × 9 columns</p>\n",
       "</div>"
      ],
      "text/plain": [
       "                  age         workclass education-num marital-status     sex  \\\n",
       "0      (16.927, 53.5]         State-gov            13  Never-married    Male   \n",
       "1      (16.927, 53.5]  Self-emp-not-inc            13        Married    Male   \n",
       "2      (16.927, 53.5]           Private             9       Divorced    Male   \n",
       "3      (16.927, 53.5]           Private             7        Married    Male   \n",
       "4      (16.927, 53.5]           Private            13        Married  Female   \n",
       "...               ...               ...           ...            ...     ...   \n",
       "30157  (16.927, 53.5]           Private            12        Married  Female   \n",
       "30158  (16.927, 53.5]           Private             9        Married    Male   \n",
       "30159    (53.5, 90.0]           Private             9        Widowed  Female   \n",
       "30160  (16.927, 53.5]           Private             9  Never-married    Male   \n",
       "30161  (16.927, 53.5]      Self-emp-inc             9        Married  Female   \n",
       "\n",
       "      hours-per-week  had-capital-gains  had-capital-losses compensation  \n",
       "0      (0.902, 50.0]                  1                   0            0  \n",
       "1      (0.902, 50.0]                  0                   0            0  \n",
       "2      (0.902, 50.0]                  0                   0            0  \n",
       "3      (0.902, 50.0]                  0                   0            0  \n",
       "4      (0.902, 50.0]                  0                   0            0  \n",
       "...              ...                ...                 ...          ...  \n",
       "30157  (0.902, 50.0]                  0                   0            0  \n",
       "30158  (0.902, 50.0]                  0                   0            1  \n",
       "30159  (0.902, 50.0]                  0                   0            0  \n",
       "30160  (0.902, 50.0]                  0                   0            0  \n",
       "30161  (0.902, 50.0]                  1                   0            1  \n",
       "\n",
       "[30162 rows x 9 columns]"
      ]
     },
     "execution_count": 14,
     "metadata": {},
     "output_type": "execute_result"
    }
   ],
   "source": [
    "adult_high_discretization"
   ]
  },
  {
   "cell_type": "code",
   "execution_count": 16,
   "id": "11cad84d",
   "metadata": {},
   "outputs": [],
   "source": [
    "def calculate_canonical_queries(data, epsilon, column_feature_set=[]):\n",
    "    dataframe = DataFrameData(data)\n",
    "    n, d = dataframe.int_array.shape\n",
    "    delta = (n ** (-2))\n",
    "    domain_key_list = list(dataframe.values_by_col.keys())\n",
    "    domain_value_count_list = [len(dataframe.values_by_col[key]) for key in domain_key_list]\n",
    "\n",
    "    domain = Domain(domain_key_list, domain_value_count_list)\n",
    "    print(f\"Domain size: {domain.size()}\")\n",
    "\n",
    "    query_sets = MST_selection(Dataset(dataframe.int_df, domain), epsilon, delta,\n",
    "                                   cliques_to_include=column_feature_set)\n",
    "\n",
    "    queries = FullMarginalQuerySet(query_sets, dataframe.values_by_col)\n",
    "    query_list = queries.flatten()\n",
    "    queries = queries.get_canonical_queries()\n",
    "    query_number = calculate_query_number(queries.queries)\n",
    "    return query_number"
   ]
  },
  {
   "cell_type": "code",
   "execution_count": 8,
   "id": "a74acfd0",
   "metadata": {},
   "outputs": [
    {
     "name": "stdout",
     "output_type": "stream",
     "text": [
      "(30162, 6)\n",
      "Dataframe data n: 30162\n",
      "Dataframe data d: 6\n",
      "Calculating canonical queries, clique_set length: 12\n"
     ]
    },
    {
     "name": "stderr",
     "output_type": "stream",
     "text": [
      "  0%|                                                                                                      | 0/12 [00:00<?, ?it/s]\n",
      "5it [00:00, 17505.44it/s]\n",
      "\n",
      "2it [00:00, 12633.45it/s]\n",
      "\n",
      "32it [00:00, 20906.19it/s]\n",
      "\n",
      "5it [00:00, 9995.96it/s]\n",
      "\n",
      "10it [00:00, 7518.02it/s]\n",
      "\n",
      "16it [00:00, 15043.46it/s]\n",
      "\n",
      "25it [00:00, 15185.75it/s]\n",
      "\n",
      "10it [00:00, 10586.33it/s]\n",
      "\n",
      "10it [00:00, 9882.90it/s]\n",
      "\n",
      "5it [00:00, 14315.03it/s]\n",
      "\n",
      "2it [00:00, 9731.56it/s]\n",
      "100%|████████████████████████████████████████████████████████████████████████████████████████████| 12/12 [00:00<00:00, 306.81it/s]\n",
      "100%|████████████████████████████████████████████████████████████████████████████████████████████| 5/5 [00:00<00:00, 33447.40it/s]\n"
     ]
    },
    {
     "name": "stdout",
     "output_type": "stream",
     "text": [
      "Calculating new queries, not_original_clique_queries length: 29\n"
     ]
    },
    {
     "name": "stderr",
     "output_type": "stream",
     "text": [
      "100%|██████████████████████████████████████████████████████████████████████████████████████████| 29/29 [00:00<00:00, 29841.71it/s]"
     ]
    },
    {
     "name": "stdout",
     "output_type": "stream",
     "text": [
      "72\n"
     ]
    },
    {
     "name": "stderr",
     "output_type": "stream",
     "text": [
      "\n"
     ]
    }
   ],
   "source": [
    "print(calculate_canonical_queries(adult_small, 1))"
   ]
  },
  {
   "cell_type": "code",
   "execution_count": 10,
   "id": "d4d5e6c8",
   "metadata": {},
   "outputs": [
    {
     "name": "stdout",
     "output_type": "stream",
     "text": [
      "(30162, 9)\n",
      "Dataframe data n: 30162\n",
      "Dataframe data d: 9\n",
      "Calculating canonical queries, clique_set length: 18\n"
     ]
    },
    {
     "name": "stderr",
     "output_type": "stream",
     "text": [
      "  0%|                                                                                                      | 0/18 [00:00<?, ?it/s]\n",
      "35it [00:00, 15600.49it/s]\n",
      "\n",
      "2it [00:00, 6326.25it/s]\n",
      "\n",
      "16it [00:00, 12534.34it/s]\n",
      "\n",
      "10it [00:00, 18078.90it/s]\n",
      "\n",
      "5it [00:00, 14675.66it/s]\n",
      "\n",
      "4it [00:00, 10845.00it/s]\n",
      "\n",
      "25it [00:00, 16557.33it/s]\n",
      "\n",
      "2it [00:00, 2713.88it/s]\n",
      "\n",
      "2it [00:00, 5928.34it/s]\n",
      "\n",
      "7it [00:00, 10691.96it/s]\n",
      "\n",
      "10it [00:00, 9747.39it/s]\n",
      "\n",
      "2it [00:00, 3849.75it/s]\n",
      "\n",
      "4it [00:00, 5157.46it/s]\n",
      "\n",
      "5it [00:00, 13521.29it/s]\n",
      "\n",
      "32it [00:00, 17117.42it/s]\n",
      "\n",
      "5it [00:00, 17863.30it/s]\n",
      "\n",
      "10it [00:00, 18741.30it/s]\n",
      "100%|████████████████████████████████████████████████████████████████████████████████████████████| 18/18 [00:00<00:00, 272.38it/s]\n",
      "100%|████████████████████████████████████████████████████████████████████████████████████████████| 8/8 [00:00<00:00, 62484.98it/s]\n"
     ]
    },
    {
     "name": "stdout",
     "output_type": "stream",
     "text": [
      "Calculating new queries, not_original_clique_queries length: 62\n"
     ]
    },
    {
     "name": "stderr",
     "output_type": "stream",
     "text": [
      "100%|██████████████████████████████████████████████████████████████████████████████████████████| 62/62 [00:00<00:00, 35065.65it/s]"
     ]
    },
    {
     "name": "stdout",
     "output_type": "stream",
     "text": [
      "106\n"
     ]
    },
    {
     "name": "stderr",
     "output_type": "stream",
     "text": [
      "\n"
     ]
    }
   ],
   "source": [
    "query = [('education-num', 'compensation')]\n",
    "print(calculate_canonical_queries(adult_large, 1, query))"
   ]
  },
  {
   "cell_type": "code",
   "execution_count": 11,
   "id": "d42207f3",
   "metadata": {},
   "outputs": [
    {
     "name": "stdout",
     "output_type": "stream",
     "text": [
      "(30162, 6)\n",
      "Dataframe data n: 30162\n",
      "Dataframe data d: 6\n"
     ]
    },
    {
     "name": "stderr",
     "output_type": "stream",
     "text": [
      "/home/local/jarlehti/projects/gradu/src/napsu_mq/mst.py:130: RuntimeWarning: divide by zero encountered in double_scalars\n",
      "  epsilon = np.sqrt(8 * rho / (r - 1))\n"
     ]
    },
    {
     "name": "stdout",
     "output_type": "stream",
     "text": [
      "Calculating canonical queries, clique_set length: 22\n"
     ]
    },
    {
     "name": "stderr",
     "output_type": "stream",
     "text": [
      "  0%|                                                                                                      | 0/22 [00:00<?, ?it/s]\n",
      "5it [00:00, 15615.43it/s]\n",
      "\n",
      "10it [00:00, 11775.14it/s]\n",
      "\n",
      "2it [00:00, 2892.62it/s]\n",
      "\n",
      "25it [00:00, 11138.47it/s]\n",
      "\n",
      "10it [00:00, 11090.17it/s]\n",
      "\n",
      "10it [00:00, 7879.59it/s]\n",
      "\n",
      "32it [00:00, 12146.40it/s]\n",
      "\n",
      "5it [00:00, 9515.21it/s]\n",
      "\n",
      "16it [00:00, 20008.61it/s]\n",
      "\n",
      "10it [00:00, 11583.28it/s]\n",
      "\n",
      "80it [00:00, 21300.34it/s]\n",
      "\n",
      "25it [00:00, 17921.31it/s]\n",
      "\n",
      "80it [00:00, 23104.34it/s]\n",
      "\n",
      "25it [00:00, 15839.52it/s]\n",
      "\n",
      "32it [00:00, 17836.24it/s]\n",
      "\n",
      "5it [00:00, 20010.99it/s]\n",
      "\n",
      "2it [00:00, 2441.39it/s]\n",
      "\n",
      "4it [00:00, 5475.59it/s]\n",
      "\n",
      "10it [00:00, 10425.81it/s]\n",
      "\n",
      "80it [00:00, 21258.51it/s]\n",
      "\n",
      "10it [00:00, 8696.46it/s]\n",
      "100%|████████████████████████████████████████████████████████████████████████████████████████████| 22/22 [00:00<00:00, 242.23it/s]\n",
      "100%|█████████████████████████████████████████████████████████████████████████████████████████| 15/15 [00:00<00:00, 293993.27it/s]\n"
     ]
    },
    {
     "name": "stdout",
     "output_type": "stream",
     "text": [
      "Calculating new queries, not_original_clique_queries length: 29\n"
     ]
    },
    {
     "name": "stderr",
     "output_type": "stream",
     "text": [
      "100%|██████████████████████████████████████████████████████████████████████████████████████████| 29/29 [00:00<00:00, 16919.57it/s]"
     ]
    },
    {
     "name": "stdout",
     "output_type": "stream",
     "text": [
      "312\n"
     ]
    },
    {
     "name": "stderr",
     "output_type": "stream",
     "text": [
      "\n"
     ]
    }
   ],
   "source": [
    "adult_small_full_marginal_set = list(itertools.combinations(adult_small.columns, 2))\n",
    "print(calculate_canonical_queries(adult_small, 1, adult_small_full_marginal_set))"
   ]
  },
  {
   "cell_type": "code",
   "execution_count": 25,
   "id": "f06cdd79",
   "metadata": {},
   "outputs": [
    {
     "data": {
      "text/plain": [
       "age                      int64\n",
       "workclass             category\n",
       "education-num         category\n",
       "marital-status        category\n",
       "sex                   category\n",
       "hours-per-week           int64\n",
       "had-capital-gains        int64\n",
       "had-capital-losses       int64\n",
       "compensation          category\n",
       "dtype: object"
      ]
     },
     "execution_count": 25,
     "metadata": {},
     "output_type": "execute_result"
    }
   ],
   "source": [
    "adult_no_discretization.dtypes"
   ]
  },
  {
   "cell_type": "code",
   "execution_count": 19,
   "id": "131f582e",
   "metadata": {},
   "outputs": [
    {
     "name": "stdout",
     "output_type": "stream",
     "text": [
      "Domain size: 225403637760\n",
      "Calculating canonical queries, clique_set length: 18\n"
     ]
    },
    {
     "name": "stderr",
     "output_type": "stream",
     "text": [
      "  0%|                                                                                                      | 0/18 [00:00<?, ?it/s]\n",
      "385it [00:00, 21591.50it/s]\n",
      "  0%|                                                                                                      | 0/18 [00:00<?, ?it/s]\n"
     ]
    },
    {
     "ename": "IndexError",
     "evalue": "index 72 is out of bounds for axis 0 with size 72",
     "output_type": "error",
     "traceback": [
      "\u001b[0;31m---------------------------------------------------------------------------\u001b[0m",
      "\u001b[0;31mIndexError\u001b[0m                                Traceback (most recent call last)",
      "Cell \u001b[0;32mIn [19], line 1\u001b[0m\n\u001b[0;32m----> 1\u001b[0m \u001b[38;5;28mprint\u001b[39m(\u001b[43mcalculate_canonical_queries\u001b[49m\u001b[43m(\u001b[49m\u001b[43madult_no_discretization\u001b[49m\u001b[43m,\u001b[49m\u001b[43m \u001b[49m\u001b[38;5;241;43m1\u001b[39;49m\u001b[43m)\u001b[49m)\n",
      "Cell \u001b[0;32mIn [16], line 16\u001b[0m, in \u001b[0;36mcalculate_canonical_queries\u001b[0;34m(data, epsilon, column_feature_set)\u001b[0m\n\u001b[1;32m     14\u001b[0m queries \u001b[38;5;241m=\u001b[39m FullMarginalQuerySet(query_sets, dataframe\u001b[38;5;241m.\u001b[39mvalues_by_col)\n\u001b[1;32m     15\u001b[0m query_list \u001b[38;5;241m=\u001b[39m queries\u001b[38;5;241m.\u001b[39mflatten()\n\u001b[0;32m---> 16\u001b[0m queries \u001b[38;5;241m=\u001b[39m \u001b[43mqueries\u001b[49m\u001b[38;5;241;43m.\u001b[39;49m\u001b[43mget_canonical_queries\u001b[49m\u001b[43m(\u001b[49m\u001b[43m)\u001b[49m\n\u001b[1;32m     17\u001b[0m query_number \u001b[38;5;241m=\u001b[39m calculate_query_number(queries\u001b[38;5;241m.\u001b[39mqueries)\n\u001b[1;32m     18\u001b[0m \u001b[38;5;28;01mreturn\u001b[39;00m query_number\n",
      "File \u001b[0;32m~/projects/gradu/src/napsu_mq/marginal_query.py:164\u001b[0m, in \u001b[0;36mFullMarginalQuerySet.get_canonical_queries\u001b[0;34m(self)\u001b[0m\n\u001b[1;32m    162\u001b[0m     completed_value \u001b[38;5;241m=\u001b[39m value\u001b[38;5;241m.\u001b[39mcopy()\n\u001b[1;32m    163\u001b[0m     completed_value[conv_base_indices] \u001b[38;5;241m=\u001b[39m base_value[conv_base_indices]\n\u001b[0;32m--> 164\u001b[0m     counter[\u001b[38;5;28mtuple\u001b[39m(completed_value)] \u001b[38;5;241m+\u001b[39m\u001b[38;5;241m=\u001b[39m multiplier\n\u001b[1;32m    166\u001b[0m clique_ordered_not_int \u001b[38;5;241m=\u001b[39m \u001b[38;5;28mtuple\u001b[39m(\u001b[38;5;28mself\u001b[39m\u001b[38;5;241m.\u001b[39mfeature_by_index[feature] \u001b[38;5;28;01mfor\u001b[39;00m feature \u001b[38;5;129;01min\u001b[39;00m clique_ordered)\n\u001b[1;32m    167\u001b[0m \u001b[38;5;28;01mif\u001b[39;00m \u001b[38;5;129;01mnot\u001b[39;00m (counter \u001b[38;5;241m==\u001b[39m \u001b[38;5;241m0\u001b[39m)\u001b[38;5;241m.\u001b[39mall():\n",
      "\u001b[0;31mIndexError\u001b[0m: index 72 is out of bounds for axis 0 with size 72"
     ]
    }
   ],
   "source": [
    "print(calculate_canonical_queries(adult_no_discretization, 1))"
   ]
  },
  {
   "cell_type": "code",
   "execution_count": 18,
   "id": "4f46eefb",
   "metadata": {},
   "outputs": [
    {
     "name": "stdout",
     "output_type": "stream",
     "text": [
      "Domain size: 1792000\n"
     ]
    },
    {
     "name": "stderr",
     "output_type": "stream",
     "text": [
      "/home/jarlehti/projects/gradu/src/napsu_mq/mst.py:130: RuntimeWarning: divide by zero encountered in double_scalars\n",
      "  epsilon = np.sqrt(8 * rho / (r - 1))\n"
     ]
    },
    {
     "name": "stdout",
     "output_type": "stream",
     "text": [
      "Calculating canonical queries, clique_set length: 21\n"
     ]
    },
    {
     "name": "stderr",
     "output_type": "stream",
     "text": [
      "  0%|                                                                                                      | 0/21 [00:00<?, ?it/s]\n",
      "16it [00:00, 27103.74it/s]\n",
      "\n",
      "2it [00:00, 12409.18it/s]\n",
      "\n",
      "5it [00:00, 10412.87it/s]\n",
      "\n",
      "32it [00:00, 14903.15it/s]\n",
      "\n",
      "4it [00:00, 3037.15it/s]\n",
      "\n",
      "10it [00:00, 10885.81it/s]\n",
      "\n",
      "5it [00:00, 20184.33it/s]\n",
      "\n",
      "8it [00:00, 25285.93it/s]\n",
      "\n",
      "10it [00:00, 20281.93it/s]\n",
      "\n",
      "2it [00:00, 13231.24it/s]\n",
      "\n",
      "4it [00:00, 6168.09it/s]\n",
      "\n",
      "10it [00:00, 7381.74it/s]\n",
      "\n",
      "40it [00:00, 21862.41it/s]\n",
      "\n",
      "5it [00:00, 6391.81it/s]\n",
      "\n",
      "7it [00:00, 9209.58it/s]\n",
      "\n",
      "2it [00:00, 12300.01it/s]\n",
      "\n",
      "2it [00:00, 1991.60it/s]\n",
      "\n",
      "4it [00:00, 4611.66it/s]\n",
      "\n",
      "35it [00:00, 10223.60it/s]\n",
      "\n",
      "10it [00:00, 7999.82it/s]\n",
      "100%|████████████████████████████████████████████████████████████████████████████████████████████| 21/21 [00:00<00:00, 287.84it/s]\n",
      "100%|█████████████████████████████████████████████████████████████████████████████████████████| 10/10 [00:00<00:00, 199728.76it/s]\n"
     ]
    },
    {
     "name": "stdout",
     "output_type": "stream",
     "text": [
      "Calculating new queries, not_original_clique_queries length: 66\n"
     ]
    },
    {
     "name": "stderr",
     "output_type": "stream",
     "text": [
      "100%|██████████████████████████████████████████████████████████████████████████████████████████| 66/66 [00:00<00:00, 41721.79it/s]"
     ]
    },
    {
     "name": "stdout",
     "output_type": "stream",
     "text": [
      "130\n"
     ]
    },
    {
     "name": "stderr",
     "output_type": "stream",
     "text": [
      "\n"
     ]
    }
   ],
   "source": [
    "#adult_reduced_full_marginal_set = list(itertools.combinations(adult_reduced.columns, 2))\n",
    "queries = [\n",
    "    ('age', 'compensation'), \n",
    "    ('age', 'marital-status'), \n",
    "    ('age', 'workclass'), \n",
    "    ('education', 'compensation'), \n",
    "    ('race', 'compensation'), \n",
    "    ('race', 'sex'), \n",
    "    ('sex', 'compensation'), \n",
    "    ('capital-gain', 'compensation'), \n",
    "    ('capital-loss', 'compensation'), \n",
    "    ('hours-per-week', 'compensation')\n",
    "]\n",
    "print(calculate_canonical_queries(adult_reduced, 0.1, queries))"
   ]
  },
  {
   "cell_type": "code",
   "execution_count": null,
   "id": "81db606d",
   "metadata": {},
   "outputs": [],
   "source": [
    "adult_small_random_query = list(itertools.combinations(adult_small.columns, 2))[0]\n",
    "print(calculate_canonical_queries(adult_small, 1, [adult_small_random_query]))"
   ]
  },
  {
   "cell_type": "code",
   "execution_count": 27,
   "id": "0da8d85a",
   "metadata": {},
   "outputs": [],
   "source": [
    "adult_raw = get_adult_train_raw(DATASETS_FOLDER)\n",
    "adult_discretized = clean_adult_with_discretization(adult_raw, n_buckets=5, columns=ADULT_COLUMNS_SMALL)"
   ]
  },
  {
   "cell_type": "code",
   "execution_count": 32,
   "id": "2530bc78",
   "metadata": {},
   "outputs": [
    {
     "data": {
      "text/html": [
       "<div>\n",
       "<style scoped>\n",
       "    .dataframe tbody tr th:only-of-type {\n",
       "        vertical-align: middle;\n",
       "    }\n",
       "\n",
       "    .dataframe tbody tr th {\n",
       "        vertical-align: top;\n",
       "    }\n",
       "\n",
       "    .dataframe thead th {\n",
       "        text-align: right;\n",
       "    }\n",
       "</style>\n",
       "<table border=\"1\" class=\"dataframe\">\n",
       "  <thead>\n",
       "    <tr style=\"text-align: right;\">\n",
       "      <th></th>\n",
       "      <th>age</th>\n",
       "      <th>education-num</th>\n",
       "      <th>marital-status</th>\n",
       "      <th>sex</th>\n",
       "      <th>hours-per-week</th>\n",
       "      <th>compensation</th>\n",
       "    </tr>\n",
       "  </thead>\n",
       "  <tbody>\n",
       "    <tr>\n",
       "      <th>0</th>\n",
       "      <td>(31.6, 46.2]</td>\n",
       "      <td>13</td>\n",
       "      <td>Never-married</td>\n",
       "      <td>Male</td>\n",
       "      <td>(20.6, 40.2]</td>\n",
       "      <td>0</td>\n",
       "    </tr>\n",
       "    <tr>\n",
       "      <th>1</th>\n",
       "      <td>(46.2, 60.8]</td>\n",
       "      <td>13</td>\n",
       "      <td>Married-civ-spouse</td>\n",
       "      <td>Male</td>\n",
       "      <td>(0.902, 20.6]</td>\n",
       "      <td>0</td>\n",
       "    </tr>\n",
       "    <tr>\n",
       "      <th>2</th>\n",
       "      <td>(31.6, 46.2]</td>\n",
       "      <td>9</td>\n",
       "      <td>Divorced</td>\n",
       "      <td>Male</td>\n",
       "      <td>(20.6, 40.2]</td>\n",
       "      <td>0</td>\n",
       "    </tr>\n",
       "    <tr>\n",
       "      <th>3</th>\n",
       "      <td>(46.2, 60.8]</td>\n",
       "      <td>7</td>\n",
       "      <td>Married-civ-spouse</td>\n",
       "      <td>Male</td>\n",
       "      <td>(20.6, 40.2]</td>\n",
       "      <td>0</td>\n",
       "    </tr>\n",
       "    <tr>\n",
       "      <th>4</th>\n",
       "      <td>(16.927, 31.6]</td>\n",
       "      <td>13</td>\n",
       "      <td>Married-civ-spouse</td>\n",
       "      <td>Female</td>\n",
       "      <td>(20.6, 40.2]</td>\n",
       "      <td>0</td>\n",
       "    </tr>\n",
       "    <tr>\n",
       "      <th>...</th>\n",
       "      <td>...</td>\n",
       "      <td>...</td>\n",
       "      <td>...</td>\n",
       "      <td>...</td>\n",
       "      <td>...</td>\n",
       "      <td>...</td>\n",
       "    </tr>\n",
       "    <tr>\n",
       "      <th>30157</th>\n",
       "      <td>(16.927, 31.6]</td>\n",
       "      <td>12</td>\n",
       "      <td>Married-civ-spouse</td>\n",
       "      <td>Female</td>\n",
       "      <td>(20.6, 40.2]</td>\n",
       "      <td>0</td>\n",
       "    </tr>\n",
       "    <tr>\n",
       "      <th>30158</th>\n",
       "      <td>(31.6, 46.2]</td>\n",
       "      <td>9</td>\n",
       "      <td>Married-civ-spouse</td>\n",
       "      <td>Male</td>\n",
       "      <td>(20.6, 40.2]</td>\n",
       "      <td>1</td>\n",
       "    </tr>\n",
       "    <tr>\n",
       "      <th>30159</th>\n",
       "      <td>(46.2, 60.8]</td>\n",
       "      <td>9</td>\n",
       "      <td>Widowed</td>\n",
       "      <td>Female</td>\n",
       "      <td>(20.6, 40.2]</td>\n",
       "      <td>0</td>\n",
       "    </tr>\n",
       "    <tr>\n",
       "      <th>30160</th>\n",
       "      <td>(16.927, 31.6]</td>\n",
       "      <td>9</td>\n",
       "      <td>Never-married</td>\n",
       "      <td>Male</td>\n",
       "      <td>(0.902, 20.6]</td>\n",
       "      <td>0</td>\n",
       "    </tr>\n",
       "    <tr>\n",
       "      <th>30161</th>\n",
       "      <td>(46.2, 60.8]</td>\n",
       "      <td>9</td>\n",
       "      <td>Married-civ-spouse</td>\n",
       "      <td>Female</td>\n",
       "      <td>(20.6, 40.2]</td>\n",
       "      <td>1</td>\n",
       "    </tr>\n",
       "  </tbody>\n",
       "</table>\n",
       "<p>30162 rows × 6 columns</p>\n",
       "</div>"
      ],
      "text/plain": [
       "                  age education-num      marital-status     sex  \\\n",
       "0        (31.6, 46.2]            13       Never-married    Male   \n",
       "1        (46.2, 60.8]            13  Married-civ-spouse    Male   \n",
       "2        (31.6, 46.2]             9            Divorced    Male   \n",
       "3        (46.2, 60.8]             7  Married-civ-spouse    Male   \n",
       "4      (16.927, 31.6]            13  Married-civ-spouse  Female   \n",
       "...               ...           ...                 ...     ...   \n",
       "30157  (16.927, 31.6]            12  Married-civ-spouse  Female   \n",
       "30158    (31.6, 46.2]             9  Married-civ-spouse    Male   \n",
       "30159    (46.2, 60.8]             9             Widowed  Female   \n",
       "30160  (16.927, 31.6]             9       Never-married    Male   \n",
       "30161    (46.2, 60.8]             9  Married-civ-spouse  Female   \n",
       "\n",
       "      hours-per-week compensation  \n",
       "0       (20.6, 40.2]            0  \n",
       "1      (0.902, 20.6]            0  \n",
       "2       (20.6, 40.2]            0  \n",
       "3       (20.6, 40.2]            0  \n",
       "4       (20.6, 40.2]            0  \n",
       "...              ...          ...  \n",
       "30157   (20.6, 40.2]            0  \n",
       "30158   (20.6, 40.2]            1  \n",
       "30159   (20.6, 40.2]            0  \n",
       "30160  (0.902, 20.6]            0  \n",
       "30161   (20.6, 40.2]            1  \n",
       "\n",
       "[30162 rows x 6 columns]"
      ]
     },
     "execution_count": 32,
     "metadata": {},
     "output_type": "execute_result"
    }
   ],
   "source": [
    "adult_discretized"
   ]
  },
  {
   "cell_type": "code",
   "execution_count": 38,
   "id": "24469f4b",
   "metadata": {},
   "outputs": [
    {
     "name": "stdout",
     "output_type": "stream",
     "text": [
      "(30162, 6)\n",
      "Dataframe data n: 30162\n",
      "Dataframe data d: 6\n"
     ]
    },
    {
     "name": "stderr",
     "output_type": "stream",
     "text": [
      "/home/local/jarlehti/projects/gradu/src/napsu_mq/mst.py:130: RuntimeWarning: divide by zero encountered in double_scalars\n",
      "  epsilon = np.sqrt(8 * rho / (r - 1))\n"
     ]
    },
    {
     "name": "stdout",
     "output_type": "stream",
     "text": [
      "Calculating canonical queries, clique_set length: 22\n"
     ]
    },
    {
     "name": "stderr",
     "output_type": "stream",
     "text": [
      "  0%|                                                                                                      | 0/22 [00:00<?, ?it/s]\n",
      "7it [00:00, 10660.90it/s]\n",
      "\n",
      "10it [00:00, 12282.00it/s]\n",
      "\n",
      "2it [00:00, 13508.23it/s]\n",
      "\n",
      "35it [00:00, 20612.28it/s]\n",
      "\n",
      "10it [00:00, 12572.85it/s]\n",
      "\n",
      "14it [00:00, 11031.42it/s]\n",
      "\n",
      "32it [00:00, 10802.23it/s]\n",
      "\n",
      "5it [00:00, 8863.70it/s]\n",
      "\n",
      "16it [00:00, 12758.34it/s]\n",
      "\n",
      "10it [00:00, 10562.34it/s]\n",
      "\n",
      "80it [00:00, 22454.95it/s]\n",
      "\n",
      "35it [00:00, 17650.67it/s]\n",
      "\n",
      "112it [00:00, 14505.54it/s]\n",
      "\n",
      "25it [00:00, 12188.49it/s]\n",
      "\n",
      "32it [00:00, 12644.16it/s]\n",
      "\n",
      "5it [00:00, 8341.89it/s]\n",
      "\n",
      "2it [00:00, 14217.98it/s]\n",
      "\n",
      "4it [00:00, 16810.84it/s]\n",
      "\n",
      "10it [00:00, 12505.38it/s]\n",
      "\n",
      "80it [00:00, 10841.50it/s]\n",
      "\n",
      "14it [00:00, 9829.30it/s]\n",
      "100%|████████████████████████████████████████████████████████████████████████████████████████████| 22/22 [00:00<00:00, 239.66it/s]\n",
      "100%|██████████████████████████████████████████████████████████████████████████████████████████| 15/15 [00:00<00:00, 95469.74it/s]\n"
     ]
    },
    {
     "name": "stdout",
     "output_type": "stream",
     "text": [
      "Calculating new queries, not_original_clique_queries length: 31\n"
     ]
    },
    {
     "name": "stderr",
     "output_type": "stream",
     "text": [
      "100%|██████████████████████████████████████████████████████████████████████████████████████████| 31/31 [00:00<00:00, 15523.33it/s]"
     ]
    },
    {
     "name": "stdout",
     "output_type": "stream",
     "text": [
      "364\n"
     ]
    },
    {
     "name": "stderr",
     "output_type": "stream",
     "text": [
      "\n"
     ]
    }
   ],
   "source": [
    "adult_reduced_full_marginal_set = list(itertools.combinations(adult_reduced.columns, 2))\n",
    "queries = [\n",
    "    ('age', 'compensation'), \n",
    "    ('age', 'marital-status'), \n",
    "    ('education-num', 'compensation'), \n",
    "    ('sex', 'compensation'), \n",
    "    ('hours-per-week', 'compensation')\n",
    "]\n",
    "\n",
    "adult_small_random_query = list(itertools.combinations(adult_small.columns, 2))\n",
    "\n",
    "print(calculate_canonical_queries(adult_discretized, 1, adult_small_random_query))"
   ]
  },
  {
   "cell_type": "code",
   "execution_count": 20,
   "id": "1689e50b",
   "metadata": {},
   "outputs": [
    {
     "data": {
      "text/html": [
       "<div>\n",
       "<style scoped>\n",
       "    .dataframe tbody tr th:only-of-type {\n",
       "        vertical-align: middle;\n",
       "    }\n",
       "\n",
       "    .dataframe tbody tr th {\n",
       "        vertical-align: top;\n",
       "    }\n",
       "\n",
       "    .dataframe thead th {\n",
       "        text-align: right;\n",
       "    }\n",
       "</style>\n",
       "<table border=\"1\" class=\"dataframe\">\n",
       "  <thead>\n",
       "    <tr style=\"text-align: right;\">\n",
       "      <th></th>\n",
       "      <th>age</th>\n",
       "      <th>education-num</th>\n",
       "      <th>marital-status</th>\n",
       "      <th>sex</th>\n",
       "      <th>hours-per-week</th>\n",
       "      <th>compensation</th>\n",
       "    </tr>\n",
       "  </thead>\n",
       "  <tbody>\n",
       "    <tr>\n",
       "      <th>0</th>\n",
       "      <td>(16.927, 53.5]</td>\n",
       "      <td>13</td>\n",
       "      <td>Never-married</td>\n",
       "      <td>Male</td>\n",
       "      <td>(0.902, 50.0]</td>\n",
       "      <td>0</td>\n",
       "    </tr>\n",
       "    <tr>\n",
       "      <th>1</th>\n",
       "      <td>(16.927, 53.5]</td>\n",
       "      <td>13</td>\n",
       "      <td>Married</td>\n",
       "      <td>Male</td>\n",
       "      <td>(0.902, 50.0]</td>\n",
       "      <td>0</td>\n",
       "    </tr>\n",
       "    <tr>\n",
       "      <th>2</th>\n",
       "      <td>(16.927, 53.5]</td>\n",
       "      <td>9</td>\n",
       "      <td>Divorced</td>\n",
       "      <td>Male</td>\n",
       "      <td>(0.902, 50.0]</td>\n",
       "      <td>0</td>\n",
       "    </tr>\n",
       "    <tr>\n",
       "      <th>3</th>\n",
       "      <td>(16.927, 53.5]</td>\n",
       "      <td>7</td>\n",
       "      <td>Married</td>\n",
       "      <td>Male</td>\n",
       "      <td>(0.902, 50.0]</td>\n",
       "      <td>0</td>\n",
       "    </tr>\n",
       "    <tr>\n",
       "      <th>4</th>\n",
       "      <td>(16.927, 53.5]</td>\n",
       "      <td>13</td>\n",
       "      <td>Married</td>\n",
       "      <td>Female</td>\n",
       "      <td>(0.902, 50.0]</td>\n",
       "      <td>0</td>\n",
       "    </tr>\n",
       "    <tr>\n",
       "      <th>...</th>\n",
       "      <td>...</td>\n",
       "      <td>...</td>\n",
       "      <td>...</td>\n",
       "      <td>...</td>\n",
       "      <td>...</td>\n",
       "      <td>...</td>\n",
       "    </tr>\n",
       "    <tr>\n",
       "      <th>30157</th>\n",
       "      <td>(16.927, 53.5]</td>\n",
       "      <td>12</td>\n",
       "      <td>Married</td>\n",
       "      <td>Female</td>\n",
       "      <td>(0.902, 50.0]</td>\n",
       "      <td>0</td>\n",
       "    </tr>\n",
       "    <tr>\n",
       "      <th>30158</th>\n",
       "      <td>(16.927, 53.5]</td>\n",
       "      <td>9</td>\n",
       "      <td>Married</td>\n",
       "      <td>Male</td>\n",
       "      <td>(0.902, 50.0]</td>\n",
       "      <td>1</td>\n",
       "    </tr>\n",
       "    <tr>\n",
       "      <th>30159</th>\n",
       "      <td>(53.5, 90.0]</td>\n",
       "      <td>9</td>\n",
       "      <td>Widowed</td>\n",
       "      <td>Female</td>\n",
       "      <td>(0.902, 50.0]</td>\n",
       "      <td>0</td>\n",
       "    </tr>\n",
       "    <tr>\n",
       "      <th>30160</th>\n",
       "      <td>(16.927, 53.5]</td>\n",
       "      <td>9</td>\n",
       "      <td>Never-married</td>\n",
       "      <td>Male</td>\n",
       "      <td>(0.902, 50.0]</td>\n",
       "      <td>0</td>\n",
       "    </tr>\n",
       "    <tr>\n",
       "      <th>30161</th>\n",
       "      <td>(16.927, 53.5]</td>\n",
       "      <td>9</td>\n",
       "      <td>Married</td>\n",
       "      <td>Female</td>\n",
       "      <td>(0.902, 50.0]</td>\n",
       "      <td>1</td>\n",
       "    </tr>\n",
       "  </tbody>\n",
       "</table>\n",
       "<p>30162 rows × 6 columns</p>\n",
       "</div>"
      ],
      "text/plain": [
       "                  age education-num marital-status     sex hours-per-week  \\\n",
       "0      (16.927, 53.5]            13  Never-married    Male  (0.902, 50.0]   \n",
       "1      (16.927, 53.5]            13        Married    Male  (0.902, 50.0]   \n",
       "2      (16.927, 53.5]             9       Divorced    Male  (0.902, 50.0]   \n",
       "3      (16.927, 53.5]             7        Married    Male  (0.902, 50.0]   \n",
       "4      (16.927, 53.5]            13        Married  Female  (0.902, 50.0]   \n",
       "...               ...           ...            ...     ...            ...   \n",
       "30157  (16.927, 53.5]            12        Married  Female  (0.902, 50.0]   \n",
       "30158  (16.927, 53.5]             9        Married    Male  (0.902, 50.0]   \n",
       "30159    (53.5, 90.0]             9        Widowed  Female  (0.902, 50.0]   \n",
       "30160  (16.927, 53.5]             9  Never-married    Male  (0.902, 50.0]   \n",
       "30161  (16.927, 53.5]             9        Married  Female  (0.902, 50.0]   \n",
       "\n",
       "      compensation  \n",
       "0                0  \n",
       "1                0  \n",
       "2                0  \n",
       "3                0  \n",
       "4                0  \n",
       "...            ...  \n",
       "30157            0  \n",
       "30158            1  \n",
       "30159            0  \n",
       "30160            0  \n",
       "30161            1  \n",
       "\n",
       "[30162 rows x 6 columns]"
      ]
     },
     "execution_count": 20,
     "metadata": {},
     "output_type": "execute_result"
    }
   ],
   "source": [
    "adult_extra_high_discretization"
   ]
  },
  {
   "cell_type": "code",
   "execution_count": 23,
   "id": "c814e9bd",
   "metadata": {},
   "outputs": [
    {
     "name": "stdout",
     "output_type": "stream",
     "text": [
      "[('age', 'education-num'), ('age', 'marital-status'), ('age', 'sex'), ('age', 'hours-per-week'), ('age', 'compensation'), ('education-num', 'marital-status'), ('education-num', 'sex'), ('education-num', 'hours-per-week'), ('education-num', 'compensation'), ('marital-status', 'sex'), ('marital-status', 'hours-per-week'), ('marital-status', 'compensation'), ('sex', 'hours-per-week'), ('sex', 'compensation'), ('hours-per-week', 'compensation')]\n",
      "(30162, 6)\n",
      "Dataframe data n: 30162\n",
      "Dataframe data d: 6\n",
      "Calculating canonical queries, clique_set length: 12\n"
     ]
    },
    {
     "name": "stderr",
     "output_type": "stream",
     "text": [
      "  0%|                                                                                                      | 0/12 [00:00<?, ?it/s]\n",
      "5it [00:00, 14905.13it/s]\n",
      "\n",
      "4it [00:00, 11514.90it/s]\n",
      "\n",
      "2it [00:00, 8160.12it/s]\n",
      "\n",
      "32it [00:00, 16490.69it/s]\n",
      "\n",
      "2it [00:00, 10727.12it/s]\n",
      "\n",
      "10it [00:00, 15147.36it/s]\n",
      "\n",
      "16it [00:00, 14896.53it/s]\n",
      "\n",
      "10it [00:00, 9485.08it/s]\n",
      "\n",
      "10it [00:00, 18001.30it/s]\n",
      "\n",
      "2it [00:00, 15679.64it/s]\n",
      "\n",
      "2it [00:00, 22919.69it/s]\n",
      "100%|████████████████████████████████████████████████████████████████████████████████████████████| 12/12 [00:00<00:00, 384.49it/s]\n",
      "100%|███████████████████████████████████████████████████████████████████████████████████████████| 5/5 [00:00<00:00, 111550.64it/s]\n"
     ]
    },
    {
     "name": "stdout",
     "output_type": "stream",
     "text": [
      "Calculating new queries, not_original_clique_queries length: 23\n"
     ]
    },
    {
     "name": "stderr",
     "output_type": "stream",
     "text": [
      "100%|██████████████████████████████████████████████████████████████████████████████████████████| 23/23 [00:00<00:00, 34440.91it/s]"
     ]
    },
    {
     "name": "stdout",
     "output_type": "stream",
     "text": [
      "51\n"
     ]
    },
    {
     "name": "stderr",
     "output_type": "stream",
     "text": [
      "\n"
     ]
    }
   ],
   "source": [
    "#adult_extra_high_discretization = clean_adult_with_discretization(adult_raw, n_buckets=2, columns=ADULT_COLUMNS_SMALL)\n",
    "\n",
    "adult_extra_high_discretization_full_marginal_set = list(itertools.combinations(adult_extra_high_discretization.columns, 2))\n",
    "print(calculate_canonical_queries(adult_extra_high_discretization, 1))"
   ]
  },
  {
   "cell_type": "code",
   "execution_count": 9,
   "id": "60ddfe9d",
   "metadata": {},
   "outputs": [
    {
     "name": "stdout",
     "output_type": "stream",
     "text": [
      "[('age', 'education-num'), ('age', 'marital-status'), ('age', 'sex'), ('age', 'hours-per-week'), ('age', 'compensation'), ('education-num', 'marital-status'), ('education-num', 'sex'), ('education-num', 'hours-per-week'), ('education-num', 'compensation'), ('marital-status', 'sex'), ('marital-status', 'hours-per-week'), ('marital-status', 'compensation'), ('sex', 'hours-per-week'), ('sex', 'compensation'), ('hours-per-week', 'compensation')]\n",
      "[('age', 'education-num'), ('age', 'marital-status'), ('age', 'sex'), ('age', 'hours-per-week'), ('age', 'compensation'), ('education-num', 'marital-status'), ('education-num', 'sex'), ('education-num', 'hours-per-week'), ('education-num', 'compensation'), ('marital-status', 'sex'), ('marital-status', 'hours-per-week'), ('marital-status', 'compensation'), ('sex', 'hours-per-week'), ('sex', 'compensation'), ('hours-per-week', 'compensation')]\n"
     ]
    },
    {
     "name": "stderr",
     "output_type": "stream",
     "text": [
      "/home/jarlehti/projects/gradu/src/napsu_mq/mst.py:130: RuntimeWarning: divide by zero encountered in double_scalars\n",
      "  epsilon = np.sqrt(8 * rho / (r - 1))\n"
     ]
    },
    {
     "name": "stdout",
     "output_type": "stream",
     "text": [
      "Calculating canonical queries, clique_set length: 22\n"
     ]
    },
    {
     "name": "stderr",
     "output_type": "stream",
     "text": [
      "  0%|                                                                                                      | 0/22 [00:00<?, ?it/s]\n",
      "5it [00:00, 8253.25it/s]\n",
      "\n",
      "4it [00:00, 6587.05it/s]\n",
      "\n",
      "2it [00:00, 14169.95it/s]\n",
      "\n",
      "10it [00:00, 30153.16it/s]\n",
      "\n",
      "4it [00:00, 23763.76it/s]\n",
      "\n",
      "10it [00:00, 32463.65it/s]\n",
      "\n",
      "32it [00:00, 28526.62it/s]\n",
      "\n",
      "2it [00:00, 9731.56it/s]\n",
      "\n",
      "16it [00:00, 24474.42it/s]\n",
      "\n",
      "4it [00:00, 11358.98it/s]\n",
      "\n",
      "32it [00:00, 31655.12it/s]\n",
      "\n",
      "10it [00:00, 20311.40it/s]\n",
      "\n",
      "80it [00:00, 32410.35it/s]\n",
      "\n",
      "4it [00:00, 6290.67it/s]\n",
      "\n",
      "32it [00:00, 16775.12it/s]\n",
      "\n",
      "2it [00:00, 11683.30it/s]\n",
      "\n",
      "2it [00:00, 12210.49it/s]\n",
      "\n",
      "4it [00:00, 21290.88it/s]\n",
      "\n",
      "4it [00:00, 12945.38it/s]\n",
      "\n",
      "32it [00:00, 24961.45it/s]\n",
      "\n",
      "10it [00:00, 25970.92it/s]\n",
      "100%|████████████████████████████████████████████████████████████████████████████████████████████| 22/22 [00:00<00:00, 378.51it/s]\n",
      "100%|█████████████████████████████████████████████████████████████████████████████████████████| 15/15 [00:00<00:00, 533174.24it/s]\n"
     ]
    },
    {
     "name": "stdout",
     "output_type": "stream",
     "text": [
      "Calculating new queries, not_original_clique_queries length: 23\n"
     ]
    },
    {
     "name": "stderr",
     "output_type": "stream",
     "text": [
      "100%|██████████████████████████████████████████████████████████████████████████████████████████| 23/23 [00:00<00:00, 65181.75it/s]"
     ]
    },
    {
     "name": "stdout",
     "output_type": "stream",
     "text": [
      "165\n"
     ]
    },
    {
     "name": "stderr",
     "output_type": "stream",
     "text": [
      "\n"
     ]
    }
   ],
   "source": [
    "adult_independence_pruning_full_marginal_set = list(itertools.combinations(adult_independence_pruning.columns, 2))\n",
    "print(adult_independence_pruning_full_marginal_set)\n",
    "\n",
    "#adult_independence_pruning_full_marginal_set.remove(('age', 'sex'))\n",
    "\n",
    "print(adult_independence_pruning_full_marginal_set)\n",
    "print(calculate_canonical_queries(adult_independence_pruning, 0.1, adult_independence_pruning_full_marginal_set))"
   ]
  },
  {
   "cell_type": "code",
   "execution_count": 17,
   "id": "83ef2b0f",
   "metadata": {},
   "outputs": [
    {
     "name": "stdout",
     "output_type": "stream",
     "text": [
      "Domain size: 224000\n"
     ]
    },
    {
     "name": "stderr",
     "output_type": "stream",
     "text": [
      "/home/jarlehti/projects/gradu/src/napsu_mq/mst.py:130: RuntimeWarning: divide by zero encountered in double_scalars\n",
      "  epsilon = np.sqrt(8 * rho / (r - 1))\n"
     ]
    },
    {
     "name": "stdout",
     "output_type": "stream",
     "text": [
      "Calculating canonical queries, clique_set length: 46\n"
     ]
    },
    {
     "name": "stderr",
     "output_type": "stream",
     "text": [
      "  0%|                                                                                                      | 0/46 [00:00<?, ?it/s]\n",
      "16it [00:00, 17089.09it/s]\n",
      "\n",
      "10it [00:00, 6617.71it/s]\n",
      "\n",
      "5it [00:00, 5343.06it/s]\n",
      "\n",
      "10it [00:00, 6086.64it/s]\n",
      "\n",
      "2it [00:00, 3235.10it/s]\n",
      "\n",
      "4it [00:00, 3426.02it/s]\n",
      "\n",
      "10it [00:00, 5041.84it/s]\n",
      "\n",
      "80it [00:00, 14219.18it/s]\n",
      "\n",
      "10it [00:00, 3516.65it/s]\n",
      "\n",
      "25it [00:00, 11396.33it/s]\n",
      "\n",
      "4it [00:00, 4815.50it/s]\n",
      "\n",
      "14it [00:00, 13947.80it/s]\n",
      "\n",
      "10it [00:00, 10504.14it/s]\n",
      "\n",
      "80it [00:00, 15048.18it/s]\n",
      "\n",
      "35it [00:00, 12212.02it/s]\n",
      " 33%|██████████████████████████████                                                              | 15/46 [00:00<00:00, 140.49it/s]\n",
      "2it [00:00, 4696.87it/s]\n",
      "\n",
      "7it [00:00, 8065.97it/s]\n",
      "\n",
      "2it [00:00, 3342.07it/s]\n",
      "\n",
      "10it [00:00, 4273.80it/s]\n",
      "\n",
      "10it [00:00, 4619.28it/s]\n",
      "\n",
      "10it [00:00, 6810.04it/s]\n",
      "\n",
      "32it [00:00, 8598.19it/s]\n",
      "\n",
      "10it [00:00, 4372.71it/s]\n",
      "\n",
      "35it [00:00, 8084.18it/s]\n",
      "\n",
      "10it [00:00, 8626.71it/s]\n",
      "\n",
      "32it [00:00, 6649.71it/s]\n",
      "\n",
      "112it [00:00, 6449.05it/s]\n",
      "\n",
      "10it [00:00, 4481.09it/s]\n",
      "\n",
      "32it [00:00, 5993.74it/s]\n",
      "\n",
      "35it [00:00, 9714.18it/s]\n",
      " 65%|████████████████████████████████████████████████████████████                                | 30/46 [00:00<00:00, 119.63it/s]\n",
      "4it [00:00, 4499.12it/s]\n",
      "\n",
      "5it [00:00, 6339.64it/s]\n",
      "\n",
      "5it [00:00, 7476.48it/s]\n",
      "\n",
      "4it [00:00, 5609.23it/s]\n",
      "\n",
      "25it [00:00, 5074.16it/s]\n",
      "\n",
      "2it [00:00, 2645.41it/s]\n",
      "\n",
      "4it [00:00, 4039.78it/s]\n",
      "\n",
      "14it [00:00, 5948.76it/s]\n",
      "\n",
      "4it [00:00, 6929.87it/s]\n",
      "\n",
      "25it [00:00, 6245.99it/s]\n",
      "\n",
      "14it [00:00, 5662.51it/s]\n",
      "\n",
      "10it [00:00, 7768.67it/s]\n",
      "\n",
      "80it [00:00, 9301.04it/s]\n",
      " 93%|██████████████████████████████████████████████████████████████████████████████████████      | 43/46 [00:00<00:00, 111.48it/s]\n",
      "14it [00:00, 8302.03it/s]\n",
      "\n",
      "32it [00:00, 4307.65it/s]\n",
      "100%|████████████████████████████████████████████████████████████████████████████████████████████| 46/46 [00:00<00:00, 114.60it/s]\n",
      "100%|█████████████████████████████████████████████████████████████████████████████████████████| 36/36 [00:00<00:00, 170231.05it/s]\n"
     ]
    },
    {
     "name": "stdout",
     "output_type": "stream",
     "text": [
      "Calculating new queries, not_original_clique_queries length: 69\n"
     ]
    },
    {
     "name": "stderr",
     "output_type": "stream",
     "text": [
      "100%|██████████████████████████████████████████████████████████████████████████████████████████| 69/69 [00:00<00:00, 12927.46it/s]\n"
     ]
    },
    {
     "name": "stdout",
     "output_type": "stream",
     "text": [
      "565\n"
     ]
    }
   ],
   "source": [
    "adult_low_discretization_full_marginal_set = list(itertools.combinations(adult_low_discretization.columns, 2))\n",
    "\n",
    "print(calculate_canonical_queries(adult_low_discretization, 0.1, adult_low_discretization_full_marginal_set))"
   ]
  },
  {
   "cell_type": "code",
   "execution_count": null,
   "id": "dd12d5b4",
   "metadata": {},
   "outputs": [],
   "source": []
  }
 ],
 "metadata": {
  "kernelspec": {
   "display_name": "gradu",
   "language": "python",
   "name": "gradu"
  },
  "language_info": {
   "codemirror_mode": {
    "name": "ipython",
    "version": 3
   },
   "file_extension": ".py",
   "mimetype": "text/x-python",
   "name": "python",
   "nbconvert_exporter": "python",
   "pygments_lexer": "ipython3",
   "version": "3.8.10"
  }
 },
 "nbformat": 4,
 "nbformat_minor": 5
}
