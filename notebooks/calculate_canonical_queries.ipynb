{
 "cells": [
  {
   "cell_type": "code",
   "execution_count": 2,
   "id": "dc349934",
   "metadata": {},
   "outputs": [],
   "source": [
    "import sys\n",
    "sys.path.append(\"/home/jarlehti/projects/gradu\")"
   ]
  },
  {
   "cell_type": "code",
   "execution_count": 21,
   "id": "2a455739",
   "metadata": {},
   "outputs": [],
   "source": [
    "import os\n",
    "import itertools\n",
    "from src.utils.preprocess_dataset import get_adult_train_small, get_adult_train_large\n",
    "from src.napsu_mq.dataframe_data import DataFrameData\n",
    "from src.napsu_mq.mst import MST_selection, Domain, Dataset\n",
    "from src.napsu_mq.marginal_query import FullMarginalQuerySet\n",
    "from src.utils.query_utils import calculate_query_number"
   ]
  },
  {
   "cell_type": "code",
   "execution_count": 5,
   "id": "828a878b",
   "metadata": {},
   "outputs": [],
   "source": [
    "CURRENT_FOLDER = os.path.dirname(os.path.dirname(os.path.abspath(__name__)))\n",
    "DATASETS_FOLDER = os.path.join(CURRENT_FOLDER, \"data\", \"datasets\")"
   ]
  },
  {
   "cell_type": "code",
   "execution_count": 18,
   "id": "91a2f847",
   "metadata": {},
   "outputs": [],
   "source": [
    "adult_small = get_adult_train_small(DATASETS_FOLDER)\n",
    "adult_large = get_adult_train_large(DATASETS_FOLDER)"
   ]
  },
  {
   "cell_type": "code",
   "execution_count": 20,
   "id": "bfc041e5",
   "metadata": {},
   "outputs": [
    {
     "data": {
      "text/html": [
       "<div>\n",
       "<style scoped>\n",
       "    .dataframe tbody tr th:only-of-type {\n",
       "        vertical-align: middle;\n",
       "    }\n",
       "\n",
       "    .dataframe tbody tr th {\n",
       "        vertical-align: top;\n",
       "    }\n",
       "\n",
       "    .dataframe thead th {\n",
       "        text-align: right;\n",
       "    }\n",
       "</style>\n",
       "<table border=\"1\" class=\"dataframe\">\n",
       "  <thead>\n",
       "    <tr style=\"text-align: right;\">\n",
       "      <th></th>\n",
       "      <th>age</th>\n",
       "      <th>education-num</th>\n",
       "      <th>marital-status</th>\n",
       "      <th>sex</th>\n",
       "      <th>hours-per-week</th>\n",
       "      <th>compensation</th>\n",
       "    </tr>\n",
       "  </thead>\n",
       "  <tbody>\n",
       "    <tr>\n",
       "      <th>0</th>\n",
       "      <td>30 - 40</td>\n",
       "      <td>13</td>\n",
       "      <td>Never-married</td>\n",
       "      <td>Male</td>\n",
       "      <td>40 - 50</td>\n",
       "      <td>0</td>\n",
       "    </tr>\n",
       "    <tr>\n",
       "      <th>1</th>\n",
       "      <td>50 - 60</td>\n",
       "      <td>13</td>\n",
       "      <td>Married-civ-spouse</td>\n",
       "      <td>Male</td>\n",
       "      <td>10 - 20</td>\n",
       "      <td>0</td>\n",
       "    </tr>\n",
       "    <tr>\n",
       "      <th>2</th>\n",
       "      <td>30 - 40</td>\n",
       "      <td>9</td>\n",
       "      <td>Divorced</td>\n",
       "      <td>Male</td>\n",
       "      <td>40 - 50</td>\n",
       "      <td>0</td>\n",
       "    </tr>\n",
       "    <tr>\n",
       "      <th>3</th>\n",
       "      <td>50 - 60</td>\n",
       "      <td>7</td>\n",
       "      <td>Married-civ-spouse</td>\n",
       "      <td>Male</td>\n",
       "      <td>40 - 50</td>\n",
       "      <td>0</td>\n",
       "    </tr>\n",
       "    <tr>\n",
       "      <th>4</th>\n",
       "      <td>20 - 30</td>\n",
       "      <td>13</td>\n",
       "      <td>Married-civ-spouse</td>\n",
       "      <td>Female</td>\n",
       "      <td>40 - 50</td>\n",
       "      <td>0</td>\n",
       "    </tr>\n",
       "    <tr>\n",
       "      <th>...</th>\n",
       "      <td>...</td>\n",
       "      <td>...</td>\n",
       "      <td>...</td>\n",
       "      <td>...</td>\n",
       "      <td>...</td>\n",
       "      <td>...</td>\n",
       "    </tr>\n",
       "    <tr>\n",
       "      <th>30157</th>\n",
       "      <td>20 - 30</td>\n",
       "      <td>12</td>\n",
       "      <td>Married-civ-spouse</td>\n",
       "      <td>Female</td>\n",
       "      <td>30 - 40</td>\n",
       "      <td>0</td>\n",
       "    </tr>\n",
       "    <tr>\n",
       "      <th>30158</th>\n",
       "      <td>40 - 50</td>\n",
       "      <td>9</td>\n",
       "      <td>Married-civ-spouse</td>\n",
       "      <td>Male</td>\n",
       "      <td>40 - 50</td>\n",
       "      <td>1</td>\n",
       "    </tr>\n",
       "    <tr>\n",
       "      <th>30159</th>\n",
       "      <td>50 - 60</td>\n",
       "      <td>9</td>\n",
       "      <td>Widowed</td>\n",
       "      <td>Female</td>\n",
       "      <td>40 - 50</td>\n",
       "      <td>0</td>\n",
       "    </tr>\n",
       "    <tr>\n",
       "      <th>30160</th>\n",
       "      <td>20 - 30</td>\n",
       "      <td>9</td>\n",
       "      <td>Never-married</td>\n",
       "      <td>Male</td>\n",
       "      <td>20 - 30</td>\n",
       "      <td>0</td>\n",
       "    </tr>\n",
       "    <tr>\n",
       "      <th>30161</th>\n",
       "      <td>50 - 60</td>\n",
       "      <td>9</td>\n",
       "      <td>Married-civ-spouse</td>\n",
       "      <td>Female</td>\n",
       "      <td>40 - 50</td>\n",
       "      <td>1</td>\n",
       "    </tr>\n",
       "  </tbody>\n",
       "</table>\n",
       "<p>30162 rows × 6 columns</p>\n",
       "</div>"
      ],
      "text/plain": [
       "           age education-num  ... hours-per-week compensation\n",
       "0      30 - 40            13  ...        40 - 50            0\n",
       "1      50 - 60            13  ...        10 - 20            0\n",
       "2      30 - 40             9  ...        40 - 50            0\n",
       "3      50 - 60             7  ...        40 - 50            0\n",
       "4      20 - 30            13  ...        40 - 50            0\n",
       "...        ...           ...  ...            ...          ...\n",
       "30157  20 - 30            12  ...        30 - 40            0\n",
       "30158  40 - 50             9  ...        40 - 50            1\n",
       "30159  50 - 60             9  ...        40 - 50            0\n",
       "30160  20 - 30             9  ...        20 - 30            0\n",
       "30161  50 - 60             9  ...        40 - 50            1\n",
       "\n",
       "[30162 rows x 6 columns]"
      ]
     },
     "execution_count": 20,
     "metadata": {},
     "output_type": "execute_result"
    }
   ],
   "source": [
    "adult_small"
   ]
  },
  {
   "cell_type": "code",
   "execution_count": 12,
   "id": "11cad84d",
   "metadata": {},
   "outputs": [],
   "source": [
    "def calculate_canonical_queries(data, epsilon, column_feature_set=[]):\n",
    "    dataframe = DataFrameData(data)\n",
    "    n, d = dataframe.int_array.shape\n",
    "    delta = (n ** (-2))\n",
    "    domain_key_list = list(dataframe.values_by_col.keys())\n",
    "    domain_value_count_list = [len(dataframe.values_by_col[key]) for key in domain_key_list]\n",
    "\n",
    "    domain = Domain(domain_key_list, domain_value_count_list)\n",
    "\n",
    "    query_sets = MST_selection(Dataset(dataframe.int_df, domain), epsilon, delta,\n",
    "                                   cliques_to_include=column_feature_set)\n",
    "\n",
    "    queries = FullMarginalQuerySet(query_sets, dataframe.values_by_col)\n",
    "    query_list = queries.flatten()\n",
    "    queries = queries.get_canonical_queries()\n",
    "    query_number = calculate_query_number(queries.queries)\n",
    "    return query_number"
   ]
  },
  {
   "cell_type": "code",
   "execution_count": 17,
   "id": "a74acfd0",
   "metadata": {},
   "outputs": [
    {
     "name": "stdout",
     "output_type": "stream",
     "text": [
      "(30162, 6)\n",
      "Dataframe data n: 30162\n",
      "Dataframe data d: 6\n",
      "Calculating canonical queries, clique_set length: 12\n"
     ]
    },
    {
     "name": "stderr",
     "output_type": "stream",
     "text": [
      "  0%|                                                           | 0/12 [00:00<?, ?it/s]\n",
      "70it [00:00, 37573.75it/s]\n",
      "\n",
      "7it [00:00, 31036.08it/s]\n",
      "\n",
      "2it [00:00, 15887.52it/s]\n",
      "\n",
      "32it [00:00, 21317.94it/s]\n",
      "\n",
      "10it [00:00, 36002.61it/s]\n",
      "\n",
      "14it [00:00, 21935.10it/s]\n",
      "\n",
      "16it [00:00, 49200.05it/s]\n",
      "\n",
      "70it [00:00, 35002.54it/s]\n",
      "\n",
      "14it [00:00, 21213.97it/s]\n",
      "\n",
      "10it [00:00, 31871.61it/s]\n",
      "\n",
      "2it [00:00, 20971.52it/s]\n",
      "100%|█████████████████████████████████████████████████| 12/12 [00:00<00:00, 476.26it/s]\n",
      "100%|████████████████████████████████████████████████| 5/5 [00:00<00:00, 165130.08it/s]\n"
     ]
    },
    {
     "name": "stdout",
     "output_type": "stream",
     "text": [
      "Calculating new queries, not_original_clique_queries length: 41\n"
     ]
    },
    {
     "name": "stderr",
     "output_type": "stream",
     "text": [
      "100%|███████████████████████████████████████████████| 41/41 [00:00<00:00, 42439.90it/s]"
     ]
    },
    {
     "name": "stdout",
     "output_type": "stream",
     "text": [
      "176\n"
     ]
    },
    {
     "name": "stderr",
     "output_type": "stream",
     "text": [
      "\n"
     ]
    }
   ],
   "source": [
    "print(calculate_canonical_queries(adult_small, 8))"
   ]
  },
  {
   "cell_type": "code",
   "execution_count": 19,
   "id": "d4d5e6c8",
   "metadata": {},
   "outputs": [
    {
     "name": "stdout",
     "output_type": "stream",
     "text": [
      "(30162, 9)\n",
      "Dataframe data n: 30162\n",
      "Dataframe data d: 9\n",
      "Calculating canonical queries, clique_set length: 18\n"
     ]
    },
    {
     "name": "stderr",
     "output_type": "stream",
     "text": [
      "  0%|                                                           | 0/18 [00:00<?, ?it/s]\n",
      "70it [00:00, 38110.24it/s]\n",
      "\n",
      "2it [00:00, 6442.86it/s]\n",
      "\n",
      "16it [00:00, 24555.02it/s]\n",
      "\n",
      "14it [00:00, 19411.65it/s]\n",
      "\n",
      "10it [00:00, 12725.44it/s]\n",
      "\n",
      "4it [00:00, 14463.12it/s]\n",
      "\n",
      "70it [00:00, 30134.59it/s]\n",
      "\n",
      "2it [00:00, 19784.45it/s]\n",
      "\n",
      "2it [00:00, 13595.80it/s]\n",
      "\n",
      "7it [00:00, 19077.41it/s]\n",
      "\n",
      "14it [00:00, 18887.18it/s]\n",
      "\n",
      "2it [00:00, 18600.02it/s]\n",
      "\n",
      "4it [00:00, 10280.16it/s]\n",
      "\n",
      "10it [00:00, 44667.77it/s]\n",
      "\n",
      "32it [00:00, 32498.24it/s]\n",
      "\n",
      "7it [00:00, 18736.52it/s]\n",
      "\n",
      "70it [00:00, 32239.08it/s]\n",
      "100%|█████████████████████████████████████████████████| 18/18 [00:00<00:00, 393.02it/s]\n",
      "100%|█████████████████████████████████████████████████| 8/8 [00:00<00:00, 70640.91it/s]\n"
     ]
    },
    {
     "name": "stdout",
     "output_type": "stream",
     "text": [
      "Calculating new queries, not_original_clique_queries length: 72\n"
     ]
    },
    {
     "name": "stderr",
     "output_type": "stream",
     "text": [
      "100%|███████████████████████████████████████████████| 72/72 [00:00<00:00, 39798.35it/s]"
     ]
    },
    {
     "name": "stdout",
     "output_type": "stream",
     "text": [
      "240\n"
     ]
    },
    {
     "name": "stderr",
     "output_type": "stream",
     "text": [
      "\n"
     ]
    }
   ],
   "source": [
    "print(calculate_canonical_queries(adult_large, 1))"
   ]
  },
  {
   "cell_type": "code",
   "execution_count": 24,
   "id": "d42207f3",
   "metadata": {},
   "outputs": [
    {
     "name": "stdout",
     "output_type": "stream",
     "text": [
      "(30162, 6)\n",
      "Dataframe data n: 30162\n",
      "Dataframe data d: 6\n"
     ]
    },
    {
     "name": "stderr",
     "output_type": "stream",
     "text": [
      "/home/local/jarlehti/projects/gradu/src/napsu_mq/mst.py:130: RuntimeWarning: divide by zero encountered in double_scalars\n",
      "  epsilon = np.sqrt(8 * rho / (r - 1))\n"
     ]
    },
    {
     "name": "stdout",
     "output_type": "stream",
     "text": [
      "Calculating canonical queries, clique_set length: 22\n"
     ]
    },
    {
     "name": "stderr",
     "output_type": "stream",
     "text": [
      "  0%|                                                           | 0/22 [00:00<?, ?it/s]\n",
      "7it [00:00, 27413.75it/s]\n",
      "\n",
      "20it [00:00, 25614.07it/s]\n",
      "\n",
      "2it [00:00, 15978.30it/s]\n",
      "\n",
      "70it [00:00, 28138.90it/s]\n",
      "\n",
      "20it [00:00, 34649.35it/s]\n",
      "\n",
      "14it [00:00, 22412.31it/s]\n",
      "\n",
      "32it [00:00, 28496.33it/s]\n",
      "\n",
      "10it [00:00, 19663.87it/s]\n",
      "\n",
      "16it [00:00, 23950.34it/s]\n",
      "\n",
      "20it [00:00, 25435.44it/s]\n",
      "\n",
      "160it [00:00, 37799.29it/s]\n",
      "\n",
      "70it [00:00, 35065.24it/s]\n",
      "\n",
      "112it [00:00, 25381.57it/s]\n",
      "\n",
      "100it [00:00, 25687.80it/s]\n",
      "\n",
      "32it [00:00, 16677.15it/s]\n",
      "\n",
      "10it [00:00, 14779.08it/s]\n",
      "\n",
      "2it [00:00, 4905.62it/s]\n",
      "\n",
      "4it [00:00, 8172.05it/s]\n",
      "\n",
      "20it [00:00, 17271.17it/s]\n",
      "\n",
      "160it [00:00, 21021.45it/s]\n",
      "\n",
      "14it [00:00, 14698.44it/s]\n",
      "100%|█████████████████████████████████████████████████| 22/22 [00:00<00:00, 291.35it/s]\n",
      "100%|██████████████████████████████████████████████| 15/15 [00:00<00:00, 291271.11it/s]\n"
     ]
    },
    {
     "name": "stdout",
     "output_type": "stream",
     "text": [
      "Calculating new queries, not_original_clique_queries length: 41\n"
     ]
    },
    {
     "name": "stderr",
     "output_type": "stream",
     "text": [
      "100%|███████████████████████████████████████████████| 41/41 [00:00<00:00, 14277.00it/s]"
     ]
    },
    {
     "name": "stdout",
     "output_type": "stream",
     "text": [
      "669\n"
     ]
    },
    {
     "name": "stderr",
     "output_type": "stream",
     "text": [
      "\n"
     ]
    }
   ],
   "source": [
    "adult_small_full_marginal_set = list(itertools.combinations(adult_small.columns, 2))\n",
    "print(calculate_canonical_queries(adult_small, 1, adult_small_full_marginal_set))"
   ]
  },
  {
   "cell_type": "code",
   "execution_count": null,
   "id": "131f582e",
   "metadata": {},
   "outputs": [],
   "source": []
  }
 ],
 "metadata": {
  "kernelspec": {
   "display_name": "gradu",
   "language": "python",
   "name": "gradu"
  },
  "language_info": {
   "codemirror_mode": {
    "name": "ipython",
    "version": 3
   },
   "file_extension": ".py",
   "mimetype": "text/x-python",
   "name": "python",
   "nbconvert_exporter": "python",
   "pygments_lexer": "ipython3",
   "version": "3.8.10"
  }
 },
 "nbformat": 4,
 "nbformat_minor": 5
}
