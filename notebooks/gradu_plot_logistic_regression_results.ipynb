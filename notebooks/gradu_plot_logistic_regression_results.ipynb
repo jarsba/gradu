{
 "cells": [
  {
   "cell_type": "code",
   "execution_count": 1,
   "id": "d1137e1b",
   "metadata": {},
   "outputs": [],
   "source": [
    "import sys\n",
    "sys.path.append(\"/home/jarlehti/projects/gradu\")"
   ]
  },
  {
   "cell_type": "code",
   "execution_count": 2,
   "id": "b5e28cb0",
   "metadata": {},
   "outputs": [],
   "source": [
    "import os\n",
    "import numpy as np\n",
    "import pandas as pd\n",
    "import matplotlib.pyplot as plt\n",
    "import seaborn as sns\n",
    "from scipy import linalg"
   ]
  },
  {
   "cell_type": "code",
   "execution_count": 3,
   "id": "47598f01",
   "metadata": {},
   "outputs": [],
   "source": [
    "CURRENT_FOLDER = os.path.dirname(os.path.dirname(os.path.abspath(__name__)))\n",
    "BU_FOLDER2 = os.path.join(os.path.dirname(CURRENT_FOLDER), \"cluster_backup\", \"gradu_cluster_backup_16042023\")"
   ]
  },
  {
   "cell_type": "code",
   "execution_count": 4,
   "id": "11358e29",
   "metadata": {},
   "outputs": [],
   "source": [
    "synthetic_lr_results = pd.read_csv(os.path.join(BU_FOLDER2, \"results\", \"synthetic_logistic_regression_results.csv\"))\n",
    "original_lr_results = pd.read_csv(os.path.join(BU_FOLDER2, \"results\", \"original_logistic_regression_results.csv\"))"
   ]
  },
  {
   "cell_type": "code",
   "execution_count": 6,
   "id": "e66319b1",
   "metadata": {},
   "outputs": [
    {
     "data": {
      "text/html": [
       "<div>\n",
       "<style scoped>\n",
       "    .dataframe tbody tr th:only-of-type {\n",
       "        vertical-align: middle;\n",
       "    }\n",
       "\n",
       "    .dataframe tbody tr th {\n",
       "        vertical-align: top;\n",
       "    }\n",
       "\n",
       "    .dataframe thead th {\n",
       "        text-align: right;\n",
       "    }\n",
       "</style>\n",
       "<table border=\"1\" class=\"dataframe\">\n",
       "  <thead>\n",
       "    <tr style=\"text-align: right;\">\n",
       "      <th></th>\n",
       "      <th>dataset_name</th>\n",
       "      <th>accuracy</th>\n",
       "      <th>balanced_accuracy</th>\n",
       "      <th>F1</th>\n",
       "      <th>coefficients</th>\n",
       "      <th>point_estimates</th>\n",
       "      <th>variance_estimates</th>\n",
       "      <th>confidence_intervals</th>\n",
       "    </tr>\n",
       "  </thead>\n",
       "  <tbody>\n",
       "    <tr>\n",
       "      <th>0</th>\n",
       "      <td>adult_small</td>\n",
       "      <td>0.821182</td>\n",
       "      <td>0.716359</td>\n",
       "      <td>0.583707</td>\n",
       "      <td>[ 4.48502549e+11  3.76879246e-01 -1.48522998e+...</td>\n",
       "      <td>[[ 3.77209414e-01  1.00970985e+11  1.00970985e...</td>\n",
       "      <td>[[5.88340172e-05 9.61785480e+22 9.61785480e+22...</td>\n",
       "      <td>{0.95: array([[[ 3.62175836e-01,  3.92242991e-...</td>\n",
       "    </tr>\n",
       "    <tr>\n",
       "      <th>1</th>\n",
       "      <td>adult_large</td>\n",
       "      <td>0.752457</td>\n",
       "      <td>0.766481</td>\n",
       "      <td>0.611828</td>\n",
       "      <td>[ 1.02872251e+25  2.88218794e+14 -9.72198159e+...</td>\n",
       "      <td>[[ 1.41980675e+14  1.74841993e+15  8.04985752e...</td>\n",
       "      <td>[[2.82520442e+10 2.03648993e+12 3.40900504e+12...</td>\n",
       "      <td>{0.95: array([[[ 1.41980675e+14,  1.41980675e+...</td>\n",
       "    </tr>\n",
       "    <tr>\n",
       "      <th>2</th>\n",
       "      <td>binary3d</td>\n",
       "      <td>0.615000</td>\n",
       "      <td>0.559646</td>\n",
       "      <td>0.718633</td>\n",
       "      <td>[ 0.00558321  0.99782767 -0.01421427]</td>\n",
       "      <td>[[ 1.00139286 -0.01020101]]</td>\n",
       "      <td>[[0.00013054 0.00011434]]</td>\n",
       "      <td>{0.95: array([[[ 0.97899979,  1.02378593],\\n  ...</td>\n",
       "    </tr>\n",
       "    <tr>\n",
       "      <th>3</th>\n",
       "      <td>binary4d</td>\n",
       "      <td>0.766860</td>\n",
       "      <td>0.686201</td>\n",
       "      <td>0.846337</td>\n",
       "      <td>[-4.71198403e-03  1.01964169e+00 -1.86547974e-...</td>\n",
       "      <td>[[ 1.01686765 -0.00484748  1.99702816]]</td>\n",
       "      <td>[[0.00021106 0.00018498 0.00030802]]</td>\n",
       "      <td>{0.95: array([[[ 0.98839372,  1.04534158],\\n  ...</td>\n",
       "    </tr>\n",
       "  </tbody>\n",
       "</table>\n",
       "</div>"
      ],
      "text/plain": [
       "  dataset_name  accuracy  balanced_accuracy        F1  \\\n",
       "0  adult_small  0.821182           0.716359  0.583707   \n",
       "1  adult_large  0.752457           0.766481  0.611828   \n",
       "2     binary3d  0.615000           0.559646  0.718633   \n",
       "3     binary4d  0.766860           0.686201  0.846337   \n",
       "\n",
       "                                        coefficients  \\\n",
       "0  [ 4.48502549e+11  3.76879246e-01 -1.48522998e+...   \n",
       "1  [ 1.02872251e+25  2.88218794e+14 -9.72198159e+...   \n",
       "2              [ 0.00558321  0.99782767 -0.01421427]   \n",
       "3  [-4.71198403e-03  1.01964169e+00 -1.86547974e-...   \n",
       "\n",
       "                                     point_estimates  \\\n",
       "0  [[ 3.77209414e-01  1.00970985e+11  1.00970985e...   \n",
       "1  [[ 1.41980675e+14  1.74841993e+15  8.04985752e...   \n",
       "2                        [[ 1.00139286 -0.01020101]]   \n",
       "3            [[ 1.01686765 -0.00484748  1.99702816]]   \n",
       "\n",
       "                                  variance_estimates  \\\n",
       "0  [[5.88340172e-05 9.61785480e+22 9.61785480e+22...   \n",
       "1  [[2.82520442e+10 2.03648993e+12 3.40900504e+12...   \n",
       "2                          [[0.00013054 0.00011434]]   \n",
       "3               [[0.00021106 0.00018498 0.00030802]]   \n",
       "\n",
       "                                confidence_intervals  \n",
       "0  {0.95: array([[[ 3.62175836e-01,  3.92242991e-...  \n",
       "1  {0.95: array([[[ 1.41980675e+14,  1.41980675e+...  \n",
       "2  {0.95: array([[[ 0.97899979,  1.02378593],\\n  ...  \n",
       "3  {0.95: array([[[ 0.98839372,  1.04534158],\\n  ...  "
      ]
     },
     "execution_count": 6,
     "metadata": {},
     "output_type": "execute_result"
    }
   ],
   "source": [
    "original_lr_results"
   ]
  },
  {
   "cell_type": "code",
   "execution_count": null,
   "id": "be189ace",
   "metadata": {},
   "outputs": [],
   "source": []
  }
 ],
 "metadata": {
  "kernelspec": {
   "display_name": "gradu",
   "language": "python",
   "name": "gradu"
  },
  "language_info": {
   "codemirror_mode": {
    "name": "ipython",
    "version": 3
   },
   "file_extension": ".py",
   "mimetype": "text/x-python",
   "name": "python",
   "nbconvert_exporter": "python",
   "pygments_lexer": "ipython3",
   "version": "3.8.10"
  }
 },
 "nbformat": 4,
 "nbformat_minor": 5
}
