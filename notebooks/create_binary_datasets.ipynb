{
 "cells": [
  {
   "cell_type": "code",
   "execution_count": 56,
   "id": "2990b033",
   "metadata": {},
   "outputs": [],
   "source": [
    "import sys\n",
    "sys.path.append(\"/home/jarlehti/projects/gradu\")"
   ]
  },
  {
   "cell_type": "code",
   "execution_count": 57,
   "id": "90a4460e",
   "metadata": {},
   "outputs": [],
   "source": [
    "import os\n",
    "import jax\n",
    "import numpy as np\n",
    "import jax.numpy as jnp\n",
    "import pandas as pd\n",
    "from src.napsu_mq.binary_logistic_regression_generator import BinaryLogisticRegressionDataGenerator, TRUE_PARAMS_MAP"
   ]
  },
  {
   "cell_type": "code",
   "execution_count": 58,
   "id": "7c1c8873",
   "metadata": {},
   "outputs": [],
   "source": [
    "CURRENT_FOLDER = os.path.dirname(os.path.dirname(os.path.abspath(__name__)))\n",
    "DATASETS_FOLDER = os.path.join(CURRENT_FOLDER, \"data\", \"datasets\")"
   ]
  },
  {
   "cell_type": "code",
   "execution_count": 59,
   "id": "5d9074fc",
   "metadata": {},
   "outputs": [],
   "source": [
    "rng_key = jax.random.PRNGKey(1512342434587285)"
   ]
  },
  {
   "cell_type": "code",
   "execution_count": 60,
   "id": "69dd52af",
   "metadata": {},
   "outputs": [],
   "source": [
    "data_generator3d = BinaryLogisticRegressionDataGenerator(np.array(TRUE_PARAMS_MAP[\"3d\"]))\n",
    "data: np.ndarray = jnp.asarray(data_generator3d.generate_data(150000, rng_key=rng_key))\n",
    "\n",
    "train_data, test_data = data[0:100000], data[100000:]\n",
    "\n",
    "train_dataframe = pd.DataFrame(train_data, columns=['A', 'B', 'C'])\n",
    "train_dataframe.to_csv(os.path.join(DATASETS_FOLDER, \"binary3d.csv\"), index=False)\n",
    "\n",
    "test_dataframe = pd.DataFrame(test_data, columns=['A', 'B', 'C',])\n",
    "test_dataframe.to_csv(os.path.join(DATASETS_FOLDER, \"binary3d_test.csv\"), index=False)"
   ]
  },
  {
   "cell_type": "code",
   "execution_count": 61,
   "id": "573ad524",
   "metadata": {},
   "outputs": [],
   "source": [
    "data_generator4d = BinaryLogisticRegressionDataGenerator(np.array(TRUE_PARAMS_MAP[\"4d\"]))\n",
    "data: np.ndarray = jnp.asarray(data_generator4d.generate_data(150000, rng_key=rng_key))\n",
    "\n",
    "train_data, test_data = data[0:100000], data[100000:]\n",
    "\n",
    "train_dataframe = pd.DataFrame(train_data, columns=['A', 'B', 'C', 'D'])\n",
    "train_dataframe.to_csv(os.path.join(DATASETS_FOLDER, \"binary4d.csv\"), index=False)\n",
    "\n",
    "test_dataframe = pd.DataFrame(test_data, columns=['A', 'B', 'C', 'D'])\n",
    "test_dataframe.to_csv(os.path.join(DATASETS_FOLDER, \"binary4d_test.csv\"), index=False)"
   ]
  },
  {
   "cell_type": "code",
   "execution_count": null,
   "id": "d2c50b57",
   "metadata": {},
   "outputs": [],
   "source": []
  },
  {
   "cell_type": "code",
   "execution_count": null,
   "id": "3c84413e",
   "metadata": {},
   "outputs": [],
   "source": []
  }
 ],
 "metadata": {
  "kernelspec": {
   "display_name": "gradu",
   "language": "python",
   "name": "gradu"
  },
  "language_info": {
   "codemirror_mode": {
    "name": "ipython",
    "version": 3
   },
   "file_extension": ".py",
   "mimetype": "text/x-python",
   "name": "python",
   "nbconvert_exporter": "python",
   "pygments_lexer": "ipython3",
   "version": "3.8.10"
  }
 },
 "nbformat": 4,
 "nbformat_minor": 5
}
