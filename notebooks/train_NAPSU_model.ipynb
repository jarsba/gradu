{
 "cells": [
  {
   "cell_type": "code",
   "execution_count": 1,
   "id": "6ab5dc74",
   "metadata": {},
   "outputs": [],
   "source": [
    "import sys\n",
    "sys.path.append(\"/home/jarlehti/projects/gradu\")"
   ]
  },
  {
   "cell_type": "code",
   "execution_count": 2,
   "id": "a96926bb",
   "metadata": {},
   "outputs": [],
   "source": [
    "import os\n",
    "import jax\n",
    "import jax.numpy as jnp\n",
    "import numpy as np\n",
    "import pandas as pd\n",
    "import d3p\n",
    "from src.napsu_mq.napsu_mq import NapsuMQModel, NapsuMQResult"
   ]
  },
  {
   "cell_type": "code",
   "execution_count": 3,
   "id": "7dd9a4ea",
   "metadata": {},
   "outputs": [],
   "source": [
    "CURRENT_FOLDER = os.path.dirname(os.path.dirname(os.path.abspath(__name__)))\n",
    "DATASETS_FOLDER = os.path.join(CURRENT_FOLDER, \"data\", \"datasets\")\n",
    "MODELS = os.path.join(CURRENT_FOLDER, \"models\")"
   ]
  },
  {
   "cell_type": "code",
   "execution_count": 4,
   "id": "e2acc6db",
   "metadata": {},
   "outputs": [],
   "source": [
    "rng = jax.random.PRNGKey(452345235)"
   ]
  },
  {
   "cell_type": "code",
   "execution_count": 5,
   "id": "3b7d8e8f",
   "metadata": {},
   "outputs": [
    {
     "name": "stdout",
     "output_type": "stream",
     "text": [
      "100000\n",
      "4\n"
     ]
    }
   ],
   "source": [
    "dataset = pd.read_csv(os.path.join(DATASETS_FOLDER, \"binary4d.csv\"))\n",
    "n, d = dataset.shape\n",
    "print(n)\n",
    "print(d)"
   ]
  },
  {
   "cell_type": "code",
   "execution_count": 6,
   "id": "d1ea781f",
   "metadata": {
    "scrolled": true
   },
   "outputs": [
    {
     "name": "stdout",
     "output_type": "stream",
     "text": [
      "No experiment_id found: <ContextVar name='experiment_id' at 0x7f01a0395e50>\n",
      "Setting experiment_id to 13F45B7N\n",
      "(100000, 4)\n",
      "Dataframe data n: 100000\n",
      "Dataframe data d: 4\n",
      "Domain size: 16\n",
      "100000\n",
      "4\n",
      "Recording:  Query selection\n",
      "start MST selection\n"
     ]
    },
    {
     "name": "stderr",
     "output_type": "stream",
     "text": [
      "/home/jarlehti/projects/gradu/src/napsu_mq/mst.py:130: RuntimeWarning: divide by zero encountered in double_scalars\n",
      "  epsilon = np.sqrt(8 * rho / (r - 1))\n"
     ]
    },
    {
     "name": "stdout",
     "output_type": "stream",
     "text": [
      "end MST selection\n",
      "Recording:  Calculating full marginal query\n",
      "Recording:  Calculating canonical query set\n",
      "Calculating canonical queries\n"
     ]
    },
    {
     "name": "stderr",
     "output_type": "stream",
     "text": [
      "  0%|                                                                                                                                                                  | 0/8 [00:00<?, ?it/s]\n",
      "4it [00:00, 6729.73it/s]\n",
      "\n",
      "2it [00:00, 8136.38it/s]\n",
      "\n",
      "4it [00:00, 14488.10it/s]\n",
      "\n",
      "4it [00:00, 17772.47it/s]\n",
      "\n",
      "2it [00:00, 4637.15it/s]\n",
      "\n",
      "2it [00:00, 5555.37it/s]\n",
      "\n",
      "2it [00:00, 5687.19it/s]\n",
      "100%|█████████████████████████████████████████████████████████████████████████████████████████████████████████████████████████████████████████████████████████| 8/8 [00:00<00:00, 539.94it/s]\n",
      "100%|███████████████████████████████████████████████████████████████████████████████████████████████████████████████████████████████████████████████████████| 3/3 [00:00<00:00, 61984.79it/s]\n"
     ]
    },
    {
     "name": "stdout",
     "output_type": "stream",
     "text": [
      "Calculating new queries\n"
     ]
    },
    {
     "name": "stderr",
     "output_type": "stream",
     "text": [
      "100%|████████████████████████████████████████████████████████████████████████████████████████████████████████████████████████████████████████████████████████| 4/4 [00:00<00:00, 9765.55it/s]\n"
     ]
    },
    {
     "name": "stdout",
     "output_type": "stream",
     "text": [
      "Canonical queries: 7\n",
      "Domain d: 4\n",
      "Nodes after elimination: {('A', 'D'), ('B', 'D'), ('D', 'C'), ('D',)}\n",
      "Edges after elimination: {(('A', 'D'), ('D',)): {'D'}, (('B', 'D'), ('D',)): {'D'}, (('D', 'C'), ('D',)): {'D'}}\n",
      "Nodes after removing: {('A', 'D'), ('B', 'D'), ('D', 'C')}\n",
      "Edges after removing: {(('A', 'D'), ('B', 'D')): {'D'}, (('A', 'D'), ('D', 'C')): {'D'}}\n",
      "Suff stat d: 7\n",
      "Lambda d: 7\n",
      "start lambda0\n",
      "end lambda0\n",
      "start suff stat mean and cov\n",
      "end suff stat mean and cov\n",
      "[TreeNode(variables=('B', 'D'), parent=('A', 'D'), children=[]), TreeNode(variables=('D', 'C'), parent=('A', 'D'), children=[])]\n",
      "1\n",
      "Junction tree width: 2\n",
      "(7,)\n",
      "0.44162884978050604\n",
      "Recording:  Laplace approximation\n",
      "Started Jaxopt Laplace approximation\n",
      "Attempting Laplace approximation, 0th try\n",
      "Initialising model done\n",
      "Minimising potential function\n",
      "{'lambdas': DeviceArray([-0.01410392, -0.01932848,  0.28121972, -0.68804395,\n",
      "              0.07540693,  0.39751783, -1.5307403 ], dtype=float32)}\n",
      "LbfgsState(iter_num=DeviceArray(1000, dtype=int32, weak_type=True), value=DeviceArray(61.343822, dtype=float32), grad={'lambdas': DeviceArray([-0.00213201,  0.00027413,  0.00331115, -0.00081114,\n",
      "              0.00181509,  0.00087139, -0.00069118], dtype=float32)}, stepsize=DeviceArray(1., dtype=float32), error=DeviceArray(0.00455784, dtype=float32), s_history={'lambdas': DeviceArray([[-4.3865293e-07, -1.2107193e-07, -5.3644180e-07,\n",
      "              -4.7683716e-07, -4.9173832e-07, -2.0861626e-07,\n",
      "               0.0000000e+00],\n",
      "             [ 4.1909516e-08, -4.8428774e-08, -2.9802322e-08,\n",
      "               0.0000000e+00, -9.6857548e-08, -2.9802322e-08,\n",
      "               0.0000000e+00],\n",
      "             [-4.8428774e-08, -8.3819032e-08,  1.4901161e-07,\n",
      "               1.1920929e-07,  1.4901161e-08, -2.9802322e-08,\n",
      "               1.1920929e-07],\n",
      "             [ 2.3525208e-06,  3.6098063e-06, -5.1558018e-06,\n",
      "              -4.0531158e-06,  2.9802322e-07,  1.4901161e-06,\n",
      "              -4.6491623e-06],\n",
      "             [-2.1290034e-06, -3.5073608e-06,  5.0365925e-06,\n",
      "               3.9339066e-06, -4.1723251e-07, -1.4007092e-06,\n",
      "               4.4107437e-06],\n",
      "             [-2.2910535e-07, -1.0617077e-07, -1.1920929e-07,\n",
      "               5.9604645e-08,  1.5646219e-07, -2.9802322e-08,\n",
      "               1.1920929e-07],\n",
      "             [ 9.3132257e-08,  3.7252903e-08,  5.9604645e-08,\n",
      "              -5.9604645e-08, -8.9406967e-08,  0.0000000e+00,\n",
      "              -1.1920929e-07],\n",
      "             [ 4.0978193e-07,  3.6694109e-07,  0.0000000e+00,\n",
      "              -4.1723251e-07, -2.9802322e-07,  8.9406967e-08,\n",
      "              -5.9604645e-07],\n",
      "             [-3.1106174e-07, -3.4086406e-07, -2.9802322e-08,\n",
      "               3.5762787e-07,  2.7567148e-07, -8.9406967e-08,\n",
      "               4.7683716e-07],\n",
      "             [-3.5390258e-08, -2.4214387e-08,  0.0000000e+00,\n",
      "               1.1920929e-07,  7.4505806e-09,  2.9802322e-08,\n",
      "               1.1920929e-07]], dtype=float32)}, y_history={'lambdas': DeviceArray([[-1.19210528e-02,  4.47004894e-03, -5.96029125e-03,\n",
      "              -1.83936208e-07, -2.97990907e-03, -5.96076483e-03,\n",
      "               1.49005651e-03],\n",
      "             [-2.98017194e-03,  2.37952918e-07,  2.97832466e-03,\n",
      "               0.00000000e+00, -2.02748924e-06,  0.00000000e+00,\n",
      "               5.96046448e-08],\n",
      "             [-2.97999429e-03, -1.49029586e-03, -5.95879415e-03,\n",
      "               6.10016286e-08, -1.19192898e-02, -8.94034002e-03,\n",
      "               3.72588634e-04],\n",
      "             [ 4.47023734e-02,  2.45867725e-02, -1.01321332e-01,\n",
      "              -1.78823266e-02,  1.04305714e-01,  2.68219262e-02,\n",
      "              -1.45296324e-02],\n",
      "             [-3.27811465e-02, -2.30964180e-02,  1.10262685e-01,\n",
      "               1.78823248e-02, -9.53641608e-02, -1.78809296e-02,\n",
      "               1.37844831e-02],\n",
      "             [-1.19214673e-02,  7.44878198e-04, -1.49017582e-02,\n",
      "               1.49011705e-03, -5.96108846e-03, -5.96106099e-03,\n",
      "               1.49029680e-03],\n",
      "             [ 2.98064994e-03, -1.48999656e-03,  1.49009824e-02,\n",
      "              -1.49017666e-03,  8.94045737e-03,  5.96064329e-03,\n",
      "              -1.49017759e-03],\n",
      "             [ 1.19200386e-02,  2.23505870e-03,  2.97856331e-03,\n",
      "              -2.98041478e-03, -8.94111674e-03,  2.97969673e-03,\n",
      "              -2.23532878e-03],\n",
      "             [-5.95987123e-03, -2.98023573e-03, -5.96004725e-03,\n",
      "               2.23541632e-03,  8.94019287e-03, -2.97957752e-03,\n",
      "               2.23523844e-03],\n",
      "             [-2.98041152e-03,  7.44879013e-04,  2.38418579e-07,\n",
      "               7.44880177e-04,  5.96046448e-07, -2.97557563e-07,\n",
      "              -1.48080289e-07]], dtype=float32)}, rho_history=DeviceArray([ 9.4390448e+07, -4.6844175e+09, -2.0599788e+09,\n",
      "              1.0782920e+06,  1.1084888e+06,  2.5380331e+08,\n",
      "              1.7319581e+09,  8.9192512e+07,  1.3082825e+08,\n",
      "              5.6748759e+09], dtype=float32), gamma=DeviceArray(1.763468e-05, dtype=float32), aux=None, failed_linesearch=DeviceArray(False, dtype=bool))\n",
      "False\n",
      "<class 'jaxlib.xla_extension.DeviceArray'>\n",
      "Calculating Hessian\n",
      "Recording:  MCMC\n"
     ]
    },
    {
     "name": "stderr",
     "output_type": "stream",
     "text": [
      "/home/jarlehti/projects/gradu/src/napsu_mq/maximum_entropy_inference.py:149: UserWarning: There are not enough devices to run parallel chains: expected 4 but got 1. Chains will be drawn sequentially. If you are running MCMC in CPU, consider using `numpyro.set_host_device_count(4)` at the beginning of your program. You can double-check how many devices are available in your system using `jax.local_device_count()`.\n",
      "  mcmc = numpyro.infer.MCMC(\n"
     ]
    },
    {
     "name": "stdout",
     "output_type": "stream",
     "text": [
      "\n",
      "                     mean       std    median      5.0%     95.0%     n_eff     r_hat\n",
      "norm_lambdas[0]     -0.00      0.99     -0.01     -1.58      1.63  12069.24      1.00\n",
      "norm_lambdas[1]     -0.03      1.02     -0.02     -1.77      1.59  12782.77      1.00\n",
      "norm_lambdas[2]     -0.00      1.00     -0.01     -1.57      1.70  11899.02      1.00\n",
      "norm_lambdas[3]     -0.01      0.99     -0.02     -1.70      1.57  11671.73      1.00\n",
      "norm_lambdas[4]     -0.01      1.00     -0.00     -1.59      1.69  11751.86      1.00\n",
      "norm_lambdas[5]      0.00      0.98      0.01     -1.63      1.56  12084.04      1.00\n",
      "norm_lambdas[6]      0.02      0.99      0.01     -1.68      1.59  13881.00      1.00\n",
      "\n",
      "Number of divergences: 0\n",
      "[norm_lambdas]\t max r_hat: 0.9983\n",
      "Potential energy\tmin: [93.84338379  0.          0.          0.        ]\tmax: [106.05001068   0.           0.           0.        ]\tmean: [97.17044067  0.          0.          0.        ]\tstd: [1.82203531 0.         0.         0.        ]\n",
      "Acceptance probability\tmin: [0.41572794 0.         0.         0.        ]\tmax: [1. 0. 0. 0.]\tmean: [0.89883083 0.         0.         0.        ]\tstd: [0.10503606 0.         0.         0.        ]\n",
      "Mean acceptance probability\tmin: [0.89656717 0.         0.         0.        ]\tmax: [0.94249964 0.         0.         0.        ]\tmean: [0.90407097 0.         0.         0.        ]\tstd: [0.00569027 0.         0.         0.        ]\n",
      "Diverging\tmin: [0. 0. 0. 0.]\tmax: [0. 0. 0. 0.]\tmean: [0. 0. 0. 0.]\tstd: [0. 0. 0. 0.]\n"
     ]
    }
   ],
   "source": [
    "column_feature_set = [\n",
    "    ('A', 'D'), \n",
    "    ('B', 'D'), \n",
    "    ('C', 'D'), \n",
    "]\n",
    "\n",
    "model = NapsuMQModel()\n",
    "result = model.fit(\n",
    "    data=dataset,\n",
    "    dataset_name=\"binary4d\",\n",
    "    rng=rng,\n",
    "    epsilon=50,\n",
    "    delta=(n ** (-2)),\n",
    "    column_feature_set=column_feature_set,\n",
    "    use_laplace_approximation=True,\n",
    "    laplace_approximation_algorithm=\"jaxopt_LBFGS\",\n",
    "\n",
    ")"
   ]
  },
  {
   "cell_type": "code",
   "execution_count": 7,
   "id": "84fffe46",
   "metadata": {},
   "outputs": [],
   "source": [
    "result_path = os.path.join(MODELS, \"napsu_testing_binary4d_all_queries_500e_NUTS_LA.dill\")\n",
    "result.store(result_path)"
   ]
  },
  {
   "cell_type": "code",
   "execution_count": 8,
   "id": "ccd8ad51",
   "metadata": {},
   "outputs": [
    {
     "name": "stdout",
     "output_type": "stream",
     "text": [
      "Generating data with 2000 points and 5 datasets\n"
     ]
    }
   ],
   "source": [
    "napsu_result_read_file = open(os.path.join(MODELS, \"napsu_testing_binary4d_all_queries_500e_NUTS_LA.dill\"), \"rb\")\n",
    "loaded_result = NapsuMQResult.load(napsu_result_read_file)\n",
    "sampling_rng = jax.random.PRNGKey(234513465234)\n",
    "datasets = loaded_result.generate_extended(rng=sampling_rng, num_data_per_parameter_sample=2000, num_parameter_samples=5)"
   ]
  },
  {
   "cell_type": "code",
   "execution_count": 9,
   "id": "8a571b4e",
   "metadata": {},
   "outputs": [
    {
     "data": {
      "text/plain": [
       "[      A  B  C  D\n",
       " 0     0  0  1  1\n",
       " 1     1  0  1  1\n",
       " 2     0  1  0  1\n",
       " 3     1  1  1  1\n",
       " 4     1  0  1  1\n",
       " ...  .. .. .. ..\n",
       " 1995  0  0  1  1\n",
       " 1996  1  1  1  1\n",
       " 1997  0  0  0  0\n",
       " 1998  1  1  1  1\n",
       " 1999  0  1  0  1\n",
       " \n",
       " [2000 rows x 4 columns],\n",
       "       A  B  C  D\n",
       " 0     0  1  1  1\n",
       " 1     1  0  1  1\n",
       " 2     0  0  0  0\n",
       " 3     0  0  1  1\n",
       " 4     1  0  0  0\n",
       " ...  .. .. .. ..\n",
       " 1995  1  0  0  1\n",
       " 1996  0  1  1  1\n",
       " 1997  1  0  0  1\n",
       " 1998  0  1  0  0\n",
       " 1999  1  1  1  1\n",
       " \n",
       " [2000 rows x 4 columns],\n",
       "       A  B  C  D\n",
       " 0     1  1  1  1\n",
       " 1     0  0  1  1\n",
       " 2     1  0  1  1\n",
       " 3     0  1  1  1\n",
       " 4     0  1  1  1\n",
       " ...  .. .. .. ..\n",
       " 1995  0  0  1  1\n",
       " 1996  1  1  1  1\n",
       " 1997  1  1  1  1\n",
       " 1998  1  0  0  1\n",
       " 1999  0  1  1  1\n",
       " \n",
       " [2000 rows x 4 columns],\n",
       "       A  B  C  D\n",
       " 0     0  1  1  0\n",
       " 1     0  1  1  1\n",
       " 2     0  1  0  1\n",
       " 3     0  1  0  1\n",
       " 4     1  0  1  1\n",
       " ...  .. .. .. ..\n",
       " 1995  1  0  1  1\n",
       " 1996  0  0  0  0\n",
       " 1997  1  1  1  1\n",
       " 1998  1  0  0  1\n",
       " 1999  0  0  1  1\n",
       " \n",
       " [2000 rows x 4 columns],\n",
       "       A  B  C  D\n",
       " 0     0  0  1  1\n",
       " 1     0  0  1  0\n",
       " 2     1  1  1  1\n",
       " 3     0  0  1  1\n",
       " 4     0  0  1  0\n",
       " ...  .. .. .. ..\n",
       " 1995  0  1  0  0\n",
       " 1996  1  0  1  1\n",
       " 1997  1  1  0  1\n",
       " 1998  1  1  0  1\n",
       " 1999  0  1  0  1\n",
       " \n",
       " [2000 rows x 4 columns]]"
      ]
     },
     "execution_count": 9,
     "metadata": {},
     "output_type": "execute_result"
    }
   ],
   "source": [
    "datasets"
   ]
  },
  {
   "cell_type": "code",
   "execution_count": null,
   "id": "0a24696e",
   "metadata": {},
   "outputs": [],
   "source": []
  }
 ],
 "metadata": {
  "kernelspec": {
   "display_name": "gradu",
   "language": "python",
   "name": "gradu"
  },
  "language_info": {
   "codemirror_mode": {
    "name": "ipython",
    "version": 3
   },
   "file_extension": ".py",
   "mimetype": "text/x-python",
   "name": "python",
   "nbconvert_exporter": "python",
   "pygments_lexer": "ipython3",
   "version": "3.8.10"
  }
 },
 "nbformat": 4,
 "nbformat_minor": 5
}
