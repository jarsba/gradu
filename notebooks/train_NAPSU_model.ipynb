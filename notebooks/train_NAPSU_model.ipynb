{
 "cells": [
  {
   "cell_type": "code",
   "execution_count": 2,
   "id": "6ab5dc74",
   "metadata": {},
   "outputs": [],
   "source": [
    "import sys\n",
    "sys.path.append(\"/home/jarlehti/projects/gradu\")"
   ]
  },
  {
   "cell_type": "code",
   "execution_count": 3,
   "id": "a96926bb",
   "metadata": {},
   "outputs": [],
   "source": [
    "import os\n",
    "import jax\n",
    "import jax.numpy as jnp\n",
    "import numpy as np\n",
    "import pandas as pd\n",
    "import d3p\n",
    "from src.napsu_mq.napsu_mq import NapsuMQModel"
   ]
  },
  {
   "cell_type": "code",
   "execution_count": 4,
   "id": "7dd9a4ea",
   "metadata": {},
   "outputs": [],
   "source": [
    "CURRENT_FOLDER = os.path.dirname(os.path.dirname(os.path.abspath(__name__)))\n",
    "DATASETS_FOLDER = os.path.join(CURRENT_FOLDER, \"data\", \"datasets\")\n",
    "MODELS = os.path.join(CURRENT_FOLDER, \"models\")"
   ]
  },
  {
   "cell_type": "code",
   "execution_count": 5,
   "id": "e2acc6db",
   "metadata": {},
   "outputs": [],
   "source": [
    "rng = jax.random.PRNGKey(12903863272)"
   ]
  },
  {
   "cell_type": "code",
   "execution_count": 6,
   "id": "3b7d8e8f",
   "metadata": {},
   "outputs": [
    {
     "name": "stdout",
     "output_type": "stream",
     "text": [
      "100000\n",
      "4\n"
     ]
    }
   ],
   "source": [
    "dataset = pd.read_csv(os.path.join(DATASETS_FOLDER, \"binary4d.csv\"))\n",
    "n, d = dataset.shape\n",
    "print(n)\n",
    "print(d)"
   ]
  },
  {
   "cell_type": "code",
   "execution_count": 7,
   "id": "d1ea781f",
   "metadata": {},
   "outputs": [
    {
     "name": "stdout",
     "output_type": "stream",
     "text": [
      "No experiment_id found: <ContextVar name='experiment_id' at 0x7f1e2e549450>\n",
      "Setting experiment_id to NCWZWXE0\n",
      "Recording:  Query selection\n"
     ]
    },
    {
     "name": "stderr",
     "output_type": "stream",
     "text": [
      "/home/jarlehti/projects/gradu/src/napsu_mq/mst.py:120: RuntimeWarning: divide by zero encountered in double_scalars\n",
      "  epsilon = np.sqrt(8 * rho / (r - 1))\n"
     ]
    },
    {
     "name": "stdout",
     "output_type": "stream",
     "text": [
      "Len weights: 6\n",
      "Weights: {('A', 'B'): 188.17864210799598, ('A', 'C'): 46.150756576451386, ('A', 'D'): 15549.525653755876, ('B', 'C'): 309.1797743744319, ('B', 'D'): 57.80264887254998, ('C', 'D'): 30081.92132081942}\n",
      "Sorted weights: [(('A', 'C'), 46.150756576451386), (('B', 'D'), 57.80264887254998), (('A', 'B'), 188.17864210799598), (('B', 'C'), 309.1797743744319), (('A', 'D'), 15549.525653755876), (('C', 'D'), 30081.92132081942)]\n",
      "Cliques: [('A', 'D'), ('B', 'D'), ('C', 'D')]\n",
      "T edges: [('A', 'D'), ('B', 'D'), ('C', 'D')]\n",
      "Recording:  Calculating full marginal query\n",
      "Recording:  Calculating canonical query set\n"
     ]
    },
    {
     "name": "stderr",
     "output_type": "stream",
     "text": [
      "  0%|                                                                                                                  | 0/8 [00:00<?, ?it/s]\n",
      "4it [00:00, 7019.76it/s]\n",
      "\n",
      "2it [00:00, 15363.75it/s]\n",
      "\n",
      "4it [00:00, 19152.07it/s]\n",
      "\n",
      "4it [00:00, 11966.63it/s]\n",
      "\n",
      "2it [00:00, 15279.80it/s]\n",
      "\n",
      "2it [00:00, 8858.09it/s]\n",
      "\n",
      "2it [00:00, 18157.16it/s]\n",
      "100%|█████████████████████████████████████████████████████████████████████████████████████████████████████████| 8/8 [00:00<00:00, 512.65it/s]\n",
      "100%|███████████████████████████████████████████████████████████████████████████████████████████████████████| 3/3 [00:00<00:00, 63230.71it/s]\n",
      "100%|███████████████████████████████████████████████████████████████████████████████████████████████████████| 4/4 [00:00<00:00, 25614.07it/s]"
     ]
    },
    {
     "name": "stdout",
     "output_type": "stream",
     "text": [
      "Canonical queries: 7\n"
     ]
    },
    {
     "name": "stderr",
     "output_type": "stream",
     "text": [
      "\n"
     ]
    },
    {
     "name": "stdout",
     "output_type": "stream",
     "text": [
      "Recording:  MCMC\n",
      "\n",
      "                mean       std    median      5.0%     95.0%     n_eff     r_hat\n",
      "lambdas[0]     -0.01      0.01     -0.01     -0.02      0.01   7962.30      1.00\n",
      "lambdas[1]     -0.01      0.01     -0.01     -0.03      0.01   5946.80      1.00\n",
      "lambdas[2]      0.28      0.01      0.28      0.26      0.30   3211.01      1.00\n",
      "lambdas[3]     -0.69      0.01     -0.69     -0.71     -0.67   6223.47      1.00\n",
      "lambdas[4]      0.08      0.01      0.08      0.06      0.10   3393.74      1.00\n",
      "lambdas[5]      0.39      0.01      0.39      0.38      0.40   7703.61      1.00\n",
      "lambdas[6]     -1.53      0.02     -1.53     -1.56     -1.51   7691.18      1.00\n",
      "\n",
      "Number of divergences: 0\n",
      "[lambdas]\t max r_hat: 0.8699\n",
      "Potential energy\tmin: [61.67584229  0.          0.          0.        ]\tmax: [75.05485535  0.          0.          0.        ]\tmean: [64.849823  0.        0.        0.      ]\tstd: [1.89533806 0.         0.         0.        ]\n",
      "Acceptance probability\tmin: [0.12866236 0.         0.         0.        ]\tmax: [1. 0. 0. 0.]\tmean: [0.8789596 0.        0.        0.       ]\tstd: [0.13489497 0.         0.         0.        ]\n",
      "Mean acceptance probability\tmin: [0.87798268 0.         0.         0.        ]\tmax: [0.97000533 0.         0.         0.        ]\tmean: [0.88301122 0.         0.         0.        ]\tstd: [0.00728882 0.         0.         0.        ]\n",
      "Diverging\tmin: [0. 0. 0. 0.]\tmax: [0. 0. 0. 0.]\tmean: [0. 0. 0. 0.]\tstd: [0. 0. 0. 0.]\n"
     ]
    }
   ],
   "source": [
    "column_feature_set = [\n",
    "    ('A', 'D'), \n",
    "    ('B', 'D'), \n",
    "    ('C', 'D'), \n",
    "]\n",
    "\n",
    "model = NapsuMQModel()\n",
    "result = model.fit(\n",
    "    data=dataset,\n",
    "    dataset_name=\"binary4d\",\n",
    "    rng=rng,\n",
    "    epsilon=50,\n",
    "    delta=(n ** (-2)),\n",
    "    column_feature_set=column_feature_set,\n",
    "    use_laplace_approximation=False\n",
    ")"
   ]
  },
  {
   "cell_type": "code",
   "execution_count": 8,
   "id": "84fffe46",
   "metadata": {},
   "outputs": [],
   "source": [
    "result_path = os.path.join(MODELS, \"napsu_testing_binary4d_all_queries_500e_NUTS.dill\")\n",
    "result.store(result_path)"
   ]
  },
  {
   "cell_type": "code",
   "execution_count": null,
   "id": "ccd8ad51",
   "metadata": {},
   "outputs": [],
   "source": []
  }
 ],
 "metadata": {
  "kernelspec": {
   "display_name": "gradu",
   "language": "python",
   "name": "gradu"
  },
  "language_info": {
   "codemirror_mode": {
    "name": "ipython",
    "version": 3
   },
   "file_extension": ".py",
   "mimetype": "text/x-python",
   "name": "python",
   "nbconvert_exporter": "python",
   "pygments_lexer": "ipython3",
   "version": "3.8.10"
  }
 },
 "nbformat": 4,
 "nbformat_minor": 5
}
