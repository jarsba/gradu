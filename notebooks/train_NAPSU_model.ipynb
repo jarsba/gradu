{
 "cells": [
  {
   "cell_type": "code",
   "execution_count": 2,
   "id": "6ab5dc74",
   "metadata": {},
   "outputs": [],
   "source": [
    "import sys\n",
    "sys.path.append(\"/home/jarlehti/projects/gradu\")"
   ]
  },
  {
   "cell_type": "code",
   "execution_count": 3,
   "id": "a96926bb",
   "metadata": {},
   "outputs": [],
   "source": [
    "import os\n",
    "import jax\n",
    "import jax.numpy as jnp\n",
    "import numpy as np\n",
    "import pandas as pd\n",
    "import d3p\n",
    "from src.napsu_mq.napsu_mq import NapsuMQModel, NapsuMQResult"
   ]
  },
  {
   "cell_type": "code",
   "execution_count": 4,
   "id": "7dd9a4ea",
   "metadata": {},
   "outputs": [],
   "source": [
    "CURRENT_FOLDER = os.path.dirname(os.path.dirname(os.path.abspath(__name__)))\n",
    "DATASETS_FOLDER = os.path.join(CURRENT_FOLDER, \"data\", \"datasets\")\n",
    "MODELS = os.path.join(CURRENT_FOLDER, \"models\")"
   ]
  },
  {
   "cell_type": "code",
   "execution_count": 5,
   "id": "e2acc6db",
   "metadata": {},
   "outputs": [],
   "source": [
    "rng = jax.random.PRNGKey(12903863272)"
   ]
  },
  {
   "cell_type": "code",
   "execution_count": 6,
   "id": "3b7d8e8f",
   "metadata": {},
   "outputs": [
    {
     "name": "stdout",
     "output_type": "stream",
     "text": [
      "100000\n",
      "4\n"
     ]
    }
   ],
   "source": [
    "dataset = pd.read_csv(os.path.join(DATASETS_FOLDER, \"binary4d.csv\"))\n",
    "n, d = dataset.shape\n",
    "print(n)\n",
    "print(d)"
   ]
  },
  {
   "cell_type": "code",
   "execution_count": 7,
   "id": "d1ea781f",
   "metadata": {
    "scrolled": true
   },
   "outputs": [
    {
     "name": "stdout",
     "output_type": "stream",
     "text": [
      "No experiment_id found: <ContextVar name='experiment_id' at 0x7f5248e62d60>\n",
      "Setting experiment_id to E2QYJY18\n",
      "Recording:  Query selection\n"
     ]
    },
    {
     "name": "stderr",
     "output_type": "stream",
     "text": [
      "/home/jarlehti/projects/gradu/src/napsu_mq/mst.py:130: RuntimeWarning: divide by zero encountered in double_scalars\n",
      "  epsilon = np.sqrt(8 * rho / (r - 1))\n"
     ]
    },
    {
     "name": "stdout",
     "output_type": "stream",
     "text": [
      "Recording:  Calculating full marginal query\n",
      "Recording:  Calculating canonical query set\n",
      "Calculating canonical queries\n"
     ]
    },
    {
     "name": "stderr",
     "output_type": "stream",
     "text": [
      "  0%|                                                                                                                | 0/8 [00:00<?, ?it/s]\n",
      "4it [00:00, 7090.96it/s]\n",
      "\n",
      "2it [00:00, 8405.42it/s]\n",
      "\n",
      "4it [00:00, 13865.47it/s]\n",
      "\n",
      "4it [00:00, 15210.53it/s]\n",
      "\n",
      "2it [00:00, 12318.07it/s]\n",
      "\n",
      "2it [00:00, 8507.72it/s]\n",
      "\n",
      "2it [00:00, 7788.87it/s]\n",
      "100%|███████████████████████████████████████████████████████████████████████████████████████████████████████| 8/8 [00:00<00:00, 466.14it/s]\n",
      "100%|█████████████████████████████████████████████████████████████████████████████████████████████████████| 3/3 [00:00<00:00, 60494.77it/s]\n"
     ]
    },
    {
     "name": "stdout",
     "output_type": "stream",
     "text": [
      "Calculating new queries\n"
     ]
    },
    {
     "name": "stderr",
     "output_type": "stream",
     "text": [
      "100%|█████████████████████████████████████████████████████████████████████████████████████████████████████| 4/4 [00:00<00:00, 11949.58it/s]\n"
     ]
    },
    {
     "name": "stdout",
     "output_type": "stream",
     "text": [
      "Canonical queries: 7\n",
      "Domain d: 4\n",
      "Nodes after elimination: {('C', 'D'), ('D',), ('B', 'D'), ('A', 'D')}\n",
      "Edges after elimination: {(('A', 'D'), ('D',)): {'D'}, (('C', 'D'), ('D',)): {'D'}, (('B', 'D'), ('D',)): {'D'}}\n",
      "Nodes after removing: {('C', 'D'), ('B', 'D'), ('A', 'D')}\n",
      "Edges after removing: {(('C', 'D'), ('B', 'D')): {'D'}, (('C', 'D'), ('A', 'D')): {'D'}}\n",
      "Suff stat d: 7\n",
      "Lambda d: 7\n",
      "[TreeNode(variables=('B', 'D'), parent=('C', 'D'), children=[]), TreeNode(variables=('A', 'D'), parent=('C', 'D'), children=[])]\n",
      "1\n",
      "Junction tree width: 2\n",
      "Recording:  Laplace approximation\n",
      "Attempting Laplace approximation, 0th try\n",
      "Attempting Laplace approximation, 1th try\n",
      "Attempting Laplace approximation, 2th try\n",
      "Attempting Laplace approximation, 3th try\n",
      "Attempting Laplace approximation, 4th try\n",
      "Attempting Laplace approximation, 5th try\n",
      "Attempting Laplace approximation, 6th try\n",
      "Attempting Laplace approximation, 7th try\n",
      "Attempting Laplace approximation, 8th try\n",
      "Attempting Laplace approximation, 9th try\n"
     ]
    },
    {
     "ename": "ConvergenceException",
     "evalue": "Minimize function failed to converge with 10 retries",
     "output_type": "error",
     "traceback": [
      "\u001b[0;31m---------------------------------------------------------------------------\u001b[0m",
      "\u001b[0;31mConvergenceException\u001b[0m                      Traceback (most recent call last)",
      "Cell \u001b[0;32mIn [7], line 8\u001b[0m\n\u001b[1;32m      1\u001b[0m column_feature_set \u001b[38;5;241m=\u001b[39m [\n\u001b[1;32m      2\u001b[0m     (\u001b[38;5;124m'\u001b[39m\u001b[38;5;124mA\u001b[39m\u001b[38;5;124m'\u001b[39m, \u001b[38;5;124m'\u001b[39m\u001b[38;5;124mD\u001b[39m\u001b[38;5;124m'\u001b[39m), \n\u001b[1;32m      3\u001b[0m     (\u001b[38;5;124m'\u001b[39m\u001b[38;5;124mB\u001b[39m\u001b[38;5;124m'\u001b[39m, \u001b[38;5;124m'\u001b[39m\u001b[38;5;124mD\u001b[39m\u001b[38;5;124m'\u001b[39m), \n\u001b[1;32m      4\u001b[0m     (\u001b[38;5;124m'\u001b[39m\u001b[38;5;124mC\u001b[39m\u001b[38;5;124m'\u001b[39m, \u001b[38;5;124m'\u001b[39m\u001b[38;5;124mD\u001b[39m\u001b[38;5;124m'\u001b[39m), \n\u001b[1;32m      5\u001b[0m ]\n\u001b[1;32m      7\u001b[0m model \u001b[38;5;241m=\u001b[39m NapsuMQModel()\n\u001b[0;32m----> 8\u001b[0m result \u001b[38;5;241m=\u001b[39m \u001b[43mmodel\u001b[49m\u001b[38;5;241;43m.\u001b[39;49m\u001b[43mfit\u001b[49m\u001b[43m(\u001b[49m\n\u001b[1;32m      9\u001b[0m \u001b[43m    \u001b[49m\u001b[43mdata\u001b[49m\u001b[38;5;241;43m=\u001b[39;49m\u001b[43mdataset\u001b[49m\u001b[43m,\u001b[49m\n\u001b[1;32m     10\u001b[0m \u001b[43m    \u001b[49m\u001b[43mdataset_name\u001b[49m\u001b[38;5;241;43m=\u001b[39;49m\u001b[38;5;124;43m\"\u001b[39;49m\u001b[38;5;124;43mbinary4d\u001b[39;49m\u001b[38;5;124;43m\"\u001b[39;49m\u001b[43m,\u001b[49m\n\u001b[1;32m     11\u001b[0m \u001b[43m    \u001b[49m\u001b[43mrng\u001b[49m\u001b[38;5;241;43m=\u001b[39;49m\u001b[43mrng\u001b[49m\u001b[43m,\u001b[49m\n\u001b[1;32m     12\u001b[0m \u001b[43m    \u001b[49m\u001b[43mepsilon\u001b[49m\u001b[38;5;241;43m=\u001b[39;49m\u001b[38;5;241;43m50\u001b[39;49m\u001b[43m,\u001b[49m\n\u001b[1;32m     13\u001b[0m \u001b[43m    \u001b[49m\u001b[43mdelta\u001b[49m\u001b[38;5;241;43m=\u001b[39;49m\u001b[43m(\u001b[49m\u001b[43mn\u001b[49m\u001b[43m \u001b[49m\u001b[38;5;241;43m*\u001b[39;49m\u001b[38;5;241;43m*\u001b[39;49m\u001b[43m \u001b[49m\u001b[43m(\u001b[49m\u001b[38;5;241;43m-\u001b[39;49m\u001b[38;5;241;43m2\u001b[39;49m\u001b[43m)\u001b[49m\u001b[43m)\u001b[49m\u001b[43m,\u001b[49m\n\u001b[1;32m     14\u001b[0m \u001b[43m    \u001b[49m\u001b[43mcolumn_feature_set\u001b[49m\u001b[38;5;241;43m=\u001b[39;49m\u001b[43mcolumn_feature_set\u001b[49m\u001b[43m,\u001b[49m\n\u001b[1;32m     15\u001b[0m \u001b[43m    \u001b[49m\u001b[43muse_laplace_approximation\u001b[49m\u001b[38;5;241;43m=\u001b[39;49m\u001b[38;5;28;43;01mTrue\u001b[39;49;00m\n\u001b[1;32m     16\u001b[0m \u001b[43m)\u001b[49m\n",
      "File \u001b[0;32m~/projects/gradu/src/napsu_mq/napsu_mq.py:169\u001b[0m, in \u001b[0;36mNapsuMQModel.fit\u001b[0;34m(self, data, dataset_name, rng, epsilon, delta, **kwargs)\u001b[0m\n\u001b[1;32m    165\u001b[0m approx_rng, mcmc_rng \u001b[38;5;241m=\u001b[39m jax\u001b[38;5;241m.\u001b[39mrandom\u001b[38;5;241m.\u001b[39msplit(inference_rng, \u001b[38;5;241m2\u001b[39m)\n\u001b[1;32m    167\u001b[0m pid \u001b[38;5;241m=\u001b[39m timer\u001b[38;5;241m.\u001b[39mstart(\u001b[38;5;124mf\u001b[39m\u001b[38;5;124m\"\u001b[39m\u001b[38;5;124mLaplace approximation\u001b[39m\u001b[38;5;124m\"\u001b[39m, \u001b[38;5;241m*\u001b[39m\u001b[38;5;241m*\u001b[39mtimer_meta)\n\u001b[0;32m--> 169\u001b[0m laplace_approx, success \u001b[38;5;241m=\u001b[39m \u001b[43mmei\u001b[49m\u001b[38;5;241;43m.\u001b[39;49m\u001b[43mrun_numpyro_laplace_approximation\u001b[49m\u001b[43m(\u001b[49m\u001b[43mapprox_rng\u001b[49m\u001b[43m,\u001b[49m\u001b[43m \u001b[49m\u001b[43mdp_suff_stat\u001b[49m\u001b[43m,\u001b[49m\u001b[43m \u001b[49m\u001b[43mn\u001b[49m\u001b[43m,\u001b[49m\u001b[43m \u001b[49m\u001b[43msigma_DP\u001b[49m\u001b[43m,\u001b[49m\n\u001b[1;32m    170\u001b[0m \u001b[43m                                                                \u001b[49m\u001b[43mmnjax\u001b[49m\u001b[43m)\u001b[49m\n\u001b[1;32m    172\u001b[0m timer\u001b[38;5;241m.\u001b[39mstop(pid)\n\u001b[1;32m    174\u001b[0m pid \u001b[38;5;241m=\u001b[39m timer\u001b[38;5;241m.\u001b[39mstart(\u001b[38;5;124mf\u001b[39m\u001b[38;5;124m\"\u001b[39m\u001b[38;5;124mMCMC\u001b[39m\u001b[38;5;124m\"\u001b[39m, \u001b[38;5;241m*\u001b[39m\u001b[38;5;241m*\u001b[39mtimer_meta)\n",
      "File \u001b[0;32m~/projects/gradu/src/napsu_mq/maximum_entropy_inference.py:216\u001b[0m, in \u001b[0;36mrun_numpyro_laplace_approximation\u001b[0;34m(rng, suff_stat, n, sigma_DP, max_ent_dist, prior_mu, prior_sigma, max_retries)\u001b[0m\n\u001b[1;32m    213\u001b[0m         \u001b[38;5;28;01mbreak\u001b[39;00m\n\u001b[1;32m    215\u001b[0m     \u001b[38;5;28;01mif\u001b[39;00m fail_count \u001b[38;5;241m==\u001b[39m max_retries:\n\u001b[0;32m--> 216\u001b[0m         \u001b[38;5;28;01mraise\u001b[39;00m ConvergenceException(\u001b[38;5;124mf\u001b[39m\u001b[38;5;124m\"\u001b[39m\u001b[38;5;124mMinimize function failed to converge with \u001b[39m\u001b[38;5;132;01m{\u001b[39;00mmax_retries\u001b[38;5;132;01m}\u001b[39;00m\u001b[38;5;124m retries\u001b[39m\u001b[38;5;124m\"\u001b[39m)\n\u001b[1;32m    218\u001b[0m prec \u001b[38;5;241m=\u001b[39m jax\u001b[38;5;241m.\u001b[39mhessian(\u001b[38;5;28;01mlambda\u001b[39;00m l: potential_fn({\u001b[38;5;124m\"\u001b[39m\u001b[38;5;124mlambdas\u001b[39m\u001b[38;5;124m\"\u001b[39m: l}))(mean)\n\u001b[1;32m    219\u001b[0m laplace_approx \u001b[38;5;241m=\u001b[39m numpyro\u001b[38;5;241m.\u001b[39mdistributions\u001b[38;5;241m.\u001b[39mMultivariateNormal(loc\u001b[38;5;241m=\u001b[39mmean, precision_matrix\u001b[38;5;241m=\u001b[39mprec)\n",
      "\u001b[0;31mConvergenceException\u001b[0m: Minimize function failed to converge with 10 retries"
     ]
    }
   ],
   "source": [
    "column_feature_set = [\n",
    "    ('A', 'D'), \n",
    "    ('B', 'D'), \n",
    "    ('C', 'D'), \n",
    "]\n",
    "\n",
    "model = NapsuMQModel()\n",
    "result = model.fit(\n",
    "    data=dataset,\n",
    "    dataset_name=\"binary4d\",\n",
    "    rng=rng,\n",
    "    epsilon=50,\n",
    "    delta=(n ** (-2)),\n",
    "    column_feature_set=column_feature_set,\n",
    "    use_laplace_approximation=True\n",
    ")"
   ]
  },
  {
   "cell_type": "code",
   "execution_count": 7,
   "id": "84fffe46",
   "metadata": {},
   "outputs": [],
   "source": [
    "result_path = os.path.join(MODELS, \"napsu_testing_binary4d_all_queries_500e_NUTS_LA.dill\")\n",
    "result.store(result_path)"
   ]
  },
  {
   "cell_type": "code",
   "execution_count": 11,
   "id": "ccd8ad51",
   "metadata": {},
   "outputs": [
    {
     "name": "stdout",
     "output_type": "stream",
     "text": [
      "Generating data with 2000 points and 5 datasets\n"
     ]
    }
   ],
   "source": [
    "napsu_result_read_file = open(os.path.join(MODELS, \"napsu_testing_binary4d_all_queries_500e_NUTS_LA.dill\"), \"rb\")\n",
    "loaded_result = NapsuMQResult.load(napsu_result_read_file)\n",
    "sampling_rng = jax.random.PRNGKey(234513465234)\n",
    "datasets = loaded_result.generate_extended(rng=sampling_rng, num_data_per_parameter_sample=2000, num_parameter_samples=5)"
   ]
  },
  {
   "cell_type": "code",
   "execution_count": 12,
   "id": "8a571b4e",
   "metadata": {},
   "outputs": [
    {
     "data": {
      "text/plain": [
       "[      A  B  C  D\n",
       " 0     0  1  0  1\n",
       " 1     0  1  1  1\n",
       " 2     1  0  0  1\n",
       " 3     1  1  1  1\n",
       " 4     0  1  1  1\n",
       " ...  .. .. .. ..\n",
       " 1995  0  1  0  1\n",
       " 1996  1  1  1  1\n",
       " 1997  0  0  0  0\n",
       " 1998  1  1  1  1\n",
       " 1999  1  0  0  1\n",
       " \n",
       " [2000 rows x 4 columns],\n",
       "       A  B  C  D\n",
       " 0     1  0  0  1\n",
       " 1     0  1  1  1\n",
       " 2     0  1  0  0\n",
       " 3     0  1  0  1\n",
       " 4     0  0  1  0\n",
       " ...  .. .. .. ..\n",
       " 1995  0  0  1  1\n",
       " 1996  1  0  0  1\n",
       " 1997  0  0  1  1\n",
       " 1998  1  1  0  0\n",
       " 1999  1  0  1  1\n",
       " \n",
       " [2000 rows x 4 columns],\n",
       "       A  B  C  D\n",
       " 0     1  1  1  1\n",
       " 1     0  0  0  1\n",
       " 2     0  1  1  1\n",
       " 3     1  1  0  1\n",
       " 4     1  1  0  1\n",
       " ...  .. .. .. ..\n",
       " 1995  1  1  0  1\n",
       " 1996  1  1  1  1\n",
       " 1997  1  0  1  1\n",
       " 1998  0  0  1  1\n",
       " 1999  1  1  0  1\n",
       " \n",
       " [2000 rows x 4 columns],\n",
       "       A  B  C  D\n",
       " 0     1  1  0  0\n",
       " 1     1  1  0  1\n",
       " 2     1  0  0  1\n",
       " 3     1  0  0  1\n",
       " 4     0  0  1  1\n",
       " ...  .. .. .. ..\n",
       " 1995  0  1  1  1\n",
       " 1996  0  0  0  0\n",
       " 1997  1  1  1  1\n",
       " 1998  0  0  1  1\n",
       " 1999  0  0  0  1\n",
       " \n",
       " [2000 rows x 4 columns],\n",
       "       A  B  C  D\n",
       " 0     1  1  0  1\n",
       " 1     0  1  0  0\n",
       " 2     1  1  1  1\n",
       " 3     0  1  0  1\n",
       " 4     0  1  0  0\n",
       " ...  .. .. .. ..\n",
       " 1995  1  1  0  0\n",
       " 1996  0  0  1  1\n",
       " 1997  1  0  1  1\n",
       " 1998  1  0  1  1\n",
       " 1999  1  0  0  1\n",
       " \n",
       " [2000 rows x 4 columns]]"
      ]
     },
     "execution_count": 12,
     "metadata": {},
     "output_type": "execute_result"
    }
   ],
   "source": [
    "datasets"
   ]
  },
  {
   "cell_type": "code",
   "execution_count": null,
   "id": "0a24696e",
   "metadata": {},
   "outputs": [],
   "source": []
  }
 ],
 "metadata": {
  "kernelspec": {
   "display_name": "gradu",
   "language": "python",
   "name": "gradu"
  },
  "language_info": {
   "codemirror_mode": {
    "name": "ipython",
    "version": 3
   },
   "file_extension": ".py",
   "mimetype": "text/x-python",
   "name": "python",
   "nbconvert_exporter": "python",
   "pygments_lexer": "ipython3",
   "version": "3.8.10"
  }
 },
 "nbformat": 4,
 "nbformat_minor": 5
}
